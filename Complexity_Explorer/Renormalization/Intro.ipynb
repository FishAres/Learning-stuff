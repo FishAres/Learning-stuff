{
 "cells": [
  {
   "cell_type": "markdown",
   "metadata": {},
   "source": [
    "### A general set of tools for how theories simplify at different scales\n",
    "\n",
    "Physics in the latter half of the 20th century has mostly been occupied with renormalization.\n",
    "\n",
    "**Example - Macroeconomics**\n",
    "\n",
    "The variables that economists look at each year, like unemployment, GDP, Gini index etc., are abstract measures of incredibly complex smaller-scale systems.\n",
    "\n",
    "If we could perfectly simulate every detail, we could get an accurate simulation of the evolution of the entire system. But on top of being virtually impossible, it's also not really useful. It's easy to miss where the interesting behavior emerges if you track every single fundamental part of the system, and therefore also easy to miss where to intervene. \n",
    "\n",
    "Many sciences thus \"coarse-grain\" the more detailed components of a theory to build a theory of how things work at a larger scale and at higher abstraction."
   ]
  },
  {
   "cell_type": "markdown",
   "metadata": {},
   "source": [
    "### Coarse-graining\n",
    "\n",
    "A rule that maps {s} -> {s'}, where {s} > {s'}.\n",
    "\n",
    "E.g. k-means clustering maps from the N-dimensional space the data are embedded in, to the set of clusters."
   ]
  },
  {
   "cell_type": "markdown",
   "metadata": {},
   "source": [
    "### Relation to Information Theory\n",
    "\n",
    "Remember\n",
    "\n",
    "$$ H_{p_i} = - \\sum_{i=1}^{N} p_i \\log_2 p_i \\ \\ (1) $$ \n",
    "\n",
    "**Axioms**\n",
    "\n",
    "- Maximum uncertainty should be when all options are equally likely (uniform)\n",
    "\n",
    "- Maximum certainty should have entropy of 0\n",
    "\n",
    "- Symmetry: should be invariant for distributions that have the same properties \n",
    "\n",
    "These aren't enough to uniquely identify a function, however. You need a coarse-graining axiom:\n",
    "\n",
    "- H(A,B,C) $\\geq$ H(A,B|C) + P(B,C)H(B,C)\n",
    "-> The uncertainty about the fine grain version of the same as the uncertainty of the coarse grain system plus the entropy of the fine grain distinctions.\n",
    "\n",
    "Only (1) obeys these axioms. This also shows that when you coarse-grain a system, your uncertainty goes down."
   ]
  },
  {
   "cell_type": "markdown",
   "metadata": {},
   "source": [
    "Renormalization kicks in when you want to apply a theory to coarse-grained descriptions, and see how they connect to the fundamental level. (relation to category theory?)"
   ]
  },
  {
   "cell_type": "code",
   "execution_count": null,
   "metadata": {},
   "outputs": [],
   "source": []
  }
 ],
 "metadata": {
  "kernelspec": {
   "display_name": "Julia 1.0.2",
   "language": "julia",
   "name": "julia-1.0"
  },
  "language_info": {
   "file_extension": ".jl",
   "mimetype": "application/julia",
   "name": "julia",
   "version": "1.0.2"
  }
 },
 "nbformat": 4,
 "nbformat_minor": 2
}
