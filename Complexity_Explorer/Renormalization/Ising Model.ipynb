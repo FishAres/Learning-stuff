{
 "cells": [
  {
   "cell_type": "markdown",
   "metadata": {},
   "source": [
    "The Ising model is not really \"causal\"; i.e. it doesn't really model what would happen if you flip one node in the lattice. It describes the *tendency* of nodes to have the same state.\n",
    "\n",
    "$$ P({\\sigma}) = \\frac{e^{\\beta \\sum{J_{i,j}\\sigma_i \\sigma_j } } }{Z_\\beta} $$"
   ]
  },
  {
   "cell_type": "markdown",
   "metadata": {},
   "source": [
    "Here, J can be thought of as the adjacency matrix. So the sum is over the product of all the neighbor pairs (doesn't include diagonal pairs). Informally, this sum counts the pairs that are in the same state and subtracts those in the opposite state. $\\beta$ is somewhat like an inverse temperature. So the probability of being in a certain configuration is highly increased when you increase it. \n",
    "\n",
    "The Ising model has been expanded into all kinds of systems.\n",
    "\n",
    "### How does the Ising model start behaving if you coarse-grain the lattice?"
   ]
  },
  {
   "cell_type": "markdown",
   "metadata": {},
   "source": [
    "using Plots"
   ]
  },
  {
   "cell_type": "code",
   "execution_count": null,
   "metadata": {},
   "outputs": [],
   "source": []
  }
 ],
 "metadata": {
  "kernelspec": {
   "display_name": "Julia 1.0.2",
   "language": "julia",
   "name": "julia-1.0"
  },
  "language_info": {
   "file_extension": ".jl",
   "mimetype": "application/julia",
   "name": "julia",
   "version": "1.0.2"
  }
 },
 "nbformat": 4,
 "nbformat_minor": 2
}
