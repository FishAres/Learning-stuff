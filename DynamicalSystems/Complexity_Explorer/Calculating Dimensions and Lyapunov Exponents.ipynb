{
 "cells": [
  {
   "cell_type": "code",
   "execution_count": 1,
   "metadata": {},
   "outputs": [
    {
     "name": "stderr",
     "output_type": "stream",
     "text": [
      "┌ Info: Recompiling stale cache file C:\\Users\\ares\\.julia\\compiled\\v1.0\\DifferentialEquations\\UQdwS.ji for DifferentialEquations [0c46a032-eb83-5123-abaf-570d42b7fbaa]\n",
      "└ @ Base loading.jl:1190\n",
      "WARNING: using PyPlot.axes in module Main conflicts with an existing identifier.\n"
     ]
    }
   ],
   "source": [
    "using DifferentialEquations, DynamicalSystems\n",
    "using PyPlot"
   ]
  },
  {
   "cell_type": "markdown",
   "metadata": {},
   "source": [
    "## Computing Capacity and Correlation Dimensions\n",
    "\n",
    "### Capacity dimension:\n",
    "$$ d_{cap} = \\lim_{\\epsilon -> 0+}\\frac{log(N(\\epsilon))}{log(1/\\epsilon)} $$"
   ]
  },
  {
   "cell_type": "markdown",
   "metadata": {},
   "source": [
    "Numerical approximation to get around the limit (which can be bothersome)\n",
    "\n",
    "For an object of dimension $d_{cap}$:\n",
    "\n",
    "$$ N(\\epsilon) = \\frac{k}{\\epsilon^{d_{cap}}} $$\n",
    "\n",
    "Solving for $d_{cap}$:\n",
    "\n",
    "$$ log(N(\\epsilon)) = d_{cap}\\log(1/\\epsilon) $$"
   ]
  },
  {
   "cell_type": "markdown",
   "metadata": {},
   "source": [
    "If a straight line appears on a log/log line, then its coefficient is an approximation of the capacity dimension.\n",
    "\n",
    "Overlaying a matrix on top of the picture of an attractor \n",
    "\n",
    "x coord, z coord -> index in the matrix"
   ]
  },
  {
   "cell_type": "markdown",
   "metadata": {},
   "source": [
    "### Correlation dimension\n",
    "\n",
    "Less computationally expensive. \n",
    "\n",
    "Pick a point in the attractor, and draw a ball of radius $\\epsilon$, then count the number of points in that region: an approximation of how often the attractor visits that region of phase space.\n",
    "\n",
    "$$ N_x(\\epsilon) \\propto \\epsilon^{d_p} $$\n",
    "\n",
    "What you really want to do is average the $N_x$ over many x's. This typically also scales as a power law.\n",
    "\n",
    "$$ d_{corr} \\leqslant d_{capacity} $$"
   ]
  },
  {
   "cell_type": "markdown",
   "metadata": {},
   "source": [
    "## Computing Lyapunov Exponents\n",
    "\n",
    "- One exponent per dimension in the system\n",
    "\n",
    "- At least one exponent is positive if the system is chaotic \n",
    "\n",
    "- If the system is dissipative, the sum of exponents is negative\n",
    "\n",
    "Exponents are invariant to diffeomorphisms of the attractor (topology must be preserved). \n",
    "\n",
    "*Variational equations* used to compute exponents when you know the dynamics"
   ]
  },
  {
   "cell_type": "markdown",
   "metadata": {},
   "source": [
    "**Wolf's algorithm**\n",
    "\n",
    "- pick neighbors\n",
    "- track trajectories\n",
    "- compute $\\lambda$ when distance grows to a certain level\n",
    "- renormalizes by finding the distance the nearest neighbor has gone \n",
    "\n",
    "$$ \\lambda_1 \\approx \\frac{1}{N\\Delta t} \\sum \\log_2 \\frac{ L'_i}{L_i} $$"
   ]
  },
  {
   "cell_type": "markdown",
   "metadata": {},
   "source": [
    "$\\lambda_1$ captures the long-time average \"stretchiness\" as you move along the attractor.\n",
    "\n",
    "Using future points as neighbors is fine if your system is autonomous (same time arrow).\n",
    "\n",
    "Wolf algorithm is not at all robust to noise. Kantz family of algorithms deals with this by averaging across multiple points in some distance $\\epsilon$ and following their trajectories. The ratio of the average distances between points in each time step is the \"stretching factor\".\n",
    "\n",
    "This looks interesting in a time vs log-$\\Delta$s curve: it shows the scaling region behavior which characterizes the exponent. Very small and very long time difference are flat.\n",
    "\n",
    "**Note**\n",
    "\n",
    "These analyses rarely look good in real life. For example, there might not be an obvious line or anything meaningful in the scaling region, but an arbitrary statistic like r-squared may show one. This means that there always needs to be a person in the loop to decide if the analyses are meaningful."
   ]
  },
  {
   "cell_type": "markdown",
   "metadata": {},
   "source": []
  }
 ],
 "metadata": {
  "kernelspec": {
   "display_name": "Julia 1.0.2",
   "language": "julia",
   "name": "julia-1.0"
  },
  "language_info": {
   "file_extension": ".jl",
   "mimetype": "application/julia",
   "name": "julia",
   "version": "1.0.2"
  }
 },
 "nbformat": 4,
 "nbformat_minor": 2
}
