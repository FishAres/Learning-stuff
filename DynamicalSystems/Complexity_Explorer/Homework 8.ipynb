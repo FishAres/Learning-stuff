{
 "cells": [
  {
   "cell_type": "code",
   "execution_count": 17,
   "metadata": {},
   "outputs": [],
   "source": [
    "import Base: read\n",
    "D = read(\"amplitude.dat\")\n",
    "D = convert(Array{Float64, 1}, D);"
   ]
  },
  {
   "cell_type": "code",
   "execution_count": 9,
   "metadata": {},
   "outputs": [],
   "source": [
    "using LinearAlgebra, Plots"
   ]
  },
  {
   "cell_type": "code",
   "execution_count": 39,
   "metadata": {},
   "outputs": [
    {
     "name": "stdout",
     "output_type": "stream",
     "text": [
      "(50000,)\n"
     ]
    }
   ],
   "source": [
    "plot(D)\n",
    "println(size(D))"
   ]
  },
  {
   "cell_type": "code",
   "execution_count": 91,
   "metadata": {},
   "outputs": [
    {
     "data": {
      "text/plain": [
       "takens_embedding (generic function with 1 method)"
      ]
     },
     "execution_count": 91,
     "metadata": {},
     "output_type": "execute_result"
    }
   ],
   "source": [
    "function takens_embedding(data, τ, dim)\n",
    "    max_len = Int64(floor(length(data)/τ))\n",
    "    reconstructed = zeros(dim, max_len)\n",
    "    lens = zeros(dim)\n",
    "    for k = 1:dim\n",
    "        tmp = data[τ:k+τ:max_len]\n",
    "        reconstructed[k,1:length(tmp)] = tmp\n",
    "        lens[k] = length(tmp)\n",
    "    end\n",
    "    return reconstructed, Array{Int64, 1}(lens)\n",
    "end"
   ]
  },
  {
   "cell_type": "code",
   "execution_count": 92,
   "metadata": {},
   "outputs": [],
   "source": [
    "τ = 8\n",
    "m = 7\n",
    "out, lens = takens_embedding(D, τ, m);"
   ]
  },
  {
   "cell_type": "code",
   "execution_count": 97,
   "metadata": {},
   "outputs": [
    {
     "name": "stderr",
     "output_type": "stream",
     "text": [
      "WARNING: using PyPlot.axes in module Main conflicts with an existing identifier.\n",
      "WARNING: using PyPlot.gray in module Main conflicts with an existing identifier.\n",
      "WARNING: using PyPlot.twinx in module Main conflicts with an existing identifier.\n",
      "WARNING: using PyPlot.grid in module Main conflicts with an existing identifier.\n",
      "WARNING: using PyPlot.hexbin in module Main conflicts with an existing identifier.\n",
      "WARNING: using PyPlot.contour in module Main conflicts with an existing identifier.\n",
      "WARNING: using PyPlot.scatter in module Main conflicts with an existing identifier.\n",
      "WARNING: using PyPlot.contourf in module Main conflicts with an existing identifier.\n",
      "WARNING: using PyPlot.barh in module Main conflicts with an existing identifier.\n",
      "WARNING: using PyPlot.savefig in module Main conflicts with an existing identifier.\n",
      "WARNING: using PyPlot.pie in module Main conflicts with an existing identifier.\n",
      "WARNING: using PyPlot.bar in module Main conflicts with an existing identifier.\n",
      "WARNING: using PyPlot.plot in module Main conflicts with an existing identifier.\n",
      "WARNING: using PyPlot.quiver in module Main conflicts with an existing identifier.\n",
      "WARNING: using PyPlot.spy in module Main conflicts with an existing identifier.\n",
      "WARNING: using PyPlot.text in module Main conflicts with an existing identifier.\n",
      "WARNING: using PyPlot.boxplot in module Main conflicts with an existing identifier.\n",
      "WARNING: using PyPlot.arrow in module Main conflicts with an existing identifier.\n"
     ]
    }
   ],
   "source": [
    "using PyPlot"
   ]
  },
  {
   "cell_type": "code",
   "execution_count": 98,
   "metadata": {},
   "outputs": [
    {
     "data": {
      "image/png": "[encoded data removed]",
      "text/plain": [
       "Figure(PyObject <Figure size 640x480 with 1 Axes>)"
      ]
     },
     "metadata": {},
     "output_type": "display_data"
    },
    {
     "data": {
      "text/plain": [
       "1-element Array{PyCall.PyObject,1}:\n",
       " PyObject <matplotlib.lines.Line2D object at 0x0000000020F97D30>"
      ]
     },
     "execution_count": 98,
     "metadata": {},
     "output_type": "execute_result"
    }
   ],
   "source": [
    "PyPlot.plot(out[1,1:lens[2]], out[2,1:lens[2]],  \".\")"
   ]
  },
  {
   "cell_type": "code",
   "execution_count": 46,
   "metadata": {},
   "outputs": [
    {
     "data": {
      "text/plain": [
       "((3125,), (2084,))"
      ]
     },
     "execution_count": 46,
     "metadata": {},
     "output_type": "execute_result"
    }
   ],
   "source": [
    "size(a), size(b)"
   ]
  },
  {
   "cell_type": "code",
   "execution_count": 48,
   "metadata": {},
   "outputs": [
    {
     "data": {
      "image/svg+xml": [
       "<?xml version=\"1.0\" encoding=\"utf-8\"?>\n",
       "<svg xmlns=\"http://www.w3.org/2000/svg\" xmlns:xlink=\"http://www.w3.org/1999/xlink\" width=\"600\" height=\"400\" viewBox=\"0 0 2400 1600\">\n",
       "<defs>\n",
       "  <clipPath id=\"clip5300\">\n",
       "    <rect x=\"0\" y=\"0\" width=\"2000\" height=\"2000\"/>\n",
       "  </clipPath>\n",
       "</defs>\n",
       "<defs>\n",
       "  <clipPath id=\"clip5301\">\n",
       "    <rect x=\"0\" y=\"0\" width=\"2400\" height=\"1600\"/>\n",
       "  </clipPath>\n",
       "</defs>\n",
       "<polygon clip-path=\"url(#clip5301)\" points=\"\n",
       "0,1600 2400,1600 2400,0 0,0 \n",
       "  \" fill=\"#ffffff\" fill-rule=\"evenodd\" fill-opacity=\"1\"/>\n",
       "<defs>\n",
       "  <clipPath id=\"clip5302\">\n",
       "    <rect x=\"480\" y=\"0\" width=\"1681\" height=\"1600\"/>\n",
       "  </clipPath>\n",
       "</defs>\n",
       "<polygon clip-path=\"url(#clip5301)\" points=\"\n",
       "148.013,1503.47 2321.26,1503.47 2321.26,47.2441 148.013,47.2441 \n",
       "  \" fill=\"#ffffff\" fill-rule=\"evenodd\" fill-opacity=\"1\"/>\n",
       "<defs>\n",
       "  <clipPath id=\"clip5303\">\n",
       "    <rect x=\"148\" y=\"47\" width=\"2174\" height=\"1457\"/>\n",
       "  </clipPath>\n",
       "</defs>\n",
       "<polyline clip-path=\"url(#clip5303)\" style=\"stroke:#000000; stroke-width:2; stroke-opacity:0.1; fill:none\" points=\"\n",
       "  455.548,1503.47 455.548,47.2441 \n",
       "  \"/>\n",
       "<polyline clip-path=\"url(#clip5303)\" style=\"stroke:#000000; stroke-width:2; stroke-opacity:0.1; fill:none\" points=\"\n",
       "  865.594,1503.47 865.594,47.2441 \n",
       "  \"/>\n",
       "<polyline clip-path=\"url(#clip5303)\" style=\"stroke:#000000; stroke-width:2; stroke-opacity:0.1; fill:none\" points=\"\n",
       "  1275.64,1503.47 1275.64,47.2441 \n",
       "  \"/>\n",
       "<polyline clip-path=\"url(#clip5303)\" style=\"stroke:#000000; stroke-width:2; stroke-opacity:0.1; fill:none\" points=\"\n",
       "  1685.69,1503.47 1685.69,47.2441 \n",
       "  \"/>\n",
       "<polyline clip-path=\"url(#clip5303)\" style=\"stroke:#000000; stroke-width:2; stroke-opacity:0.1; fill:none\" points=\"\n",
       "  2095.73,1503.47 2095.73,47.2441 \n",
       "  \"/>\n",
       "<polyline clip-path=\"url(#clip5303)\" style=\"stroke:#000000; stroke-width:2; stroke-opacity:0.1; fill:none\" points=\"\n",
       "  148.013,1297.4 2321.26,1297.4 \n",
       "  \"/>\n",
       "<polyline clip-path=\"url(#clip5303)\" style=\"stroke:#000000; stroke-width:2; stroke-opacity:0.1; fill:none\" points=\"\n",
       "  148.013,1022.64 2321.26,1022.64 \n",
       "  \"/>\n",
       "<polyline clip-path=\"url(#clip5303)\" style=\"stroke:#000000; stroke-width:2; stroke-opacity:0.1; fill:none\" points=\"\n",
       "  148.013,747.883 2321.26,747.883 \n",
       "  \"/>\n",
       "<polyline clip-path=\"url(#clip5303)\" style=\"stroke:#000000; stroke-width:2; stroke-opacity:0.1; fill:none\" points=\"\n",
       "  148.013,473.123 2321.26,473.123 \n",
       "  \"/>\n",
       "<polyline clip-path=\"url(#clip5303)\" style=\"stroke:#000000; stroke-width:2; stroke-opacity:0.1; fill:none\" points=\"\n",
       "  148.013,198.362 2321.26,198.362 \n",
       "  \"/>\n",
       "<polyline clip-path=\"url(#clip5301)\" style=\"stroke:#000000; stroke-width:4; stroke-opacity:1; fill:none\" points=\"\n",
       "  148.013,1503.47 2321.26,1503.47 \n",
       "  \"/>\n",
       "<polyline clip-path=\"url(#clip5301)\" style=\"stroke:#000000; stroke-width:4; stroke-opacity:1; fill:none\" points=\"\n",
       "  148.013,1503.47 148.013,47.2441 \n",
       "  \"/>\n",
       "<polyline clip-path=\"url(#clip5301)\" style=\"stroke:#000000; stroke-width:4; stroke-opacity:1; fill:none\" points=\"\n",
       "  455.548,1503.47 455.548,1481.63 \n",
       "  \"/>\n",
       "<polyline clip-path=\"url(#clip5301)\" style=\"stroke:#000000; stroke-width:4; stroke-opacity:1; fill:none\" points=\"\n",
       "  865.594,1503.47 865.594,1481.63 \n",
       "  \"/>\n",
       "<polyline clip-path=\"url(#clip5301)\" style=\"stroke:#000000; stroke-width:4; stroke-opacity:1; fill:none\" points=\"\n",
       "  1275.64,1503.47 1275.64,1481.63 \n",
       "  \"/>\n",
       "<polyline clip-path=\"url(#clip5301)\" style=\"stroke:#000000; stroke-width:4; stroke-opacity:1; fill:none\" points=\"\n",
       "  1685.69,1503.47 1685.69,1481.63 \n",
       "  \"/>\n",
       "<polyline clip-path=\"url(#clip5301)\" style=\"stroke:#000000; stroke-width:4; stroke-opacity:1; fill:none\" points=\"\n",
       "  2095.73,1503.47 2095.73,1481.63 \n",
       "  \"/>\n",
       "<polyline clip-path=\"url(#clip5301)\" style=\"stroke:#000000; stroke-width:4; stroke-opacity:1; fill:none\" points=\"\n",
       "  148.013,1297.4 180.612,1297.4 \n",
       "  \"/>\n",
       "<polyline clip-path=\"url(#clip5301)\" style=\"stroke:#000000; stroke-width:4; stroke-opacity:1; fill:none\" points=\"\n",
       "  148.013,1022.64 180.612,1022.64 \n",
       "  \"/>\n",
       "<polyline clip-path=\"url(#clip5301)\" style=\"stroke:#000000; stroke-width:4; stroke-opacity:1; fill:none\" points=\"\n",
       "  148.013,747.883 180.612,747.883 \n",
       "  \"/>\n",
       "<polyline clip-path=\"url(#clip5301)\" style=\"stroke:#000000; stroke-width:4; stroke-opacity:1; fill:none\" points=\"\n",
       "  148.013,473.123 180.612,473.123 \n",
       "  \"/>\n",
       "<polyline clip-path=\"url(#clip5301)\" style=\"stroke:#000000; stroke-width:4; stroke-opacity:1; fill:none\" points=\"\n",
       "  148.013,198.362 180.612,198.362 \n",
       "  \"/>\n",
       "<g clip-path=\"url(#clip5301)\">\n",
       "<text style=\"fill:#000000; fill-opacity:1; font-family:Arial,Helvetica Neue,Helvetica,sans-serif; font-size:48px; text-anchor:middle;\" transform=\"rotate(0, 455.548, 1557.47)\" x=\"455.548\" y=\"1557.47\">35</text>\n",
       "</g>\n",
       "<g clip-path=\"url(#clip5301)\">\n",
       "<text style=\"fill:#000000; fill-opacity:1; font-family:Arial,Helvetica Neue,Helvetica,sans-serif; font-size:48px; text-anchor:middle;\" transform=\"rotate(0, 865.594, 1557.47)\" x=\"865.594\" y=\"1557.47\">40</text>\n",
       "</g>\n",
       "<g clip-path=\"url(#clip5301)\">\n",
       "<text style=\"fill:#000000; fill-opacity:1; font-family:Arial,Helvetica Neue,Helvetica,sans-serif; font-size:48px; text-anchor:middle;\" transform=\"rotate(0, 1275.64, 1557.47)\" x=\"1275.64\" y=\"1557.47\">45</text>\n",
       "</g>\n",
       "<g clip-path=\"url(#clip5301)\">\n",
       "<text style=\"fill:#000000; fill-opacity:1; font-family:Arial,Helvetica Neue,Helvetica,sans-serif; font-size:48px; text-anchor:middle;\" transform=\"rotate(0, 1685.69, 1557.47)\" x=\"1685.69\" y=\"1557.47\">50</text>\n",
       "</g>\n",
       "<g clip-path=\"url(#clip5301)\">\n",
       "<text style=\"fill:#000000; fill-opacity:1; font-family:Arial,Helvetica Neue,Helvetica,sans-serif; font-size:48px; text-anchor:middle;\" transform=\"rotate(0, 2095.73, 1557.47)\" x=\"2095.73\" y=\"1557.47\">55</text>\n",
       "</g>\n",
       "<g clip-path=\"url(#clip5301)\">\n",
       "<text style=\"fill:#000000; fill-opacity:1; font-family:Arial,Helvetica Neue,Helvetica,sans-serif; font-size:48px; text-anchor:end;\" transform=\"rotate(0, 124.013, 1314.9)\" x=\"124.013\" y=\"1314.9\">35</text>\n",
       "</g>\n",
       "<g clip-path=\"url(#clip5301)\">\n",
       "<text style=\"fill:#000000; fill-opacity:1; font-family:Arial,Helvetica Neue,Helvetica,sans-serif; font-size:48px; text-anchor:end;\" transform=\"rotate(0, 124.013, 1040.14)\" x=\"124.013\" y=\"1040.14\">40</text>\n",
       "</g>\n",
       "<g clip-path=\"url(#clip5301)\">\n",
       "<text style=\"fill:#000000; fill-opacity:1; font-family:Arial,Helvetica Neue,Helvetica,sans-serif; font-size:48px; text-anchor:end;\" transform=\"rotate(0, 124.013, 765.383)\" x=\"124.013\" y=\"765.383\">45</text>\n",
       "</g>\n",
       "<g clip-path=\"url(#clip5301)\">\n",
       "<text style=\"fill:#000000; fill-opacity:1; font-family:Arial,Helvetica Neue,Helvetica,sans-serif; font-size:48px; text-anchor:end;\" transform=\"rotate(0, 124.013, 490.623)\" x=\"124.013\" y=\"490.623\">50</text>\n",
       "</g>\n",
       "<g clip-path=\"url(#clip5301)\">\n",
       "<text style=\"fill:#000000; fill-opacity:1; font-family:Arial,Helvetica Neue,Helvetica,sans-serif; font-size:48px; text-anchor:end;\" transform=\"rotate(0, 124.013, 215.862)\" x=\"124.013\" y=\"215.862\">55</text>\n",
       "</g>\n",
       "<polyline clip-path=\"url(#clip5303)\" style=\"stroke:#009af9; stroke-width:4; stroke-opacity:1; fill:none\" points=\"\n",
       "  209.52,1462.26 1357.65,1462.26 209.52,253.314 2013.72,1462.26 209.52,692.931 209.52,1462.26 1357.65,747.883 209.52,198.362 2259.75,1462.26 1275.64,692.931 \n",
       "  209.52,1462.26 1357.65,747.883 209.52,253.314 1685.69,1462.26 1275.64,692.931 209.52,1462.26 1357.65,1462.26 209.52,253.314 2013.72,1462.26 209.52,692.931 \n",
       "  209.52,1462.26 1357.65,747.883 209.52,308.267 1521.67,1462.26 209.52,692.931 209.52,1462.26 1357.65,747.883 209.52,473.123 1767.7,1462.26 209.52,692.931 \n",
       "  209.52,1462.26 1357.65,528.075 209.52,88.4582 1931.72,1462.26 1603.68,692.931 209.52,1462.26 1357.65,528.075 209.52,308.267 1685.69,1462.26 1275.64,692.931 \n",
       "  209.52,1462.26 1357.65,1462.26 209.52,308.267 1767.7,1462.26 1603.68,692.931 209.52,1462.26 1357.65,1462.26 209.52,473.123 2259.75,1462.26 209.52,692.931 \n",
       "  209.52,1462.26 1357.65,747.883 209.52,528.075 1603.68,1462.26 1603.68,692.931 209.52,1462.26 1357.65,1462.26 209.52,473.123 2177.74,1462.26 1275.64,692.931 \n",
       "  209.52,1462.26 1357.65,747.883 209.52,363.219 1931.72,1462.26 1603.68,692.931 209.52,1462.26 1357.65,747.883 209.52,198.362 1849.71,1462.26 209.52,692.931 \n",
       "  209.52,1462.26 1357.65,1462.26 209.52,418.171 1603.68,1462.26 1275.64,692.931 209.52,1462.26 1357.65,747.883 209.52,253.314 1603.68,1462.26 1275.64,692.931 \n",
       "  209.52,1462.26 1357.65,747.883 209.52,88.4582 1931.72,1462.26 209.52,692.931 209.52,1462.26 1357.65,528.075 209.52,363.219 1521.67,1462.26 209.52,692.931 \n",
       "  209.52,1462.26 1357.65,747.883 209.52,308.267 1849.71,1462.26 1275.64,692.931 209.52,1462.26 1357.65,1462.26 209.52,418.171 2095.73,1462.26 1275.64,692.931 \n",
       "  209.52,1462.26 1357.65,1462.26 209.52,363.219 1603.68,1462.26 209.52,692.931 209.52,1462.26 1357.65,528.075 209.52,363.219 1767.7,1462.26 209.52,692.931 \n",
       "  209.52,1462.26 1357.65,1462.26 209.52,88.4582 1931.72,1462.26 1275.64,692.931 209.52,1462.26 1357.65,747.883 209.52,308.267 2095.73,1462.26 1603.68,692.931 \n",
       "  209.52,1462.26 1357.65,747.883 209.52,198.362 2259.75,1462.26 209.52,692.931 209.52,1462.26 1357.65,1462.26 209.52,473.123 1849.71,1462.26 1603.68,692.931 \n",
       "  209.52,1462.26 1357.65,747.883 209.52,528.075 1849.71,1462.26 1275.64,692.931 209.52,1462.26 1357.65,747.883 209.52,88.4582 1931.72,1462.26 1603.68,692.931 \n",
       "  209.52,1462.26 1357.65,1462.26 209.52,363.219 2259.75,1462.26 209.52,692.931 209.52,1462.26 1357.65,747.883 209.52,418.171 1849.71,1462.26 1603.68,692.931 \n",
       "  209.52,1462.26 1357.65,747.883 209.52,143.41 1849.71,1462.26 209.52,692.931 209.52,1462.26 1357.65,528.075 209.52,418.171 2177.74,1462.26 1603.68,692.931 \n",
       "  209.52,1462.26 1357.65,528.075 209.52,528.075 2013.72,1462.26 1275.64,692.931 209.52,1462.26 1357.65,1462.26 209.52,473.123 2259.75,1462.26 1603.68,692.931 \n",
       "  209.52,1462.26 1357.65,1462.26 209.52,253.314 1931.72,1462.26 1275.64,692.931 209.52,1462.26 1357.65,747.883 209.52,418.171 1685.69,1462.26 1275.64,692.931 \n",
       "  209.52,1462.26 1357.65,528.075 209.52,143.41 2095.73,1462.26 209.52,692.931 209.52,1462.26 1357.65,747.883 209.52,198.362 1767.7,1462.26 209.52,692.931 \n",
       "  209.52,1462.26 1357.65,747.883 209.52,143.41 2013.72,1462.26 209.52,692.931 209.52,1462.26 1357.65,528.075 209.52,473.123 1603.68,1462.26 1275.64,692.931 \n",
       "  209.52,1462.26 1357.65,747.883 209.52,418.171 2013.72,1462.26 1275.64,692.931 209.52,1462.26 1357.65,1462.26 209.52,528.075 1685.69,1462.26 209.52,692.931 \n",
       "  209.52,1462.26 1357.65,1462.26 209.52,88.4582 1849.71,1462.26 209.52,692.931 209.52,1462.26 1357.65,528.075 209.52,583.027 1767.7,1462.26 1275.64,692.931 \n",
       "  209.52,1462.26 1357.65,1462.26 209.52,473.123 2095.73,1462.26 1275.64,692.931 209.52,1462.26 1357.65,1462.26 209.52,198.362 2177.74,1462.26 209.52,692.931 \n",
       "  209.52,1462.26 1357.65,528.075 209.52,363.219 2259.75,1462.26 1603.68,692.931 209.52,1462.26 1357.65,528.075 209.52,308.267 1603.68,1462.26 1275.64,692.931 \n",
       "  209.52,1462.26 1357.65,747.883 209.52,143.41 1603.68,1462.26 1603.68,692.931 209.52,1462.26 1357.65,747.883 209.52,88.4582 2095.73,1462.26 209.52,692.931 \n",
       "  209.52,1462.26 1357.65,1462.26 209.52,418.171 1603.68,1462.26 1603.68,692.931 209.52,1462.26 1357.65,747.883 209.52,88.4582 2013.72,1462.26 1275.64,692.931 \n",
       "  209.52,1462.26 1357.65,747.883 209.52,143.41 2095.73,1462.26 1275.64,692.931 209.52,1462.26 1357.65,528.075 209.52,363.219 2177.74,1462.26 209.52,692.931 \n",
       "  209.52,1462.26 1357.65,528.075 209.52,198.362 2177.74,1462.26 1603.68,692.931 209.52,1462.26 1357.65,1462.26 209.52,418.171 1767.7,1462.26 1275.64,692.931 \n",
       "  209.52,1462.26 1357.65,747.883 209.52,198.362 1685.69,1462.26 1603.68,692.931 209.52,1462.26 1357.65,747.883 209.52,198.362 2177.74,1462.26 209.52,692.931 \n",
       "  209.52,1462.26 1357.65,1462.26 209.52,583.027 1603.68,1462.26 1603.68,692.931 209.52,1462.26 1357.65,747.883 209.52,418.171 1931.72,1462.26 1275.64,692.931 \n",
       "  209.52,1462.26 1357.65,747.883 209.52,473.123 1767.7,1462.26 1275.64,692.931 209.52,1462.26 1357.65,1462.26 209.52,198.362 1603.68,1462.26 209.52,692.931 \n",
       "  209.52,1462.26 1357.65,747.883 209.52,528.075 1849.71,1462.26 209.52,692.931 209.52,1462.26 1357.65,747.883 209.52,363.219 2259.75,1462.26 1275.64,692.931 \n",
       "  209.52,1462.26 1357.65,528.075 209.52,253.314 1767.7,1462.26 1603.68,692.931 209.52,1462.26 1357.65,528.075 209.52,473.123 1767.7,1462.26 1275.64,692.931 \n",
       "  209.52,1462.26 1357.65,1462.26 209.52,583.027 1685.69,1462.26 1603.68,692.931 209.52,1462.26 1357.65,1462.26 209.52,473.123 1685.69,1462.26 209.52,692.931 \n",
       "  209.52,1462.26 1357.65,528.075 209.52,528.075 1521.67,1462.26 1603.68,692.931 209.52,1462.26 1357.65,528.075 209.52,308.267 1849.71,1462.26 1275.64,692.931 \n",
       "  209.52,1462.26 1357.65,747.883 209.52,363.219 1521.67,1462.26 1603.68,692.931 209.52,1462.26 1357.65,747.883 209.52,528.075 2177.74,1462.26 209.52,692.931 \n",
       "  209.52,1462.26 1357.65,1462.26 209.52,473.123 2177.74,1462.26 1275.64,692.931 209.52,1462.26 1357.65,747.883 209.52,143.41 2095.73,1462.26 1275.64,692.931 \n",
       "  209.52,1462.26 1357.65,1462.26 209.52,308.267 2177.74,1462.26 209.52,692.931 209.52,1462.26 1357.65,1462.26 209.52,253.314 1767.7,1462.26 209.52,692.931 \n",
       "  209.52,1462.26 1357.65,528.075 209.52,253.314 2259.75,1462.26 1275.64,692.931 209.52,1462.26 1357.65,1462.26 209.52,143.41 1849.71,1462.26 1275.64,692.931 \n",
       "  209.52,1462.26 1357.65,1462.26 209.52,143.41 2177.74,1462.26 209.52,692.931 209.52,1462.26 1357.65,747.883 209.52,528.075 1521.67,1462.26 1603.68,692.931 \n",
       "  209.52,1462.26 1357.65,528.075 209.52,143.41 1931.72,1462.26 1275.64,692.931 209.52,1462.26 1357.65,747.883 209.52,583.027 2095.73,1462.26 1603.68,692.931 \n",
       "  209.52,1462.26 1357.65,528.075 209.52,418.171 1603.68,1462.26 209.52,692.931 209.52,1462.26 1357.65,528.075 209.52,88.4582 1603.68,1462.26 209.52,692.931 \n",
       "  209.52,1462.26 1357.65,747.883 209.52,143.41 2095.73,1462.26 1275.64,692.931 209.52,1462.26 1357.65,1462.26 209.52,363.219 2177.74,1462.26 1275.64,692.931 \n",
       "  209.52,1462.26 1357.65,1462.26 209.52,363.219 2177.74,1462.26 209.52,692.931 209.52,1462.26 1357.65,747.883 209.52,198.362 1521.67,1462.26 209.52,692.931 \n",
       "  209.52,1462.26 1357.65,1462.26 209.52,253.314 1767.7,1462.26 1275.64,692.931 209.52,1462.26 1357.65,1462.26 209.52,528.075 1603.68,1462.26 1275.64,692.931 \n",
       "  209.52,1462.26 1357.65,528.075 209.52,473.123 1685.69,1462.26 209.52,692.931 209.52,1462.26 1357.65,1462.26 209.52,253.314 1685.69,1462.26 209.52,692.931 \n",
       "  209.52,1462.26 1357.65,1462.26 209.52,253.314 1849.71,1462.26 1275.64,692.931 209.52,1462.26 1357.65,528.075 209.52,198.362 1603.68,1462.26 1603.68,692.931 \n",
       "  209.52,1462.26 1357.65,528.075 209.52,88.4582 1521.67,1462.26 1275.64,692.931 209.52,1462.26 1357.65,747.883 209.52,143.41 2095.73,1462.26 1603.68,692.931 \n",
       "  209.52,1462.26 1357.65,1462.26 209.52,363.219 2013.72,1462.26 209.52,692.931 209.52,1462.26 1357.65,1462.26 209.52,88.4582 1767.7,1462.26 1603.68,692.931 \n",
       "  209.52,1462.26 1357.65,747.883 209.52,363.219 1521.67,1462.26 1275.64,692.931 209.52,1462.26 1357.65,1462.26 209.52,583.027 1521.67,1462.26 1603.68,692.931 \n",
       "  209.52,1462.26 1357.65,1462.26 209.52,583.027 2095.73,1462.26 209.52,692.931 209.52,1462.26 1357.65,528.075 209.52,473.123 2259.75,1462.26 1603.68,692.931 \n",
       "  209.52,1462.26 1357.65,1462.26 209.52,583.027 1603.68,1462.26 1275.64,692.931 209.52,1462.26 1357.65,747.883 209.52,583.027 2177.74,1462.26 1603.68,692.931 \n",
       "  209.52,1462.26 1357.65,747.883 209.52,528.075 2013.72,1462.26 209.52,692.931 209.52,1462.26 1357.65,528.075 209.52,253.314 1849.71,1462.26 1275.64,692.931 \n",
       "  209.52,1462.26 1357.65,747.883 209.52,418.171 1521.67,1462.26 1275.64,692.931 209.52,1462.26 1357.65,747.883 209.52,253.314 1685.69,1462.26 209.52,692.931 \n",
       "  209.52,1462.26 1357.65,528.075 209.52,143.41 1685.69,1462.26 209.52,692.931 209.52,1462.26 1357.65,747.883 209.52,198.362 1685.69,1462.26 1275.64,692.931 \n",
       "  209.52,1462.26 1357.65,1462.26 209.52,198.362 1603.68,1462.26 1275.64,692.931 209.52,1462.26 1357.65,1462.26 209.52,253.314 1931.72,1462.26 209.52,692.931 \n",
       "  209.52,1462.26 1357.65,528.075 209.52,473.123 1931.72,1462.26 209.52,692.931 209.52,1462.26 1357.65,528.075 209.52,418.171 2013.72,1462.26 1275.64,692.931 \n",
       "  209.52,1462.26 1357.65,747.883 209.52,363.219 2013.72,1462.26 1603.68,692.931 209.52,1462.26 1357.65,747.883 209.52,418.171 2259.75,1462.26 209.52,692.931 \n",
       "  209.52,1462.26 1357.65,1462.26 209.52,88.4582 2259.75,1462.26 1603.68,692.931 209.52,1462.26 1357.65,747.883 209.52,253.314 2177.74,1462.26 1275.64,692.931 \n",
       "  209.52,1462.26 1357.65,747.883 209.52,473.123 1849.71,1462.26 1275.64,692.931 209.52,1462.26 1357.65,528.075 209.52,363.219 1521.67,1462.26 209.52,692.931 \n",
       "  209.52,1462.26 1357.65,528.075 209.52,253.314 2177.74,1462.26 1603.68,692.931 209.52,1462.26 1357.65,1462.26 209.52,363.219 2095.73,1462.26 1275.64,692.931 \n",
       "  209.52,1462.26 1357.65,1462.26 209.52,583.027 1767.7,1462.26 1603.68,692.931 209.52,1462.26 1357.65,747.883 209.52,253.314 1767.7,1462.26 1275.64,692.931 \n",
       "  209.52,1462.26 1357.65,1462.26 209.52,198.362 2177.74,1462.26 1603.68,692.931 209.52,1462.26 1357.65,747.883 209.52,143.41 2259.75,1462.26 1275.64,692.931 \n",
       "  209.52,1462.26 1357.65,747.883 209.52,308.267 2177.74,1462.26 1275.64,692.931 209.52,1462.26 1357.65,528.075 209.52,583.027 1603.68,1462.26 209.52,692.931 \n",
       "  209.52,1462.26 1357.65,747.883 209.52,308.267 2095.73,1462.26 209.52,692.931 209.52,1462.26 1357.65,747.883 209.52,363.219 1849.71,1462.26 209.52,692.931 \n",
       "  209.52,1462.26 1357.65,528.075 209.52,198.362 2177.74,1462.26 1275.64,692.931 209.52,1462.26 1357.65,747.883 209.52,253.314 1521.67,1462.26 1275.64,692.931 \n",
       "  209.52,1462.26 1357.65,1462.26 209.52,88.4582 2013.72,1462.26 209.52,692.931 209.52,1462.26 1357.65,1462.26 209.52,528.075 2177.74,1462.26 209.52,692.931 \n",
       "  209.52,1462.26 1357.65,747.883 209.52,253.314 2013.72,1462.26 1275.64,692.931 209.52,1462.26 1357.65,1462.26 209.52,363.219 1685.69,1462.26 1275.64,692.931 \n",
       "  209.52,1462.26 1357.65,1462.26 209.52,583.027 1521.67,1462.26 209.52,692.931 209.52,1462.26 1357.65,528.075 209.52,253.314 1849.71,1462.26 209.52,692.931 \n",
       "  209.52,1462.26 1357.65,528.075 209.52,528.075 2013.72,1462.26 1275.64,692.931 209.52,1462.26 1357.65,747.883 209.52,363.219 1521.67,1462.26 1603.68,692.931 \n",
       "  209.52,1462.26 1357.65,747.883 209.52,308.267 2177.74,1462.26 209.52,692.931 209.52,1462.26 1357.65,1462.26 209.52,308.267 2259.75,1462.26 209.52,692.931 \n",
       "  209.52,1462.26 1357.65,747.883 209.52,528.075 1521.67,1462.26 1275.64,692.931 209.52,1462.26 1357.65,1462.26 209.52,88.4582 2259.75,1462.26 1275.64,692.931 \n",
       "  209.52,1462.26 1357.65,1462.26 209.52,583.027 1849.71,1462.26 209.52,692.931 209.52,1462.26 1357.65,528.075 209.52,88.4582 1767.7,1462.26 209.52,692.931 \n",
       "  209.52,1462.26 1357.65,1462.26 209.52,198.362 1767.7,1462.26 1275.64,692.931 209.52,1462.26 1357.65,747.883 209.52,363.219 1849.71,1462.26 1275.64,692.931 \n",
       "  209.52,1462.26 1357.65,747.883 209.52,583.027 2259.75,1462.26 209.52,692.931 209.52,1462.26 1357.65,1462.26 209.52,418.171 1685.69,1462.26 209.52,692.931 \n",
       "  209.52,1462.26 1357.65,747.883 209.52,583.027 1521.67,1462.26 1275.64,692.931 209.52,1462.26 1357.65,747.883 209.52,88.4582 1849.71,1462.26 1603.68,692.931 \n",
       "  209.52,1462.26 1357.65,1462.26 209.52,198.362 1685.69,1462.26 1275.64,692.931 209.52,1462.26 1357.65,747.883 209.52,418.171 1521.67,1462.26 1603.68,692.931 \n",
       "  209.52,1462.26 1357.65,747.883 209.52,198.362 1603.68,1462.26 1275.64,692.931 209.52,1462.26 1357.65,528.075 209.52,308.267 2013.72,1462.26 1603.68,692.931 \n",
       "  209.52,1462.26 1357.65,528.075 209.52,583.027 1603.68,1462.26 1275.64,692.931 209.52,1462.26 1357.65,1462.26 209.52,473.123 2259.75,1462.26 1603.68,692.931 \n",
       "  209.52,1462.26 1357.65,1462.26 209.52,583.027 2259.75,1462.26 209.52,692.931 209.52,1462.26 1357.65,747.883 209.52,583.027 1767.7,1462.26 1603.68,692.931 \n",
       "  209.52,1462.26 1357.65,1462.26 209.52,363.219 1849.71,1462.26 1275.64,692.931 209.52,1462.26 1357.65,747.883 209.52,143.41 1931.72,1462.26 1603.68,692.931 \n",
       "  209.52,1462.26 1357.65,747.883 209.52,473.123 2177.74,1462.26 209.52,692.931 209.52,1462.26 1357.65,528.075 209.52,308.267 2095.73,1462.26 1275.64,692.931 \n",
       "  209.52,1462.26 1357.65,747.883 209.52,418.171 1767.7,1462.26 1275.64,692.931 209.52,1462.26 1357.65,747.883 209.52,253.314 2095.73,1462.26 1603.68,692.931 \n",
       "  209.52,1462.26 1357.65,1462.26 209.52,528.075 1521.67,1462.26 209.52,692.931 209.52,1462.26 1357.65,747.883 209.52,88.4582 1603.68,1462.26 1603.68,692.931 \n",
       "  209.52,1462.26 1357.65,1462.26 209.52,583.027 1685.69,1462.26 1603.68,692.931 209.52,1462.26 1357.65,1462.26 209.52,363.219 1685.69,1462.26 1603.68,692.931 \n",
       "  209.52,1462.26 1357.65,747.883 209.52,583.027 1767.7,1462.26 209.52,692.931 209.52,1462.26 1357.65,1462.26 209.52,198.362 1849.71,1462.26 1275.64,692.931 \n",
       "  209.52,1462.26 1357.65,747.883 209.52,583.027 1603.68,1462.26 1275.64,692.931 209.52,1462.26 1357.65,528.075 209.52,198.362 1767.7,1462.26 209.52,692.931 \n",
       "  209.52,1462.26 1357.65,528.075 209.52,88.4582 2259.75,1462.26 209.52,692.931 209.52,1462.26 1357.65,747.883 209.52,253.314 1603.68,1462.26 1275.64,692.931 \n",
       "  209.52,1462.26 1357.65,747.883 209.52,253.314 2177.74,1462.26 1275.64,692.931 209.52,1462.26 1357.65,1462.26 209.52,88.4582 1685.69,1462.26 209.52,692.931 \n",
       "  209.52,1462.26 1357.65,528.075 209.52,308.267 2013.72,1462.26 1603.68,692.931 209.52,1462.26 1357.65,1462.26 209.52,473.123 1931.72,1462.26 1275.64,692.931 \n",
       "  209.52,1462.26 1357.65,1462.26 209.52,583.027 2013.72,1462.26 1603.68,692.931 209.52,1462.26 1357.65,747.883 209.52,198.362 1521.67,1462.26 209.52,692.931 \n",
       "  209.52,1462.26 1357.65,1462.26 209.52,88.4582 1521.67,1462.26 1603.68,692.931 209.52,1462.26 1357.65,747.883 209.52,198.362 1521.67,1462.26 1275.64,692.931 \n",
       "  209.52,1462.26 1357.65,528.075 209.52,308.267 1849.71,1462.26 1275.64,692.931 209.52,1462.26 1357.65,528.075 209.52,253.314 1603.68,1462.26 209.52,692.931 \n",
       "  209.52,1462.26 1357.65,747.883 209.52,88.4582 2095.73,1462.26 209.52,692.931 209.52,1462.26 1357.65,747.883 209.52,583.027 1685.69,1462.26 1275.64,692.931 \n",
       "  209.52,1462.26 1357.65,1462.26 209.52,253.314 1767.7,1462.26 1275.64,692.931 209.52,1462.26 1357.65,528.075 209.52,198.362 1931.72,1462.26 1275.64,692.931 \n",
       "  209.52,1462.26 1357.65,1462.26 209.52,253.314 1685.69,1462.26 1603.68,692.931 209.52,1462.26 1357.65,1462.26 209.52,583.027 1521.67,1462.26 209.52,692.931 \n",
       "  209.52,1462.26 1357.65,528.075 209.52,473.123 1931.72,1462.26 1603.68,692.931 209.52,1462.26 1357.65,528.075 209.52,418.171 1603.68,1462.26 1275.64,692.931 \n",
       "  209.52,1462.26 1357.65,747.883 209.52,528.075 2259.75,1462.26 1603.68,692.931 209.52,1462.26 1357.65,747.883 209.52,88.4582 2095.73,1462.26 209.52,692.931 \n",
       "  209.52,1462.26 1357.65,1462.26 209.52,528.075 2259.75,1462.26 1275.64,692.931 209.52,1462.26 1357.65,747.883 209.52,198.362 1521.67,1462.26 1275.64,692.931 \n",
       "  209.52,1462.26 1357.65,747.883 209.52,418.171 2259.75,1462.26 209.52,692.931 209.52,1462.26 1357.65,528.075 209.52,473.123 2013.72,1462.26 209.52,692.931 \n",
       "  209.52,1462.26 1357.65,528.075 209.52,308.267 1849.71,1462.26 1275.64,692.931 209.52,1462.26 1357.65,1462.26 209.52,253.314 2013.72,1462.26 1275.64,692.931 \n",
       "  209.52,1462.26 1357.65,1462.26 209.52,418.171 2259.75,1462.26 209.52,692.931 209.52,1462.26 1357.65,747.883 209.52,88.4582 2013.72,1462.26 209.52,692.931 \n",
       "  209.52,1462.26 1357.65,1462.26 209.52,198.362 1521.67,1462.26 1275.64,692.931 209.52,1462.26 1357.65,747.883 209.52,253.314 1767.7,1462.26 1603.68,692.931 \n",
       "  209.52,1462.26 1357.65,747.883 209.52,308.267 1685.69,1462.26 209.52,692.931 209.52,1462.26 1357.65,1462.26 209.52,198.362 1603.68,1462.26 1603.68,692.931 \n",
       "  209.52,1462.26 1357.65,747.883 209.52,418.171 1767.7,1462.26 1275.64,692.931 209.52,1462.26 1357.65,747.883 209.52,253.314 1767.7,1462.26 1275.64,692.931 \n",
       "  209.52,1462.26 1357.65,528.075 209.52,253.314 1931.72,1462.26 209.52,692.931 209.52,1462.26 1357.65,528.075 209.52,583.027 1849.71,1462.26 209.52,692.931 \n",
       "  209.52,1462.26 1357.65,1462.26 209.52,583.027 2013.72,1462.26 1275.64,692.931 209.52,1462.26 1357.65,1462.26 209.52,143.41 1603.68,1462.26 1603.68,692.931 \n",
       "  209.52,1462.26 1357.65,528.075 209.52,418.171 2259.75,1462.26 209.52,692.931 209.52,1462.26 1357.65,1462.26 209.52,88.4582 2177.74,1462.26 1603.68,692.931 \n",
       "  209.52,1462.26 1357.65,747.883 209.52,363.219 1521.67,1462.26 209.52,692.931 209.52,1462.26 1357.65,528.075 209.52,528.075 1685.69,1462.26 1603.68,692.931 \n",
       "  209.52,1462.26 1357.65,528.075 209.52,88.4582 1931.72,1462.26 1275.64,692.931 209.52,1462.26 1357.65,747.883 209.52,363.219 2095.73,1462.26 1603.68,692.931 \n",
       "  209.52,1462.26 1357.65,747.883 209.52,88.4582 1767.7,1462.26 1275.64,692.931 209.52,1462.26 1357.65,528.075 209.52,308.267 1849.71,1462.26 1275.64,692.931 \n",
       "  209.52,1462.26 1357.65,528.075 209.52,528.075 1521.67,1462.26 1275.64,692.931 209.52,1462.26 1357.65,1462.26 209.52,583.027 1931.72,1462.26 209.52,692.931 \n",
       "  209.52,1462.26 1357.65,1462.26 209.52,418.171 2259.75,1462.26 209.52,692.931 209.52,1462.26 1357.65,747.883 209.52,253.314 1521.67,1462.26 1275.64,692.931 \n",
       "  209.52,1462.26 1357.65,1462.26 209.52,308.267 2013.72,1462.26 1275.64,692.931 209.52,1462.26 1357.65,747.883 209.52,88.4582 1849.71,1462.26 209.52,692.931 \n",
       "  209.52,1462.26 1357.65,747.883 209.52,143.41 2095.73,1462.26 209.52,692.931 209.52,1462.26 1357.65,1462.26 209.52,473.123 2095.73,1462.26 1275.64,692.931 \n",
       "  209.52,1462.26 1357.65,747.883 209.52,528.075 1603.68,1462.26 1275.64,692.931 209.52,1462.26 1357.65,747.883 209.52,583.027 2095.73,1462.26 209.52,692.931 \n",
       "  209.52,1462.26 1357.65,528.075 209.52,143.41 1603.68,1462.26 1603.68,692.931 209.52,1462.26 1357.65,747.883 209.52,363.219 2259.75,1462.26 1275.64,692.931 \n",
       "  209.52,1462.26 1357.65,1462.26 209.52,198.362 1521.67,1462.26 1603.68,692.931 209.52,1462.26 1357.65,1462.26 209.52,198.362 1767.7,1462.26 209.52,692.931 \n",
       "  209.52,1462.26 1357.65,528.075 209.52,528.075 2177.74,1462.26 1603.68,692.931 209.52,1462.26 1357.65,528.075 209.52,363.219 1521.67,1462.26 1275.64,692.931 \n",
       "  209.52,1462.26 1357.65,747.883 209.52,418.171 1603.68,1462.26 1275.64,692.931 209.52,1462.26 1357.65,747.883 209.52,528.075 2095.73,1462.26 209.52,692.931 \n",
       "  209.52,1462.26 1357.65,1462.26 209.52,88.4582 1849.71,1462.26 209.52,692.931 209.52,1462.26 1357.65,747.883 209.52,363.219 2013.72,1462.26 1275.64,692.931 \n",
       "  209.52,1462.26 1357.65,747.883 209.52,88.4582 1849.71,1462.26 1275.64,692.931 209.52,1462.26 1357.65,528.075 209.52,528.075 1685.69,1462.26 209.52,692.931 \n",
       "  209.52,1462.26 1357.65,528.075 209.52,198.362 2013.72,1462.26 1603.68,692.931 209.52,1462.26 1357.65,1462.26 209.52,363.219 1603.68,1462.26 209.52,692.931 \n",
       "  209.52,1462.26 1357.65,1462.26 209.52,363.219 1767.7,1462.26 1603.68,692.931 209.52,1462.26 1357.65,747.883 209.52,198.362 2259.75,1462.26 1275.64,692.931 \n",
       "  209.52,1462.26 1357.65,1462.26 209.52,253.314 1849.71,1462.26 1603.68,692.931 209.52,1462.26 1357.65,747.883 209.52,253.314 1603.68,1462.26 1275.64,692.931 \n",
       "  209.52,1462.26 1357.65,747.883 209.52,583.027 1931.72,1462.26 1275.64,692.931 209.52,1462.26 1357.65,1462.26 209.52,528.075 1931.72,1462.26 1275.64,692.931 \n",
       "  209.52,1462.26 1357.65,747.883 209.52,88.4582 1521.67,1462.26 209.52,692.931 209.52,1462.26 1357.65,747.883 209.52,198.362 1767.7,1462.26 209.52,692.931 \n",
       "  209.52,1462.26 1357.65,528.075 209.52,143.41 1849.71,1462.26 1275.64,692.931 209.52,1462.26 1357.65,747.883 209.52,583.027 1521.67,1462.26 1275.64,692.931 \n",
       "  209.52,1462.26 1357.65,1462.26 209.52,143.41 1603.68,1462.26 209.52,692.931 209.52,1462.26 1357.65,1462.26 209.52,308.267 1767.7,1462.26 209.52,692.931 \n",
       "  209.52,1462.26 1357.65,528.075 209.52,198.362 1521.67,1462.26 1275.64,692.931 209.52,1462.26 1357.65,1462.26 209.52,418.171 1767.7,1462.26 1603.68,692.931 \n",
       "  209.52,1462.26 1357.65,747.883 209.52,473.123 2259.75,1462.26 209.52,692.931 209.52,1462.26 1357.65,747.883 209.52,198.362 2259.75,1462.26 209.52,692.931 \n",
       "  209.52,1462.26 1357.65,1462.26 209.52,308.267 1603.68,1462.26 1275.64,692.931 209.52,1462.26 1357.65,747.883 209.52,418.171 1849.71,1462.26 1275.64,692.931 \n",
       "  209.52,1462.26 1357.65,747.883 209.52,363.219 2013.72,1462.26 209.52,692.931 209.52,1462.26 1357.65,528.075 209.52,198.362 2177.74,1462.26 209.52,692.931 \n",
       "  209.52,1462.26 1357.65,528.075 209.52,473.123 1685.69,1462.26 1275.64,692.931 209.52,1462.26 1357.65,747.883 209.52,363.219 1931.72,1462.26 1603.68,692.931 \n",
       "  209.52,1462.26 1357.65,1462.26 209.52,143.41 2095.73,1462.26 209.52,692.931 209.52,1462.26 1357.65,747.883 209.52,88.4582 2259.75,1462.26 1603.68,692.931 \n",
       "  209.52,1462.26 1357.65,1462.26 209.52,143.41 1521.67,1462.26 1275.64,692.931 209.52,1462.26 1357.65,1462.26 209.52,528.075 1603.68,1462.26 1275.64,692.931 \n",
       "  209.52,1462.26 1357.65,747.883 209.52,418.171 1521.67,1462.26 209.52,692.931 209.52,1462.26 1357.65,1462.26 209.52,583.027 2259.75,1462.26 1603.68,692.931 \n",
       "  209.52,1462.26 1357.65,747.883 209.52,583.027 1521.67,1462.26 1275.64,692.931 209.52,1462.26 1357.65,747.883 209.52,473.123 2013.72,1462.26 1603.68,692.931 \n",
       "  209.52,1462.26 1357.65,528.075 209.52,418.171 1931.72,1462.26 1275.64,692.931 209.52,1462.26 1357.65,747.883 209.52,418.171 1685.69,1462.26 1603.68,692.931 \n",
       "  209.52,1462.26 1357.65,1462.26 209.52,583.027 2013.72,1462.26 1275.64,692.931 209.52,1462.26 1357.65,1462.26 209.52,308.267 2259.75,1462.26 1275.64,692.931 \n",
       "  209.52,1462.26 1357.65,528.075 209.52,363.219 2013.72,1462.26 1275.64,692.931 209.52,1462.26 1357.65,1462.26 209.52,583.027 1849.71,1462.26 209.52,692.931 \n",
       "  209.52,1462.26 1357.65,1462.26 209.52,473.123 2013.72,1462.26 209.52,692.931 209.52,1462.26 1357.65,528.075 209.52,253.314 2259.75,1462.26 1603.68,692.931 \n",
       "  209.52,1462.26 1357.65,528.075 209.52,363.219 1685.69,1462.26 1275.64,692.931 209.52,1462.26 1357.65,747.883 209.52,528.075 2013.72,1462.26 1603.68,692.931 \n",
       "  209.52,1462.26 1357.65,747.883 209.52,253.314 1603.68,1462.26 209.52,692.931 209.52,1462.26 1357.65,528.075 209.52,88.4582 1521.67,1462.26 1603.68,692.931 \n",
       "  209.52,1462.26 1357.65,747.883 209.52,528.075 1685.69,1462.26 1275.64,692.931 209.52,1462.26 1357.65,1462.26 209.52,88.4582 1603.68,1462.26 1603.68,692.931 \n",
       "  209.52,1462.26 1357.65,1462.26 209.52,473.123 2259.75,1462.26 209.52,692.931 209.52,1462.26 1357.65,528.075 209.52,473.123 1603.68,1462.26 1275.64,692.931 \n",
       "  209.52,1462.26 1357.65,1462.26 209.52,253.314 2259.75,1462.26 1275.64,692.931 209.52,1462.26 1357.65,1462.26 209.52,143.41 2259.75,1462.26 209.52,692.931 \n",
       "  209.52,1462.26 1357.65,747.883 209.52,253.314 1603.68,1462.26 209.52,692.931 209.52,1462.26 1357.65,528.075 209.52,418.171 2177.74,1462.26 1275.64,692.931 \n",
       "  209.52,1462.26 1357.65,747.883 209.52,88.4582 2095.73,1462.26 1275.64,692.931 209.52,1462.26 1357.65,747.883 209.52,363.219 1767.7,1462.26 209.52,692.931 \n",
       "  209.52,1462.26 1357.65,528.075 209.52,528.075 1521.67,1462.26 1603.68,692.931 209.52,1462.26 1357.65,747.883 209.52,528.075 1521.67,1462.26 1275.64,692.931 \n",
       "  209.52,1462.26 1357.65,1462.26 209.52,528.075 1931.72,1462.26 1603.68,692.931 209.52,1462.26 1357.65,1462.26 209.52,308.267 1521.67,1462.26 209.52,692.931 \n",
       "  209.52,1462.26 1357.65,528.075 209.52,473.123 1767.7,1462.26 1603.68,692.931 209.52,1462.26 1357.65,1462.26 209.52,253.314 1767.7,1462.26 1275.64,692.931 \n",
       "  209.52,1462.26 1357.65,1462.26 209.52,198.362 1849.71,1462.26 1275.64,692.931 209.52,1462.26 1357.65,528.075 209.52,198.362 1767.7,1462.26 209.52,692.931 \n",
       "  209.52,1462.26 1357.65,528.075 209.52,253.314 2095.73,1462.26 209.52,692.931 209.52,1462.26 1357.65,747.883 209.52,143.41 2259.75,1462.26 1275.64,692.931 \n",
       "  209.52,1462.26 1357.65,747.883 209.52,528.075 1521.67,1462.26 1275.64,692.931 209.52,1462.26 1357.65,1462.26 209.52,198.362 1931.72,1462.26 209.52,692.931 \n",
       "  209.52,1462.26 1357.65,528.075 209.52,88.4582 2013.72,1462.26 209.52,692.931 209.52,1462.26 1357.65,1462.26 209.52,143.41 1603.68,1462.26 209.52,692.931 \n",
       "  209.52,1462.26 1357.65,1462.26 209.52,528.075 1767.7,1462.26 1603.68,692.931 209.52,1462.26 1357.65,747.883 209.52,528.075 2177.74,1462.26 1275.64,692.931 \n",
       "  209.52,1462.26 1357.65,1462.26 209.52,143.41 2013.72,1462.26 1603.68,692.931 209.52,1462.26 1357.65,1462.26 209.52,308.267 2013.72,1462.26 209.52,692.931 \n",
       "  209.52,1462.26 1357.65,528.075 209.52,198.362 2013.72,1462.26 1603.68,692.931 209.52,1462.26 1357.65,528.075 209.52,473.123 1931.72,1462.26 1275.64,692.931 \n",
       "  209.52,1462.26 1357.65,747.883 209.52,198.362 1521.67,1462.26 1603.68,692.931 209.52,1462.26 1357.65,747.883 209.52,363.219 2177.74,1462.26 209.52,692.931 \n",
       "  209.52,1462.26 1357.65,1462.26 209.52,253.314 1685.69,1462.26 1275.64,692.931 209.52,1462.26 1357.65,747.883 209.52,583.027 1767.7,1462.26 1275.64,692.931 \n",
       "  209.52,1462.26 1357.65,1462.26 209.52,198.362 2095.73,1462.26 209.52,692.931 209.52,1462.26 1357.65,1462.26 209.52,88.4582 1849.71,1462.26 209.52,692.931 \n",
       "  209.52,1462.26 1357.65,528.075 209.52,198.362 1849.71,1462.26 1275.64,692.931 209.52,1462.26 1357.65,1462.26 209.52,418.171 2013.72,1462.26 1603.68,692.931 \n",
       "  209.52,1462.26 1357.65,747.883 209.52,363.219 2177.74,1462.26 209.52,692.931 209.52,1462.26 1357.65,747.883 209.52,253.314 2259.75,1462.26 209.52,692.931 \n",
       "  209.52,1462.26 1357.65,1462.26 209.52,528.075 1603.68,1462.26 1275.64,692.931 209.52,1462.26 1357.65,747.883 209.52,583.027 2177.74,1462.26 1275.64,692.931 \n",
       "  209.52,1462.26 1357.65,747.883 209.52,253.314 2259.75,1462.26 209.52,692.931 209.52,1462.26 1357.65,528.075 209.52,253.314 2259.75,1462.26 1603.68,692.931 \n",
       "  209.52,1462.26 1357.65,747.883 209.52,253.314 2095.73,1462.26 1275.64,692.931 209.52,1462.26 1357.65,1462.26 209.52,308.267 1603.68,1462.26 1603.68,692.931 \n",
       "  209.52,1462.26 1357.65,1462.26 209.52,363.219 1931.72,1462.26 209.52,692.931 209.52,1462.26 1357.65,528.075 209.52,88.4582 2095.73,1462.26 1603.68,692.931 \n",
       "  209.52,1462.26 1357.65,1462.26 209.52,528.075 1767.7,1462.26 1275.64,692.931 209.52,1462.26 1357.65,747.883 209.52,418.171 1931.72,1462.26 1275.64,692.931 \n",
       "  209.52,1462.26 1357.65,747.883 209.52,143.41 2013.72,1462.26 209.52,692.931 209.52,1462.26 1357.65,528.075 209.52,363.219 1931.72,1462.26 209.52,692.931 \n",
       "  209.52,1462.26 1357.65,747.883 209.52,363.219 1521.67,1462.26 1275.64,692.931 209.52,1462.26 1357.65,747.883 209.52,143.41 2259.75,1462.26 1275.64,692.931 \n",
       "  209.52,1462.26 1357.65,528.075 209.52,198.362 2177.74,1462.26 209.52,692.931 209.52,1462.26 1357.65,747.883 209.52,583.027 2013.72,1462.26 209.52,692.931 \n",
       "  209.52,1462.26 1357.65,1462.26 209.52,143.41 2095.73,1462.26 209.52,692.931 209.52,1462.26 1357.65,1462.26 209.52,418.171 1603.68,1462.26 1603.68,692.931 \n",
       "  209.52,1462.26 1357.65,747.883 209.52,363.219 2095.73,1462.26 1275.64,692.931 209.52,1462.26 1357.65,1462.26 209.52,88.4582 2013.72,1462.26 1603.68,692.931 \n",
       "  209.52,1462.26 1357.65,1462.26 209.52,583.027 2177.74,1462.26 209.52,692.931 209.52,1462.26 1357.65,747.883 209.52,363.219 1849.71,1462.26 1275.64,692.931 \n",
       "  209.52,1462.26 1357.65,528.075 209.52,143.41 1849.71,1462.26 1275.64,692.931 209.52,1462.26 1357.65,747.883 209.52,88.4582 2095.73,1462.26 1603.68,692.931 \n",
       "  209.52,1462.26 1357.65,747.883 209.52,363.219 2095.73,1462.26 209.52,692.931 209.52,1462.26 1357.65,528.075 209.52,143.41 2095.73,1462.26 1603.68,692.931 \n",
       "  209.52,1462.26 1357.65,747.883 209.52,528.075 1603.68,1462.26 1603.68,692.931 209.52,1462.26 1357.65,1462.26 209.52,198.362 1849.71,1462.26 1603.68,692.931 \n",
       "  209.52,1462.26 1357.65,1462.26 209.52,198.362 1685.69,1462.26 209.52,692.931 209.52,1462.26 1357.65,747.883 209.52,473.123 1767.7,1462.26 1275.64,692.931 \n",
       "  209.52,1462.26 1357.65,1462.26 209.52,418.171 1603.68,1462.26 1275.64,692.931 209.52,1462.26 1357.65,1462.26 209.52,473.123 1849.71,1462.26 209.52,692.931 \n",
       "  209.52,1462.26 1357.65,528.075 209.52,198.362 2259.75,1462.26 209.52,692.931 209.52,1462.26 1357.65,528.075 209.52,198.362 2013.72,1462.26 1275.64,692.931 \n",
       "  209.52,1462.26 1357.65,747.883 209.52,583.027 1603.68,1462.26 1275.64,692.931 209.52,1462.26 1357.65,747.883 209.52,143.41 2259.75,1462.26 209.52,692.931 \n",
       "  209.52,1462.26 1357.65,1462.26 209.52,253.314 2177.74,1462.26 1603.68,692.931 209.52,1462.26 1357.65,747.883 209.52,583.027 2177.74,1462.26 1275.64,692.931 \n",
       "  209.52,1462.26 1357.65,1462.26 209.52,253.314 2095.73,1462.26 1603.68,692.931 209.52,1462.26 1357.65,1462.26 209.52,198.362 1521.67,1462.26 209.52,692.931 \n",
       "  209.52,1462.26 1357.65,528.075 209.52,253.314 2095.73,1462.26 1603.68,692.931 209.52,1462.26 1357.65,1462.26 209.52,528.075 1849.71,1462.26 1275.64,692.931 \n",
       "  209.52,1462.26 1357.65,1462.26 209.52,198.362 2095.73,1462.26 1275.64,692.931 209.52,1462.26 1357.65,528.075 209.52,88.4582 1849.71,1462.26 209.52,692.931 \n",
       "  209.52,1462.26 1357.65,528.075 209.52,418.171 2013.72,1462.26 209.52,692.931 209.52,1462.26 1357.65,747.883 209.52,253.314 1685.69,1462.26 1275.64,692.931 \n",
       "  209.52,1462.26 1357.65,747.883 209.52,528.075 2177.74,1462.26 1275.64,692.931 209.52,1462.26 1357.65,1462.26 209.52,583.027 1521.67,1462.26 1275.64,692.931 \n",
       "  209.52,1462.26 1357.65,747.883 209.52,583.027 1521.67,1462.26 209.52,692.931 209.52,1462.26 1357.65,747.883 209.52,253.314 1767.7,1462.26 209.52,692.931 \n",
       "  209.52,1462.26 1357.65,1462.26 209.52,528.075 2259.75,1462.26 1603.68,692.931 209.52,1462.26 1357.65,528.075 209.52,143.41 1603.68,1462.26 1275.64,692.931 \n",
       "  209.52,1462.26 1357.65,1462.26 209.52,363.219 1603.68,1462.26 1603.68,692.931 209.52,1462.26 1357.65,1462.26 209.52,363.219 2177.74,1462.26 209.52,692.931 \n",
       "  209.52,1462.26 1357.65,747.883 209.52,583.027 1849.71,1462.26 1275.64,692.931 209.52,1462.26 1357.65,1462.26 209.52,143.41 1849.71,1462.26 1275.64,692.931 \n",
       "  209.52,1462.26 1357.65,747.883 209.52,88.4582 2177.74,1462.26 1603.68,692.931 209.52,1462.26 1357.65,747.883 209.52,418.171 2013.72,1462.26 209.52,692.931 \n",
       "  209.52,1462.26 1357.65,528.075 209.52,88.4582 1685.69,1462.26 1275.64,692.931 209.52,1462.26 1357.65,747.883 209.52,363.219 2095.73,1462.26 1603.68,692.931 \n",
       "  209.52,1462.26 1357.65,747.883 209.52,198.362 2013.72,1462.26 209.52,692.931 209.52,1462.26 1357.65,528.075 209.52,88.4582 1849.71,1462.26 209.52,692.931 \n",
       "  209.52,1462.26 1357.65,747.883 209.52,528.075 1685.69,1462.26 1275.64,692.931 209.52,1462.26 1357.65,1462.26 209.52,253.314 1603.68,1462.26 1275.64,692.931 \n",
       "  209.52,1462.26 1357.65,1462.26 209.52,583.027 2013.72,1462.26 209.52,692.931 209.52,1462.26 1357.65,528.075 209.52,528.075 1931.72,1462.26 209.52,692.931 \n",
       "  209.52,1462.26 1357.65,1462.26 209.52,418.171 2177.74,1462.26 1275.64,692.931 209.52,1462.26 1357.65,747.883 209.52,473.123 1685.69,1462.26 1275.64,692.931 \n",
       "  209.52,1462.26 1357.65,528.075 209.52,528.075 1849.71,1462.26 209.52,692.931 209.52,1462.26 1357.65,528.075 209.52,143.41 1603.68,1462.26 1603.68,692.931 \n",
       "  209.52,1462.26 1357.65,747.883 209.52,88.4582 2095.73,1462.26 1275.64,692.931 209.52,1462.26 1357.65,1462.26 209.52,363.219 1685.69,1462.26 1603.68,692.931 \n",
       "  209.52,1462.26 1357.65,1462.26 209.52,583.027 1849.71,1462.26 1275.64,692.931 209.52,1462.26 1357.65,747.883 209.52,583.027 1931.72,1462.26 1603.68,692.931 \n",
       "  209.52,1462.26 1357.65,1462.26 209.52,363.219 2177.74,1462.26 1275.64,692.931 209.52,1462.26 1357.65,1462.26 209.52,198.362 2095.73,1462.26 1275.64,692.931 \n",
       "  209.52,1462.26 1357.65,528.075 209.52,308.267 1849.71,1462.26 209.52,692.931 209.52,1462.26 1357.65,1462.26 209.52,198.362 2177.74,1462.26 209.52,692.931 \n",
       "  209.52,1462.26 1357.65,747.883 209.52,528.075 1849.71,1462.26 209.52,692.931 209.52,1462.26 1357.65,528.075 209.52,473.123 1849.71,1462.26 1275.64,692.931 \n",
       "  209.52,1462.26 1357.65,528.075 209.52,198.362 1767.7,1462.26 1275.64,692.931 209.52,1462.26 1357.65,747.883 209.52,418.171 1521.67,1462.26 209.52,692.931 \n",
       "  209.52,1462.26 1357.65,747.883 209.52,198.362 1767.7,1462.26 209.52,692.931 209.52,1462.26 1357.65,528.075 209.52,253.314 1521.67,1462.26 1603.68,692.931 \n",
       "  209.52,1462.26 1357.65,528.075 209.52,583.027 1931.72,1462.26 1275.64,692.931 209.52,1462.26 1357.65,1462.26 209.52,198.362 2177.74,1462.26 1603.68,692.931 \n",
       "  209.52,1462.26 1357.65,1462.26 209.52,308.267 1767.7,1462.26 209.52,692.931 209.52,1462.26 1357.65,747.883 209.52,418.171 1931.72,1462.26 1275.64,692.931 \n",
       "  209.52,1462.26 1357.65,1462.26 209.52,583.027 2177.74,1462.26 \n",
       "  \"/>\n",
       "<polygon clip-path=\"url(#clip5301)\" points=\"\n",
       "1958.43,251.724 2249.26,251.724 2249.26,130.764 1958.43,130.764 \n",
       "  \" fill=\"#ffffff\" fill-rule=\"evenodd\" fill-opacity=\"1\"/>\n",
       "<polyline clip-path=\"url(#clip5301)\" style=\"stroke:#000000; stroke-width:4; stroke-opacity:1; fill:none\" points=\"\n",
       "  1958.43,251.724 2249.26,251.724 2249.26,130.764 1958.43,130.764 1958.43,251.724 \n",
       "  \"/>\n",
       "<polyline clip-path=\"url(#clip5301)\" style=\"stroke:#009af9; stroke-width:4; stroke-opacity:1; fill:none\" points=\"\n",
       "  1982.43,191.244 2126.43,191.244 \n",
       "  \"/>\n",
       "<g clip-path=\"url(#clip5301)\">\n",
       "<text style=\"fill:#000000; fill-opacity:1; font-family:Arial,Helvetica Neue,Helvetica,sans-serif; font-size:48px; text-anchor:start;\" transform=\"rotate(0, 2150.43, 208.744)\" x=\"2150.43\" y=\"208.744\">y1</text>\n",
       "</g>\n",
       "</svg>\n"
      ]
     },
     "execution_count": 48,
     "metadata": {},
     "output_type": "execute_result"
    }
   ],
   "source": [
    "plot(a[1:size(b)[1]], b)"
   ]
  },
  {
   "cell_type": "markdown",
   "metadata": {},
   "source": [
    "d = [1.2, 1.4, 1.1, 0.9, 0.5, 0.1, -0.2, 0.3, 0.4]"
   ]
  },
  {
   "cell_type": "code",
   "execution_count": 101,
   "metadata": {},
   "outputs": [
    {
     "data": {
      "text/plain": [
       "([1.4 0.0 0.0 0.0; 1.4 0.0 0.0 0.0], [1, 1])"
      ]
     },
     "execution_count": 101,
     "metadata": {},
     "output_type": "execute_result"
    }
   ],
   "source": [
    "takens_embedding(d, 2, 2)"
   ]
  },
  {
   "cell_type": "code",
   "execution_count": 102,
   "metadata": {},
   "outputs": [
    {
     "name": "stderr",
     "output_type": "stream",
     "text": [
      "┌ Info: Precompiling DynamicalSystems [61744808-ddfa-5f27-97ff-6e42cc95d634]\n",
      "└ @ Base loading.jl:1192\n"
     ]
    },
    {
     "name": "stdout",
     "output_type": "stream",
     "text": [
      "\n",
      "Update message: DynamicalSystems v1.0\n",
      "\n",
      "First major release of DynamicalSystems is out!\n",
      "\n",
      "Minor breaking changes involve renaming `Reconstruction`\n",
      "to `reconstruct`. Many internals have also been reworked\n",
      "for extra clarity! Please see the \"News\" page of the\n",
      "official documentation!\n",
      "\n"
     ]
    }
   ],
   "source": [
    "using DynamicalSystems"
   ]
  },
  {
   "cell_type": "code",
   "execution_count": 105,
   "metadata": {},
   "outputs": [
    {
     "data": {
      "text/plain": [
       "4-dimensional Dataset{Float64} with 6 points\n",
       " 1.2   1.4   1.1   0.9\n",
       " 1.4   1.1   0.9   0.5\n",
       " 1.1   0.9   0.5   0.1\n",
       " 0.9   0.5   0.1  -0.2\n",
       " 0.5   0.1  -0.2   0.3\n",
       " 0.1  -0.2   0.3   0.4\n"
      ]
     },
     "execution_count": 105,
     "metadata": {},
     "output_type": "execute_result"
    }
   ],
   "source": [
    "reconstruct(d, 3, 1)"
   ]
  },
  {
   "cell_type": "code",
   "execution_count": null,
   "metadata": {},
   "outputs": [],
   "source": []
  }
 ],
 "metadata": {
  "kernelspec": {
   "display_name": "Julia 1.0.2",
   "language": "julia",
   "name": "julia-1.0"
  },
  "language_info": {
   "file_extension": ".jl",
   "mimetype": "application/julia",
   "name": "julia",
   "version": "1.0.2"
  }
 },
 "nbformat": 4,
 "nbformat_minor": 2
}
