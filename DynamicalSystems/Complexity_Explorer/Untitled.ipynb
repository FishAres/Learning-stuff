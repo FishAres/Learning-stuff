{
 "cells": [
  {
   "cell_type": "markdown",
   "metadata": {},
   "source": [
    "## Attractors\n",
    "\n",
    "Combination of stable and unstable manifolds give chaotic attractors their shape\n",
    "\n",
    "Trajectories cannot cross: If they appear to do so the attractor \"lives\" in a higher dimensional manifold.\n",
    "\n",
    "The Lorenz system represents three modes of the partial derivatives of the Navier-Stokes equations:\n",
    "* x: convective intensity (how much are they spinning)\n",
    "* y: temperature\n",
    "* z: deviation from linearity in the vertical convection profile....\n",
    "\n",
    "Raising the heat creates bifurcations (i.e. lower heat actually creates fixed points)"
   ]
  },
  {
   "cell_type": "markdown",
   "metadata": {},
   "source": [
    "### Strange attractors display:\n",
    "\n",
    "* Exponential divergence of nearby starting points in the trajectory\n",
    "* Are often fractal ( a slice can give you a Cantor set)\n",
    "* *Densely covered* by trajectories in their basins. A dense set means the system *will* eventually get there (i think?)\n",
    "\n",
    "There's no way to know how many and where the basins of attraction are"
   ]
  },
  {
   "cell_type": "markdown",
   "metadata": {},
   "source": [
    "## Interlude: Using stable and unstable manifolds to get toight spacecraft trajectories\n",
    "\n",
    "* Orbits around the Lagrange point are called \"halo orbits\". There is a stable manifold of trajectories that would go into the halo orbit. There is a corresponding stable manifold. You have to propagate time backwards to find the latter ones."
   ]
  },
  {
   "cell_type": "code",
   "execution_count": null,
   "metadata": {},
   "outputs": [],
   "source": []
  }
 ],
 "metadata": {
  "kernelspec": {
   "display_name": "Julia 1.0.1",
   "language": "julia",
   "name": "julia-1.0"
  },
  "language_info": {
   "file_extension": ".jl",
   "mimetype": "application/julia",
   "name": "julia",
   "version": "1.0.1"
  }
 },
 "nbformat": 4,
 "nbformat_minor": 2
}
