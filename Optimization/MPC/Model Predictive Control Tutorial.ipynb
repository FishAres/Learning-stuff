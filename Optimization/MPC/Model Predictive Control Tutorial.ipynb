{
 "cells": [
  {
   "cell_type": "code",
   "execution_count": 1,
   "metadata": {},
   "outputs": [],
   "source": [
    "# from http://apmonitor.com/pdc/index.php/Main/ModelPredictiveControl\n",
    "\n",
    "import numpy as np\n",
    "import matplotlib.pyplot as plt\n",
    "import time\n",
    "from scipy.integrate import odeint\n",
    "from scipy.optimize import minimize\n",
    "%matplotlib inline"
   ]
  },
  {
   "cell_type": "code",
   "execution_count": 2,
   "metadata": {},
   "outputs": [
    {
     "data": {
      "image/png": "[encoded data removed]",
      "text/plain": [
       "<Figure size 432x288 with 3 Axes>"
      ]
     },
     "metadata": {},
     "output_type": "display_data"
    }
   ],
   "source": [
    "# define CSTR model\n",
    "def cstr(x,t,u,Tf,Caf):\n",
    "    # Inputs (3):\n",
    "    # Temperature of cooling jacket (K)\n",
    "    Tc = u\n",
    "    # Tf = Feed Temperature (K)\n",
    "    # Caf = Feed Concentration (mol/m^3)\n",
    "\n",
    "    # States (2):\n",
    "    # Concentration of A in CSTR (mol/m^3)\n",
    "    Ca = x[0]\n",
    "    # Temperature in CSTR (K)\n",
    "    T = x[1]\n",
    "\n",
    "    # Parameters:\n",
    "    # Volumetric Flowrate (m^3/sec)\n",
    "    q = 100\n",
    "    # Volume of CSTR (m^3)\n",
    "    V = 100\n",
    "    # Density of A-B Mixture (kg/m^3)\n",
    "    rho = 1000\n",
    "    # Heat capacity of A-B Mixture (J/kg-K)\n",
    "    Cp = 0.239\n",
    "    # Heat of reaction for A->B (J/mol)\n",
    "    mdelH = 5e4\n",
    "    # E - Activation energy in the Arrhenius Equation (J/mol)\n",
    "    # R - Universal Gas Constant = 8.31451 J/mol-K\n",
    "    EoverR = 8750\n",
    "    # Pre-exponential factor (1/sec)\n",
    "    k0 = 7.2e10\n",
    "    # U - Overall Heat Transfer Coefficient (W/m^2-K)\n",
    "    # A - Area - this value is specific for the U calculation (m^2)\n",
    "    UA = 5e4\n",
    "    # reaction rate\n",
    "    rA = k0*np.exp(-EoverR/T)*Ca\n",
    "\n",
    "    # Calculate concentration derivative\n",
    "    dCadt = q/V*(Caf - Ca) - rA\n",
    "    # Calculate temperature derivative\n",
    "    dTdt = q/V*(Tf - T) \\\n",
    "            + mdelH/(rho*Cp)*rA \\\n",
    "            + UA/V/rho/Cp*(Tc-T)\n",
    "\n",
    "    # Return xdot:\n",
    "    xdot = np.zeros(2)\n",
    "    xdot[0] = dCadt\n",
    "    xdot[1] = dTdt\n",
    "    return xdot\n",
    "\n",
    "# Steady State Initial Conditions for the States\n",
    "Ca_ss = 0.87725294608097\n",
    "T_ss = 324.475443431599\n",
    "x0 = np.empty(2)\n",
    "x0[0] = Ca_ss\n",
    "x0[1] = T_ss\n",
    "\n",
    "# Steady State Initial Condition\n",
    "u_ss = 300.0\n",
    "# Feed Temperature (K)\n",
    "Tf = 350\n",
    "# Feed Concentration (mol/m^3)\n",
    "Caf = 1\n",
    "\n",
    "# Time Interval (min)\n",
    "t = np.arange(0,5,0.05)\n",
    "\n",
    "# Store results for plotting\n",
    "Ca = np.ones(len(t)) * Ca_ss\n",
    "T = np.ones(len(t)) * T_ss\n",
    "u = np.ones(len(t)) * u_ss\n",
    "\n",
    "def mpc_init():\n",
    "    fid = open('model.apm', 'w')\n",
    "    f.write(' \\n')\n",
    "\n",
    "# MPC \n",
    "def mpc(T):\n",
    "\n",
    "\n",
    "# Simulate CSTR\n",
    "for i in range(len(t)-1):\n",
    "    # Controllus\n",
    "    Tc = mpc(T[i])\n",
    "    \n",
    "    ts = [t[i],t[i+1]]\n",
    "    y = odeint(cstr,x0,ts,args=(u[i+1],Tf,Caf))\n",
    "    Ca[i+1] = y[-1][0]\n",
    "    T[i+1] = y[-1][1]\n",
    "    x0[0] = Ca[i+1]\n",
    "    x0[1] = T[i+1]\n",
    "\n",
    "# Construct results and save data file\n",
    "# Column 1 = time\n",
    "# Column 2 = cooling temperature\n",
    "# Column 3 = reactor temperature\n",
    "data = np.vstack((t,u,T)) # vertical stack\n",
    "data = data.T             # transpose data\n",
    "np.savetxt('data_doublet.txt',data,delimiter=',')\n",
    "\n",
    "# Plot the results\n",
    "plt.figure()\n",
    "plt.subplot(3,1,1)\n",
    "plt.plot(t,u,'b--',linewidth=3)\n",
    "plt.ylabel('Cooling T (K)')\n",
    "plt.legend(['Jacket Temperature'],loc='best')\n",
    "\n",
    "plt.subplot(3,1,2)\n",
    "plt.plot(t,Ca,'r-',linewidth=3)\n",
    "plt.ylabel('Ca (mol/L)')\n",
    "plt.legend(['Reactor Concentration'],loc='best')\n",
    "\n",
    "plt.subplot(3,1,3)\n",
    "plt.plot(t,T,'k.-',linewidth=3)\n",
    "plt.ylabel('T (K)')\n",
    "plt.xlabel('Time (min)')\n",
    "plt.legend(['Reactor Temperature'],loc='best')\n",
    "\n",
    "plt.show()"
   ]
  },
  {
   "cell_type": "code",
   "execution_count": null,
   "metadata": {},
   "outputs": [],
   "source": []
  },
  {
   "cell_type": "code",
   "execution_count": null,
   "metadata": {},
   "outputs": [],
   "source": []
  },
  {
   "cell_type": "code",
   "execution_count": null,
   "metadata": {},
   "outputs": [],
   "source": []
  },
  {
   "cell_type": "code",
   "execution_count": 15,
   "metadata": {},
   "outputs": [],
   "source": []
  },
  {
   "cell_type": "code",
   "execution_count": 16,
   "metadata": {},
   "outputs": [
    {
     "data": {
      "text/plain": [
       "[0.2, 0.2, 0.2, 0.2, 0.2]"
      ]
     },
     "execution_count": 16,
     "metadata": {},
     "output_type": "execute_result"
    }
   ],
   "source": []
  },
  {
   "cell_type": "code",
   "execution_count": null,
   "metadata": {},
   "outputs": [],
   "source": []
  }
 ],
 "metadata": {
  "kernelspec": {
   "display_name": "Python 3",
   "language": "python",
   "name": "python3"
  },
  "language_info": {
   "codemirror_mode": {
    "name": "ipython",
    "version": 3
   },
   "file_extension": ".py",
   "mimetype": "text/x-python",
   "name": "python",
   "nbconvert_exporter": "python",
   "pygments_lexer": "ipython3",
   "version": "3.6.5"
  }
 },
 "nbformat": 4,
 "nbformat_minor": 2
}
