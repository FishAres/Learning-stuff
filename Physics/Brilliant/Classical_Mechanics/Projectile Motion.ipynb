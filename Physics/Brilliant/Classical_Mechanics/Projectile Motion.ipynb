{
 "cells": [
  {
   "cell_type": "markdown",
   "metadata": {},
   "source": [
    "## Basic relationships\n",
    "\n",
    "$$ x = v_0 t - \\frac{1}{2} a t^2 $$\n",
    "\n",
    "$$ v = \\frac{d}{dt} x $$\n",
    "\n",
    "$$ a = \\frac{d}{dt} v $$\n",
    "\n",
    "$$ x = \\frac{1}{2} a t^2 $$"
   ]
  },
  {
   "cell_type": "markdown",
   "metadata": {},
   "source": [
    "### Example:\n",
    "\n",
    "Arrow shot upwards at 120 m/s. Assume g is 10 m/s^2 . After how long does the arrow hit the ground?\n",
    "\n",
    "We can set r = 0. Implicit in the algebraic solution are the roots for t = 0 and for t -> ascent + descent.\n",
    "\n",
    "$$ 0 = (v_0 - \\frac{1}{2} g t) t $$\n",
    "\n",
    "$$ t = \\frac{2 v_0}{g} $$"
   ]
  },
  {
   "cell_type": "code",
   "execution_count": 7,
   "metadata": {},
   "outputs": [
    {
     "name": "stdout",
     "output_type": "stream",
     "text": [
      "Arrow returns after 24.0 s\n"
     ]
    }
   ],
   "source": [
    "t = 2 * 120 / 10\n",
    "println(\"Arrow returns after $t s\")"
   ]
  },
  {
   "cell_type": "code",
   "execution_count": 8,
   "metadata": {},
   "outputs": [],
   "source": [
    "# Alternatively, from a = v/t, t = v/g 2 times"
   ]
  },
  {
   "cell_type": "markdown",
   "metadata": {},
   "source": [
    "### Example 2 \n",
    "\n",
    "Arrow shot at 120m/s at an angle of 60 degrees; g = 10m/s^2"
   ]
  },
  {
   "cell_type": "code",
   "execution_count": 19,
   "metadata": {},
   "outputs": [
    {
     "data": {
      "text/plain": [
       "1247.0765814495917"
      ]
     },
     "execution_count": 19,
     "metadata": {},
     "output_type": "execute_result"
    }
   ],
   "source": [
    "vx = 120 * cos(pi/3)\n",
    "t = 2*120*sin(pi/3)/10\n",
    "x = vx*t"
   ]
  },
  {
   "cell_type": "markdown",
   "metadata": {},
   "source": [
    "### Example 3\n",
    "\n",
    "Shoot an apple that's 40m high on a wall 400m away. The angle is fixed at 60 degrees.\n",
    "\n",
    "How fast should the arrow be shot to hit the apple?"
   ]
  },
  {
   "cell_type": "code",
   "execution_count": 25,
   "metadata": {},
   "outputs": [
    {
     "data": {
      "text/plain": [
       "60.236777154231255"
      ]
     },
     "execution_count": 25,
     "metadata": {},
     "output_type": "execute_result"
    }
   ],
   "source": [
    "u = sqrt(400*10*sin(pi/3)/(2*cos(pi/3)/sin(pi/3) - 0.2))\n",
    "# this is wrong"
   ]
  },
  {
   "cell_type": "code",
   "execution_count": 31,
   "metadata": {},
   "outputs": [
    {
     "data": {
      "text/plain": [
       "1.7320508075688767"
      ]
     },
     "execution_count": 31,
     "metadata": {},
     "output_type": "execute_result"
    }
   ],
   "source": []
  },
  {
   "cell_type": "code",
   "execution_count": null,
   "metadata": {},
   "outputs": [],
   "source": []
  }
 ],
 "metadata": {
  "kernelspec": {
   "display_name": "Julia 1.0.2",
   "language": "julia",
   "name": "julia-1.0"
  },
  "language_info": {
   "file_extension": ".jl",
   "mimetype": "application/julia",
   "name": "julia",
   "version": "1.0.2"
  }
 },
 "nbformat": 4,
 "nbformat_minor": 2
}
