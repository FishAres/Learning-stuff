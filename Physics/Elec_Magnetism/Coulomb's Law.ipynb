{
 "cells": [
  {
   "cell_type": "markdown",
   "metadata": {},
   "source": [
    "## Coulomb's Law\n",
    "\n",
    "\"Force between two charges\"\n",
    "\n",
    "$$|F_e| = k_{e} \\frac{|q_1||q_2|}{r^2}$$\n",
    "\n",
    "where $k_{e}$ is the Coulomb constant, 9e9 Nm2/C2\n",
    "\n"
   ]
  },
  {
   "cell_type": "markdown",
   "metadata": {},
   "source": [
    "### Do two people at arm's length with 10% more electrons have enough force to lift the earth?\n",
    "\n",
    "This is a famous Feynman quote \n",
    "\n",
    "Each person (assuming 70kg weight) would have \n",
    "\n",
    "$$\\frac{70kg \\ x \\ 16 \\ x \\ 10^{-19}C}{1.7 \\ x \\ 10^{-26}kg/nuc \\ x \\ 2 \\ protons/nucleon}$$"
   ]
  },
  {
   "cell_type": "code",
   "execution_count": 3,
   "metadata": {},
   "outputs": [
    {
     "name": "stdout",
     "output_type": "stream",
     "text": [
      "3.2941176470588237e7 Coulombs"
     ]
    }
   ],
   "source": [
    "Rest = (70 * 1.6e-19) / (1.7e-27 * 2);\n",
    "excess = 0.01 * Rest;\n",
    "print(\"$excess Coulombs\")"
   ]
  },
  {
   "cell_type": "code",
   "execution_count": 28,
   "metadata": {},
   "outputs": [
    {
     "name": "stdout",
     "output_type": "stream",
     "text": [
      "4.340484429065745e24 Newtons\n"
     ]
    }
   ],
   "source": [
    "# So the force between two people with that charge would be: \n",
    "Cc = 9e9;\n",
    "F_e = Cc * excess^2 / (1.5^2); # assume \"arm's length\" is 1.5m\n",
    "println(\"$F_e Newtons\")"
   ]
  },
  {
   "cell_type": "code",
   "execution_count": 29,
   "metadata": {},
   "outputs": [
    {
     "name": "stdout",
     "output_type": "stream",
     "text": [
      "0.07234140715109576\n"
     ]
    }
   ],
   "source": [
    "# settings this absurd force to mg\n",
    "\n",
    "m = F_e / 10;\n",
    "m_earth = 6e24;\n",
    "println(\"$(m/m_earth)\")"
   ]
  },
  {
   "cell_type": "markdown",
   "metadata": {},
   "source": [
    "This doesn't quite pan out if we use 1.5m as \"arm's length\", but it works for < ~ 40cm"
   ]
  },
  {
   "cell_type": "markdown",
   "metadata": {},
   "source": [
    "### Getting vectors in :) \n",
    "\n",
    "$$F_e = \\kappa_{e} \\frac{q_1 q_2}{r^2} \\large\\hat{r}$$\n",
    "\n",
    "where $\\hat{r}$ is a unit vector pointing from charge 1 to charge 2, and its magnitude is 1\n",
    "\n",
    "### Problem:\n",
    "\n",
    "We have 4 charged particles in a rectangle with length 0.6m and height 0.15m, and each particle has equal charge $10 \\mu C$. What is the force on the first particle?"
   ]
  },
  {
   "cell_type": "code",
   "execution_count": 44,
   "metadata": {},
   "outputs": [
    {
     "data": {
      "text/plain": [
       "-40.0"
      ]
     },
     "execution_count": 44,
     "metadata": {},
     "output_type": "execute_result"
    }
   ],
   "source": [
    "# particle 2 (.15 m above particle 1)\n",
    "k_e = 9e9;\n",
    "F_21 = k_e * (10e-6)^2 / (0.15^2) * - 1 ; # <- unit vector\n",
    "round(F_21)"
   ]
  },
  {
   "cell_type": "code",
   "execution_count": 47,
   "metadata": {},
   "outputs": [
    {
     "data": {
      "text/plain": [
       "-3.0"
      ]
     },
     "execution_count": 47,
     "metadata": {},
     "output_type": "execute_result"
    }
   ],
   "source": [
    "# particle 2 (.15 m above particle 1)\n",
    "k_e = 9e9;\n",
    "F_41 = k_e * (10e-6)^2 / (0.6^2) * - 1 ; # <- unit vector\n",
    "round(F_41)"
   ]
  },
  {
   "cell_type": "code",
   "execution_count": 51,
   "metadata": {},
   "outputs": [
    {
     "data": {
      "text/plain": [
       "-1.0"
      ]
     },
     "execution_count": 51,
     "metadata": {},
     "output_type": "execute_result"
    }
   ],
   "source": [
    "# particle 3 (.15 m above and .6 m to the right of particle 1)\n",
    "k_e = 9e9;\n",
    "dist = sqrt(0.6^2 + 0.15^2)^2\n",
    "F_31 = k_e * (10e-6)^2 / (0.6^2) * - dist ; # <- unit vector\n",
    "round(F_31)"
   ]
  },
  {
   "cell_type": "code",
   "execution_count": 56,
   "metadata": {},
   "outputs": [
    {
     "data": {
      "text/plain": [
       "-52.69844377742572"
      ]
     },
     "execution_count": 56,
     "metadata": {},
     "output_type": "execute_result"
    }
   ],
   "source": [
    "# Since we know the length and width, the angle is...\n",
    "\n",
    "θ = atan(0.15/0.6);\n",
    "# And the net force is:\n",
    "\n",
    "F_31net = F_31*cos(θ) + F_31*sin(θ)\n",
    "F_41net = F_41*cos(θ) + F_41*sin(θ)\n",
    "F_21net = F_21*cos(θ) + F_21*sin(θ)\n",
    "F_net = F_31net + F_41net + F_21net"
   ]
  },
  {
   "cell_type": "markdown",
   "metadata": {},
   "source": [
    "### Using the unit vector\n",
    "\n",
    "eg. $\\hat{r_{21}} = \\large \\frac{\\vec{r_{21}}}{|r_{21}|}$\n",
    "\n",
    "Rewriting Coulomb's law:\n",
    "\n",
    "$$F_e = k_{e} \\frac{q_1 q_2}{r^3}  \\vec{r}$$\n"
   ]
  },
  {
   "cell_type": "code",
   "execution_count": 58,
   "metadata": {},
   "outputs": [
    {
     "name": "stdout",
     "output_type": "stream",
     "text": [
      "-40.0 N :)\n"
     ]
    }
   ],
   "source": [
    "F_21 = k_e * (10e-6)^2 / (0.15^3) * (-0.15)\n",
    "println(\"$F_21 N :)\")"
   ]
  },
  {
   "cell_type": "code",
   "execution_count": 68,
   "metadata": {},
   "outputs": [
    {
     "name": "stdout",
     "output_type": "stream",
     "text": [
      " F = -1.144417919816095 N\n"
     ]
    }
   ],
   "source": [
    "# F_31\n",
    "dist = sqrt(0.6^2 + 0.15^2)^(3/2)\n",
    "F_31i = k_e * (10e-6)^2 / dist * -0.6 # horizontal\n",
    "F_31j = k_e * (10e-6)^2 / dist * -0.15 # vertical\n",
    "F = F_31i*cos(θ) + F_31j*sin(θ)\n",
    "println(\" F = $F N\")"
   ]
  },
  {
   "cell_type": "code",
   "execution_count": null,
   "metadata": {},
   "outputs": [],
   "source": []
  },
  {
   "cell_type": "code",
   "execution_count": null,
   "metadata": {},
   "outputs": [],
   "source": []
  }
 ],
 "metadata": {
  "kernelspec": {
   "display_name": "Julia 0.6.3",
   "language": "julia",
   "name": "julia-0.6"
  },
  "language_info": {
   "file_extension": ".jl",
   "mimetype": "application/julia",
   "name": "julia",
   "version": "0.6.3"
  }
 },
 "nbformat": 4,
 "nbformat_minor": 2
}
