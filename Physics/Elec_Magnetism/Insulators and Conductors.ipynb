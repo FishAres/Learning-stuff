{
 "cells": [
  {
   "cell_type": "markdown",
   "metadata": {},
   "source": [
    "# Insulators and Conductors\n",
    "\n",
    "### Insulators\n",
    "\n",
    "Have electrons *bound* to their atom, but a \"surface\" can lose or gain electrons (e.g. with rubbing glass)\n",
    "\n",
    "### (Metallic) Conductors:\n",
    "\n",
    "Some (outer?) electrons can move freely through the lattice, and you can get pretty far by actually treating them as a \"gas\" of electrons."
   ]
  },
  {
   "cell_type": "markdown",
   "metadata": {},
   "source": [
    "## Charging by Induction\n",
    "\n",
    "e.g. a neutral conductor becomes electrically polarized when approached by a charged insulator\n",
    "\n",
    "To charge by induction, we \"cut\" the conductor in half (in practice you use two conductors).\n",
    "\n",
    "### Induction by ground:\n",
    "\n",
    "Using a much larger conductor as the second \"half\" of the conductor allows the first conductor to be charged as well. When \"grounding\" a building, we are literally connecting it to the massive conductor that is the Earth."
   ]
  },
  {
   "cell_type": "markdown",
   "metadata": {},
   "source": [
    "### Corona discharge:\n",
    "\n",
    "e.g. air molecules near a large negative charge lose electrons, which are launched at very high speeds, enough to iosnise other air molecules. The gas molecules get excited, and when they settle they emit light.\n",
    "\n",
    "If you have two oppositely charged coronas, where they intersect you have a plama of positive ions and electrons! With enough charge, this basically becomes  a conductor, and current will flow and form an arc. "
   ]
  },
  {
   "cell_type": "code",
   "execution_count": null,
   "metadata": {},
   "outputs": [],
   "source": []
  }
 ],
 "metadata": {
  "kernelspec": {
   "display_name": "Julia 0.6.3",
   "language": "julia",
   "name": "julia-0.6"
  },
  "language_info": {
   "file_extension": ".jl",
   "mimetype": "application/julia",
   "name": "julia",
   "version": "0.6.3"
  }
 },
 "nbformat": 4,
 "nbformat_minor": 2
}
