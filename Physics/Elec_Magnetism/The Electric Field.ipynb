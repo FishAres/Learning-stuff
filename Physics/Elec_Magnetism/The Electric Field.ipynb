{
 "cells": [
  {
   "cell_type": "markdown",
   "metadata": {},
   "source": [
    "# Field! What is?\n",
    "\n",
    "You can think of a field as a function in higher (> 1D) space. It can be a scalar or vector field."
   ]
  },
  {
   "cell_type": "markdown",
   "metadata": {},
   "source": [
    "# The Electric Field\n",
    "\n",
    "In the same way that a falling tree in a forest makes a sound (kinda) when nobody is there to hear it, a charged object creates a field even in the absense of other charged objects to act on. \n",
    "\n",
    "So we could describe the electric field as \"What a charge does to space\".\n",
    "\n",
    "The electric field is defined as \n",
    "\n",
    "$$\\vec{E_Q} = \\frac{\\vec{F_{Q-q}}}{q} = k_e \\frac{Q}{r^2}\\hat{r}$$\n",
    "\n",
    "Its units are N/C"
   ]
  },
  {
   "cell_type": "markdown",
   "metadata": {},
   "source": [
    "### Electric Field of Continuous Charges\n",
    "\n",
    "We assume that the distribution of charge is smooth at all scales\n",
    "\n",
    "E.g. teflon rod with length L and charge density $\\lambda = \\frac{Coulomb}{m} $\n",
    "\n",
    "Each \"infinitesimal\" little piece of rod creates a field, here a *differential field* at every point P. With this approximation, we can use Coulomb's law:\n",
    "\n",
    "$$d\\vec{E_p} = k_e \\frac{dQ}{(a + L-x)^2} \\hat{i} $$ \n",
    "\n",
    "Where *a* is the distance of point P from the end of the rod. We use i as our unit vector because we only consider the x axis for now."
   ]
  },
  {
   "cell_type": "markdown",
   "metadata": {},
   "source": [
    "We use the integral over differential fields:\n",
    "\n",
    "$$ \\vec{E_p} = \\int{d\\vec{E_p}} = \\int{k_e \\frac{dQ}{(a+L-x)^2}}\\hat{i} $$\n",
    "\n",
    "$$ = \\lambda k_e \\int{\\frac{dx}{(a+L-x)^2}\\hat{i}} $$\n",
    "\n",
    "$$ = \\frac{\\lambda k_e}{(a+L-x)} $$"
   ]
  },
  {
   "cell_type": "markdown",
   "metadata": {},
   "source": [
    "## Charged particle kinematics \n",
    "\n",
    "Imagine an electron with speed v0 moving into a uniform (positive) electric field. How far will it get before it's pushed back out of the field?\n",
    "\n",
    "We still have: $$\\vec{F} = q\\vec{E} = m \\vec{a} $$\n",
    "\n",
    "Thus, its acceleration is:\n",
    "\n",
    "$$ a = \\frac{eE}{m_e} $$\n",
    "\n",
    "$$ V_f^2 = V_0^2 + 2ad $$\n",
    "$$ 0 = V_0^2 - 2 \\frac{eE}{m_e}d $$\n",
    "$$ d = \\frac{m_e V_0^2}{eE} $$"
   ]
  },
  {
   "cell_type": "code",
   "execution_count": null,
   "metadata": {},
   "outputs": [],
   "source": []
  }
 ],
 "metadata": {
  "kernelspec": {
   "display_name": "Julia 0.6.3",
   "language": "julia",
   "name": "julia-0.6"
  },
  "language_info": {
   "file_extension": ".jl",
   "mimetype": "application/julia",
   "name": "julia",
   "version": "0.6.3"
  }
 },
 "nbformat": 4,
 "nbformat_minor": 2
}
