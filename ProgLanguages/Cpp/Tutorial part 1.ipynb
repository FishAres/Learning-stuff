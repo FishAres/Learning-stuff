{
 "cells": [
  {
   "cell_type": "code",
   "execution_count": 5,
   "metadata": {},
   "outputs": [],
   "source": [
    "#include <iostream>\n",
    "#include <fstream>\n",
    "#include <string>"
   ]
  },
  {
   "cell_type": "code",
   "execution_count": 6,
   "metadata": {},
   "outputs": [],
   "source": [
    "using namespace std;"
   ]
  },
  {
   "cell_type": "code",
   "execution_count": 14,
   "metadata": {},
   "outputs": [
    {
     "name": "stderr",
     "output_type": "stream",
     "text": [
      "\u001b[1minput_line_23:2:2: \u001b[0m\u001b[0;1;31merror: \u001b[0m\u001b[1munknown type name 'string'; did you mean 'std::string'?\u001b[0m\n",
      " string line;\n",
      "\u001b[0;1;32m ^~~~~~\n",
      "\u001b[0m\u001b[0;32m std::string\n",
      "\u001b[0m\u001b[1m/home/ares/miniconda3/envs/cling/bin/../lib/gcc/../../gcc/include/c++/bits/stringfwd.h:74:33: \u001b[0m\u001b[0;1;30mnote: \u001b[0m'std::string' declared here\u001b[0m\n",
      "  typedef basic_string<char>    string;   \n",
      "\u001b[0;1;32m                                ^\n",
      "\u001b[0m\u001b[1minput_line_23:3:1: \u001b[0m\u001b[0;1;31merror: \u001b[0m\u001b[1munknown type name 'ofstream'; did you mean 'std::ofstream'?\u001b[0m\n",
      "ofstream myfileI (\"input.txt\", ios::app);\n",
      "\u001b[0;1;32m^~~~~~~~\n",
      "\u001b[0m\u001b[0;32mstd::ofstream\n",
      "\u001b[0m\u001b[1m/home/ares/miniconda3/envs/cling/bin/../lib/gcc/../../gcc/include/c++/iosfwd:165:34: \u001b[0m\u001b[0;1;30mnote: \u001b[0m'std::ofstream' declared here\u001b[0m\n",
      "  typedef basic_ofstream<char>          ofstream;\n",
      "\u001b[0;1;32m                                        ^\n",
      "\u001b[0m\u001b[1minput_line_23:3:32: \u001b[0m\u001b[0;1;31merror: \u001b[0m\u001b[1muse of undeclared identifier 'ios'; did you mean 'std::ios'?\u001b[0m\n",
      "ofstream myfileI (\"input.txt\", ios::app);\n",
      "\u001b[0;1;32m                               ^~~\n",
      "\u001b[0m\u001b[0;32m                               std::ios\n",
      "\u001b[0m\u001b[1m/home/ares/miniconda3/envs/cling/bin/../lib/gcc/../../gcc/include/c++/iosfwd:132:29: \u001b[0m\u001b[0;1;30mnote: \u001b[0m'std::ios' declared here\u001b[0m\n",
      "  typedef basic_ios<char>               ios;\n",
      "\u001b[0;1;32m                                        ^\n",
      "\u001b[0m\u001b[1minput_line_23:3:10: \u001b[0m\u001b[0;1;31merror: \u001b[0m\u001b[1mno matching constructor for initialization of 'std::ofstream'\n",
      "      (aka 'basic_ofstream<char>')\u001b[0m\n",
      "ofstream myfileI (\"input.txt\", ios::app);\n",
      "\u001b[0;1;32m         ^        ~~~~~~~~~~~~~~~~~~~~~\n",
      "\u001b[0m\u001b[1m/home/ares/miniconda3/envs/cling/bin/../lib/gcc/../../gcc/include/c++/fstream:723:7: \u001b[0m\u001b[0;1;30mnote: \u001b[0mcandidate constructor not viable: requires 1 argument, but 2 were provided\u001b[0m\n",
      "      basic_ofstream(const basic_ofstream&) = delete;\n",
      "\u001b[0;1;32m      ^\n",
      "\u001b[0m\u001b[1m/home/ares/miniconda3/envs/cling/bin/../lib/gcc/../../gcc/include/c++/fstream:725:7: \u001b[0m\u001b[0;1;30mnote: \u001b[0mcandidate constructor not viable: requires single argument '__rhs', but 2 arguments were\n",
      "      provided\u001b[0m\n",
      "      basic_ofstream(basic_ofstream&& __rhs)\n",
      "\u001b[0;1;32m      ^\n",
      "\u001b[0m\u001b[1m/home/ares/miniconda3/envs/cling/bin/../lib/gcc/../../gcc/include/c++/fstream:682:7: \u001b[0m\u001b[0;1;30mnote: \u001b[0mcandidate constructor not viable: requires 0 arguments, but 2 were provided\u001b[0m\n",
      "      basic_ofstream(): __ostream_type(), _M_filebuf()\n",
      "\u001b[0;1;32m      ^\n",
      "\u001b[0m\u001b[1minput_line_23:11:1: \u001b[0m\u001b[0;1;31merror: \u001b[0m\u001b[1munknown type name 'ifstream'; did you mean 'std::ifstream'?\u001b[0m\n",
      "ifstream myfileO (\"input.txt\");\n",
      "\u001b[0;1;32m^~~~~~~~\n",
      "\u001b[0m\u001b[0;32mstd::ifstream\n",
      "\u001b[0m\u001b[1m/home/ares/miniconda3/envs/cling/bin/../lib/gcc/../../gcc/include/c++/iosfwd:162:34: \u001b[0m\u001b[0;1;30mnote: \u001b[0m'std::ifstream' declared here\u001b[0m\n",
      "  typedef basic_ifstream<char>          ifstream;\n",
      "\u001b[0;1;32m                                        ^\n",
      "\u001b[0m\u001b[1minput_line_23:11:10: \u001b[0m\u001b[0;1;31merror: \u001b[0m\u001b[1mno matching constructor for initialization of 'std::ifstream'\n",
      "      (aka 'basic_ifstream<char>')\u001b[0m\n",
      "ifstream myfileO (\"input.txt\");\n",
      "\u001b[0;1;32m         ^        ~~~~~~~~~~~\n",
      "\u001b[0m\u001b[1m/home/ares/miniconda3/envs/cling/bin/../lib/gcc/../../gcc/include/c++/fstream:519:7: \u001b[0m\u001b[0;1;30mnote: \u001b[0mcandidate constructor not viable: no known conversion from 'const char [10]' to 'const\n",
      "      std::basic_ifstream<char>' for 1st argument\u001b[0m\n",
      "      basic_ifstream(const basic_ifstream&) = delete;\n",
      "\u001b[0;1;32m      ^\n",
      "\u001b[0m\u001b[1m/home/ares/miniconda3/envs/cling/bin/../lib/gcc/../../gcc/include/c++/fstream:521:7: \u001b[0m\u001b[0;1;30mnote: \u001b[0mcandidate constructor not viable: no known conversion from 'const char [10]' to\n",
      "      'std::basic_ifstream<char>' for 1st argument\u001b[0m\n",
      "      basic_ifstream(basic_ifstream&& __rhs)\n",
      "\u001b[0;1;32m      ^\n",
      "\u001b[0m\u001b[1m/home/ares/miniconda3/envs/cling/bin/../lib/gcc/../../gcc/include/c++/fstream:481:7: \u001b[0m\u001b[0;1;30mnote: \u001b[0mcandidate constructor not viable: requires 0 arguments, but 1 was provided\u001b[0m\n",
      "      basic_ifstream() : __istream_type(), _M_filebuf()\n",
      "\u001b[0;1;32m      ^\n",
      "\u001b[0m"
     ]
    },
    {
     "ename": "Interpreter Error",
     "evalue": "",
     "output_type": "error",
     "traceback": [
      "Interpreter Error: "
     ]
    }
   ],
   "source": [
    "\n",
    "string line;\n",
    "\n",
    "ofstream myfileI (\"input.txt\", ios::app);\n",
    "if (myfileI.is_open())\n",
    "{\n",
    "    myfileI << \"\\nI am adding a line.\\n\";\n",
    "    myfileI << \"I ama dding another line.\\n\";\n",
    "    myfileI.close();\n",
    "}\n",
    "else std::cout << \"Unable to open file for writing\";\n",
    "\n",
    "ifstream myfileO (\"input.txt\");\n",
    "if (myfileO.is_open())\n",
    "{\n",
    "    while ( getline (myfileO, line) )\n",
    "    {\n",
    "        std::cout << line << '\\n';\n",
    "    }\n",
    "    myfileO.close();\n",
    "}\n",
    "else std::cout << \"Unable to open file for reading\";\n",
    "\n"
   ]
  },
  {
   "cell_type": "code",
   "execution_count": null,
   "metadata": {},
   "outputs": [],
   "source": []
  }
 ],
 "metadata": {
  "kernelspec": {
   "display_name": "C++17",
   "language": "C++17",
   "name": "xeus-cling-cpp17"
  },
  "language_info": {
   "codemirror_mode": "text/x-c++src",
   "file_extension": ".cpp",
   "mimetype": "text/x-c++src",
   "name": "c++",
   "version": "-std=c++17"
  }
 },
 "nbformat": 4,
 "nbformat_minor": 2
}
