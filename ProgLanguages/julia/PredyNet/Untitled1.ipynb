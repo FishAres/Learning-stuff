{
 "cells": [
  {
   "cell_type": "code",
   "execution_count": 21,
   "metadata": {},
   "outputs": [],
   "source": [
    "using Knet\n",
    "using Plots"
   ]
  },
  {
   "cell_type": "code",
   "execution_count": 2,
   "metadata": {},
   "outputs": [
    {
     "data": {
      "text/plain": [
       "predict (generic function with 1 method)"
      ]
     },
     "execution_count": 2,
     "metadata": {},
     "output_type": "execute_result"
    }
   ],
   "source": [
    "predict(w,x) = w[1]*x .+ w[2]"
   ]
  },
  {
   "cell_type": "code",
   "execution_count": 3,
   "metadata": {},
   "outputs": [
    {
     "data": {
      "text/plain": [
       "loss (generic function with 1 method)"
      ]
     },
     "execution_count": 3,
     "metadata": {},
     "output_type": "execute_result"
    }
   ],
   "source": [
    "loss(w,x,y) = mean(abs2,y-predict(w,x))"
   ]
  },
  {
   "cell_type": "code",
   "execution_count": 6,
   "metadata": {},
   "outputs": [
    {
     "data": {
      "text/plain": [
       "(::gradfun) (generic function with 1 method)"
      ]
     },
     "execution_count": 6,
     "metadata": {},
     "output_type": "execute_result"
    }
   ],
   "source": [
    "lossgradient = grad(loss)"
   ]
  },
  {
   "cell_type": "code",
   "execution_count": 7,
   "metadata": {},
   "outputs": [
    {
     "data": {
      "text/plain": [
       "train (generic function with 1 method)"
      ]
     },
     "execution_count": 7,
     "metadata": {},
     "output_type": "execute_result"
    }
   ],
   "source": [
    "function train(w, data; lr=.1)\n",
    "    for (x,y) in data\n",
    "        dw = lossgradient(w, x, y)\n",
    "        for i in 1:length(w)\n",
    "            w[i] -= lr * dw[i]\n",
    "        end\n",
    "    end\n",
    "    return w\n",
    "end"
   ]
  },
  {
   "cell_type": "code",
   "execution_count": 8,
   "metadata": {},
   "outputs": [],
   "source": [
    "include(Knet.dir(\"data\", \"housing.jl\"))"
   ]
  },
  {
   "cell_type": "code",
   "execution_count": 9,
   "metadata": {},
   "outputs": [
    {
     "name": "stderr",
     "output_type": "stream",
     "text": [
      "\u001b[1m\u001b[36mINFO: \u001b[39m\u001b[22m\u001b[36mDownloading https://archive.ics.uci.edu/ml/machine-learning-databases/housing/housing.data to C:\\Users\\ares\\AppData\\Local\\JuliaPro-0.6.2.2\\pkgs-0.6.2.2\\v0.6\\Knet\\data\\housing\\housing.data\n",
      "\u001b[39m"
     ]
    },
    {
     "data": {
      "text/plain": [
       "2-element Array{Any,1}:\n",
       "  [-0.0690608 -0.0944954 … -0.0144109 -0.0228299]\n",
       " 0.0                                             "
      ]
     },
     "execution_count": 9,
     "metadata": {},
     "output_type": "execute_result"
    }
   ],
   "source": [
    "x,y = housing()\n",
    "w = Any[0.1*randn(1,13), 0.0]"
   ]
  },
  {
   "cell_type": "code",
   "execution_count": 13,
   "metadata": {},
   "outputs": [
    {
     "name": "stdout",
     "output_type": "stream",
     "text": [
      "242.30089184048362\n",
      "163.37499133770675\n",
      "113.07644537781096\n",
      "80.95153753300707\n",
      "60.40162072484297\n",
      "47.233228036849034\n",
      "38.7770343698092\n",
      "33.33204518971124\n",
      "29.81330703648423\n",
      "27.528214121219566\n"
     ]
    }
   ],
   "source": [
    "for i in 1:10; train(w, [(x, y)]); println(loss(w,x,y)); end"
   ]
  },
  {
   "cell_type": "code",
   "execution_count": 14,
   "metadata": {},
   "outputs": [
    {
     "data": {
      "text/plain": [
       "predict (generic function with 1 method)"
      ]
     },
     "execution_count": 14,
     "metadata": {},
     "output_type": "execute_result"
    }
   ],
   "source": [
    "function predict(w,x0)\n",
    "    x1 = pool(relu.(conv4(w[1],x0) .+ w[2]))\n",
    "    x2 = pool(relu.(conv4(w[3],x1) .+ w[4]))\n",
    "    x3 = relu.(w[5]*mat(x2) .+ w[6])\n",
    "    return w[7]*x3 .+ w[8]\n",
    "end"
   ]
  },
  {
   "cell_type": "code",
   "execution_count": 16,
   "metadata": {},
   "outputs": [],
   "source": [
    "w = Any[ xavier(Float32,5,5,1,20),  zeros(Float32,1,1,20,1),\n",
    "         xavier(Float32,5,5,20,50), zeros(Float32,1,1,50,1),\n",
    "         xavier(Float32,500,800),   zeros(Float32,500,1),\n",
    "         xavier(Float32,10,500),    zeros(Float32,10,1) ];"
   ]
  },
  {
   "cell_type": "code",
   "execution_count": 19,
   "metadata": {},
   "outputs": [],
   "source": [
    "include(Knet.dir(\"data\",\"mnist.jl\"));\n",
    "xtrn, ytrn, xtst, ytst = mnist();"
   ]
  },
  {
   "cell_type": "code",
   "execution_count": 22,
   "metadata": {},
   "outputs": [
    {
     "ename": "LoadError",
     "evalue": "\u001b[91mKnetPtr: bad device id -1.\u001b[39m",
     "output_type": "error",
     "traceback": [
      "\u001b[91mKnetPtr: bad device id -1.\u001b[39m",
      "",
      "Stacktrace:",
      " [1] \u001b[1mKnet.KnetPtr\u001b[22m\u001b[22m\u001b[1m(\u001b[22m\u001b[22m::Int64\u001b[1m)\u001b[22m\u001b[22m at \u001b[1mC:\\\\\\\\\\\\\\\\\\\\\\\\\\\\\\\\\\\\\\\\\\\\\\\\\\\\\\\\\\\\\\\\\\\\\\\\\\\\\\\\\\\\\\\\\\\\\\\\\\\\\\\\\\\\\\\\Users\\ares\\AppData\\Local\\JuliaPro-0.6.2.2\\pkgs-0.6.2.2\\v0.6\\Knet\\src\\kptr.jl:73\u001b[22m\u001b[22m",
      " [2] \u001b[1mType\u001b[22m\u001b[22m at \u001b[1mC:\\\\\\\\\\\\\\\\\\\\\\\\\\\\\\\\\\\\\\\\\\\\\\\\\\\\\\\\\\\\\\\\\\\\\\\\\\\\\\\\\\\\\\\\\\\\\\\\\\\\\\\\\\\\\\\\Users\\ares\\AppData\\Local\\JuliaPro-0.6.2.2\\pkgs-0.6.2.2\\v0.6\\Knet\\src\\karray.jl:104\u001b[22m\u001b[22m [inlined]",
      " [3] \u001b[1mType\u001b[22m\u001b[22m at \u001b[1mC:\\\\\\\\\\\\\\\\\\\\\\\\\\\\\\\\\\\\\\\\\\\\\\\\\\\\\\\\\\\\\\\\\\\\\\\\\\\\\\\\\\\\\\\\\\\\\\\\\\\\\\\\\\\\\\\\Users\\ares\\AppData\\Local\\JuliaPro-0.6.2.2\\pkgs-0.6.2.2\\v0.6\\Knet\\src\\karray.jl:114\u001b[22m\u001b[22m [inlined]",
      " [4] \u001b[1mconvert\u001b[22m\u001b[22m\u001b[1m(\u001b[22m\u001b[22m::Type{Knet.KnetArray{Float32,4}}, ::Array{Float32,4}\u001b[1m)\u001b[22m\u001b[22m at \u001b[1mC:\\\\\\\\\\\\\\\\\\\\\\\\\\\\\\\\\\\\\\\\\\\\\\\\\\\\\\\\\\\\\\\\\\\\\\\\\\\\\\\\\\\\\\\\\\\\\\\\\\\\\\\\\\\\\\\\Users\\ares\\AppData\\Local\\JuliaPro-0.6.2.2\\pkgs-0.6.2.2\\v0.6\\Knet\\src\\karray.jl:153\u001b[22m\u001b[22m",
      " [5] \u001b[1mKnet.KnetArray\u001b[22m\u001b[22m\u001b[1m(\u001b[22m\u001b[22m::Array{Float32,4}\u001b[1m)\u001b[22m\u001b[22m at \u001b[1m.\\sysimg.jl:77\u001b[22m\u001b[22m",
      " [6] \u001b[1m_collect\u001b[22m\u001b[22m\u001b[1m(\u001b[22m\u001b[22m::Array{Any,1}, ::Base.Generator{Array{Any,1},Type{Knet.KnetArray}}, ::Base.EltypeUnknown, ::Base.HasShape\u001b[1m)\u001b[22m\u001b[22m at \u001b[1m.\\array.jl:488\u001b[22m\u001b[22m",
      " [7] \u001b[1mmap\u001b[22m\u001b[22m\u001b[1m(\u001b[22m\u001b[22m::Type{T} where T, ::Array{Any,1}\u001b[1m)\u001b[22m\u001b[22m at \u001b[1m.\\abstractarray.jl:1868\u001b[22m\u001b[22m",
      " [8] \u001b[1minclude_string\u001b[22m\u001b[22m\u001b[1m(\u001b[22m\u001b[22m::String, ::String\u001b[1m)\u001b[22m\u001b[22m at \u001b[1m.\\loading.jl:522\u001b[22m\u001b[22m"
     ]
    }
   ],
   "source": [
    "dtrn = minibatch(xtrn,ytrn,100,xtype=KnetArray)\n",
    "dtst = minibatch(xtst,ytst,100,xtype=KnetArray)\n",
    "w = map(KnetArray, w);"
   ]
  },
  {
   "cell_type": "code",
   "execution_count": null,
   "metadata": {},
   "outputs": [],
   "source": []
  }
 ],
 "metadata": {
  "kernelspec": {
   "display_name": "Julia 0.6.2",
   "language": "julia",
   "name": "julia-0.6"
  },
  "language_info": {
   "file_extension": ".jl",
   "mimetype": "application/julia",
   "name": "julia",
   "version": "0.6.2"
  }
 },
 "nbformat": 4,
 "nbformat_minor": 2
}
