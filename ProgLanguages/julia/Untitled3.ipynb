{
 "cells": [
  {
   "cell_type": "code",
   "execution_count": 1,
   "metadata": {},
   "outputs": [
    {
     "name": "stderr",
     "output_type": "stream",
     "text": [
      "┌ Info: Recompiling stale cache file C:\\Users\\ares\\.julia\\compiled\\v0.7\\MeshCat\\CZdjb.ji for MeshCat [283c5d60-a78f-5afe-a0af-af636b173e11]\n",
      "└ @ Base loading.jl:1185\n",
      "WARNING: Base.send is deprecated: it has been moved to the standard library package `Sockets`.\n",
      "Add `using Sockets` to your imports.\n",
      "  likely near C:\\Users\\ares\\.julia\\dev\\MeshCat\\src\\servers.jl:47\n",
      "┌ Warning: Requires now needs a UUID; please see the readme for changes in 0.7.\n",
      "└ @ MeshCat.BlinkInterface C:\\Users\\ares\\.julia\\dev\\MeshCat\\src\\servers.jl:107\n"
     ]
    },
    {
     "data": {
      "text/html": [
       "    <script class='js-collapse-script'>\n",
       "        var curMatch =\n",
       "            window.location.href\n",
       "            .match(/(.*?)\\/notebooks\\/.*\\.ipynb/);\n",
       "\n",
       "        curMatch = curMatch ||\n",
       "            window.location.href\n",
       "            .match(/(.*?)\\/apps\\/.*\\.ipynb/);\n",
       "\n",
       "        if ( curMatch ) {\n",
       "            $('head').append('<base href=\"' + curMatch[1] + '/\">');\n",
       "        }\n",
       "    </script>\n"
      ],
      "text/plain": [
       "HTML{String}(\"    <script class='js-collapse-script'>\\n        var curMatch =\\n            window.location.href\\n            .match(/(.*?)\\\\/notebooks\\\\/.*\\\\.ipynb/);\\n\\n        curMatch = curMatch ||\\n            window.location.href\\n            .match(/(.*?)\\\\/apps\\\\/.*\\\\.ipynb/);\\n\\n        if ( curMatch ) {\\n            \\$('head').append('<base href=\\\"' + curMatch[1] + '/\\\">');\\n        }\\n    </script>\\n\")"
      ]
     },
     "metadata": {},
     "output_type": "display_data"
    },
    {
     "data": {
      "text/html": [
       "<script class='js-collapse-script' src='/assetserver/796e0fad9ec408bd4b92bc834623be63c90c7497-assets/webio/dist/bundle.js'></script>"
      ],
      "text/plain": [
       "HTML{String}(\"<script class='js-collapse-script' src='/assetserver/796e0fad9ec408bd4b92bc834623be63c90c7497-assets/webio/dist/bundle.js'></script>\")"
      ]
     },
     "metadata": {},
     "output_type": "display_data"
    },
    {
     "data": {
      "text/html": [
       "<script class='js-collapse-script' src='/assetserver/796e0fad9ec408bd4b92bc834623be63c90c7497-assets/providers/ijulia_setup.js'></script>"
      ],
      "text/plain": [
       "HTML{String}(\"<script class='js-collapse-script' src='/assetserver/796e0fad9ec408bd4b92bc834623be63c90c7497-assets/providers/ijulia_setup.js'></script>\")"
      ]
     },
     "metadata": {},
     "output_type": "display_data"
    },
    {
     "data": {
      "text/html": [
       "  <script class='js-collapse-script'>\n",
       "    $('.js-collapse-script').parent('.output_subarea').css('padding', '0');\n",
       "  </script>\n"
      ],
      "text/plain": [
       "HTML{String}(\"  <script class='js-collapse-script'>\\n    \\$('.js-collapse-script').parent('.output_subarea').css('padding', '0');\\n  </script>\\n\")"
      ]
     },
     "metadata": {},
     "output_type": "display_data"
    }
   ],
   "source": [
    "using MeshCat"
   ]
  },
  {
   "cell_type": "code",
   "execution_count": 2,
   "metadata": {},
   "outputs": [
    {
     "data": {
      "text/plain": [
       "MeshCat Visualizer with path /meshcat"
      ]
     },
     "execution_count": 2,
     "metadata": {},
     "output_type": "execute_result"
    }
   ],
   "source": [
    "vis = Visualizer()"
   ]
  },
  {
   "cell_type": "code",
   "execution_count": null,
   "metadata": {},
   "outputs": [
    {
     "name": "stderr",
     "output_type": "stream",
     "text": [
      "WARNING: importing deprecated binding Base.listen into Servers.\n",
      "WARNING: Base.listen is deprecated: it has been moved to the standard library package `Sockets`.\n",
      "Add `using Sockets` to your imports.\n",
      "  likely near In[3]:1\n",
      "WARNING: Base.UVError is deprecated, use IOError instead.\n",
      "  likely near In[3]:1\n",
      "WARNING: Base.listen is deprecated: it has been moved to the standard library package `Sockets`.\n",
      "Add `using Sockets` to your imports.\n",
      "  likely near In[3]:1\n",
      "WARNING: Base.listen is deprecated: it has been moved to the standard library package `Sockets`.\n",
      "Add `using Sockets` to your imports.\n",
      "  likely near In[3]:1\n",
      "WARNING: Base.listen is deprecated: it has been moved to the standard library package `Sockets`.\n",
      "Add `using Sockets` to your imports.\n",
      "  likely near In[3]:1\n",
      "WARNING: Base.listen is deprecated: it has been moved to the standard library package `Sockets`.\n",
      "Add `using Sockets` to your imports.\n",
      "  likely near In[3]:1\n",
      "WARNING: Base.UVError is deprecated, use IOError instead.\n",
      "  likely near In[3]:1\n",
      "WARNING: Base.listen is deprecated: it has been moved to the standard library package `Sockets`.\n",
      "Add `using Sockets` to your imports.\n",
      "  likely near In[3]:1\n",
      "WARNING: Base.listen is deprecated: it has been moved to the standard library package `Sockets`.\n",
      "Add `using Sockets` to your imports.\n",
      "  likely near In[3]:1\n",
      "WARNING: Base.listen is deprecated: it has been moved to the standard library package `Sockets`.\n",
      "Add `using Sockets` to your imports.\n",
      "  likely near In[3]:1\n",
      "WARNING: Base.UVError is deprecated, use IOError instead.\n",
      "  likely near In[3]:1\n",
      "in #open#4 at C:\\Users\\ares\\.julia\\dev\\MeshCat\\src\\servers.jl\n",
      "┌ Warning: `a::Number + b::AbstractArray` is deprecated, use `a .+ b` instead.\n",
      "│   caller = #open#4(::Int64, ::Int64, ::Function, ::MeshCat.CoreVisualizer) at servers.jl:85\n",
      "└ @ MeshCat.Servers C:\\Users\\ares\\.julia\\dev\\MeshCat\\src\\servers.jl:85\n",
      "┌ Info: Listening on: Sockets.InetAddr{Sockets.IPv4}(ip\"127.0.0.1\", 0x21fc)\n",
      "└ @ HTTP.Servers C:\\Users\\ares\\.julia\\packages\\HTTP\\nUK4f\\src\\Servers.jl:307\n"
     ]
    }
   ],
   "source": [
    "open(vis)"
   ]
  },
  {
   "cell_type": "code",
   "execution_count": null,
   "metadata": {},
   "outputs": [],
   "source": []
  }
 ],
 "metadata": {
  "kernelspec": {
   "display_name": "Julia 0.7.0",
   "language": "julia",
   "name": "julia-0.7"
  },
  "language_info": {
   "file_extension": ".jl",
   "mimetype": "application/julia",
   "name": "julia",
   "version": "0.7.0"
  }
 },
 "nbformat": 4,
 "nbformat_minor": 2
}
