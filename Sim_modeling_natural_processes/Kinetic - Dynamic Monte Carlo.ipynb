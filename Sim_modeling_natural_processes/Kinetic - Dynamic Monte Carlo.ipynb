{
 "cells": [
  {
   "cell_type": "code",
   "execution_count": 1,
   "metadata": {},
   "outputs": [],
   "source": [
    "using Statistics\n",
    "using Plots"
   ]
  },
  {
   "cell_type": "markdown",
   "metadata": {},
   "source": [
    "Consider the chemical equations\n",
    "\n",
    "$$ A \\xrightarrow[]{k_1} B \\ \\ \\  \\ B \\xrightarrow[]{k_2} A $$\n",
    "\n",
    "They can be written as an ordinary diff. eq.\n",
    "\n",
    "$$ \\frac{d}{dt} \\begin{pmatrix} A \\\\ B \\end{pmatrix} = \\begin{pmatrix} -k_1 & k_2 \\\\ k_1 & -k_2 \\end{pmatrix} \\begin{pmatrix} A \\\\ B \\end{pmatrix} $$"
   ]
  },
  {
   "cell_type": "code",
   "execution_count": null,
   "metadata": {},
   "outputs": [],
   "source": []
  }
 ],
 "metadata": {
  "kernelspec": {
   "display_name": "Julia 1.0.1",
   "language": "julia",
   "name": "julia-1.0"
  },
  "language_info": {
   "file_extension": ".jl",
   "mimetype": "application/julia",
   "name": "julia",
   "version": "1.0.1"
  }
 },
 "nbformat": 4,
 "nbformat_minor": 2
}
