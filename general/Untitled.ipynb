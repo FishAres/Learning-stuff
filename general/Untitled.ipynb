{
 "cells": [
  {
   "cell_type": "markdown",
   "metadata": {},
   "source": [
    "### Maximum likelihood:\n",
    "\n",
    "Likelihood is the joint probability of all the observations given parameters theta\n",
    "\n",
    "$$\\mathbf{ML_n(\\theta)} = \\prod f(x_1 ; \\theta)$$\n",
    "\n",
    "Note that log version of ML becomes a sum of logs\n",
    "\n",
    "1. *Close* to being unbiased \n",
    "2. Consistent (i.e. converges with repeated sampling to the true parameters)\n",
    "3. Equivariant: transformation of the ML = ML of the transformation\n",
    "4. Asymptotically Normal: $\\frac{(\\hat{\\theta} - \\theta)}{\\hat{s}c} \\rightarrow N(0, 1)$\n",
    "\n"
   ]
  },
  {
   "cell_type": "markdown",
   "metadata": {},
   "source": [
    "Conditional probability:\n",
    "\n",
    "$$P(A|B) = \\frac{P(A \\cap B)}{P(B)} $$\n",
    "\n",
    "### Bayesian \"confidence interval\"\n",
    "\n",
    "Now actually the true probability that $\\theta$ is in the set\n",
    "\n",
    "$$P(\\theta \\in c \\ | \\ x^n) = \\int f(\\theta | x^n)d\\theta = 1 - \\alpha$$"
   ]
  },
  {
   "cell_type": "code",
   "execution_count": null,
   "metadata": {},
   "outputs": [],
   "source": []
  }
 ],
 "metadata": {
  "kernelspec": {
   "display_name": "Python 3",
   "language": "python",
   "name": "python3"
  },
  "language_info": {
   "codemirror_mode": {
    "name": "ipython",
    "version": 3
   },
   "file_extension": ".py",
   "mimetype": "text/x-python",
   "name": "python",
   "nbconvert_exporter": "python",
   "pygments_lexer": "ipython3",
   "version": "3.6.5"
  }
 },
 "nbformat": 4,
 "nbformat_minor": 2
}
