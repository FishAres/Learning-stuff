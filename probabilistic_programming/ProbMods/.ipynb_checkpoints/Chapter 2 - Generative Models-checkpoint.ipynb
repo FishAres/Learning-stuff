{
 "cells": [
  {
   "cell_type": "markdown",
   "metadata": {},
   "source": [
    "## Primer on probability\n",
    "\n",
    "### Product rule: \n",
    "\n",
    "* If the variables A, B are independent:\n",
    "    * $P(A,B)= P(A)P(B)$\n",
    "    \n",
    "* If they are dependent:\n",
    "    * $P(A,B) = P(A)P(B|A)$\n",
    "    \n",
    "E.g. the probability that two coins will land heads is $0.5 \\times 0.5 = 0.25$\n",
    "    \n",
    "**Side note:** This is obviously the source of Bayes' rule. A potentially interesting observation for the clueless like myself is its pre-final form:\n",
    "\n",
    "$$P(A)P(B|A) = P(B)P(A|B)$$\n",
    "\n",
    "This is reminiscent of \"detailed balance\".\n",
    "\n",
    "\n",
    "### Sum rule:\n",
    "\n",
    "$$P(A) = \\Sigma_{B}P(A,B)$$"
   ]
  },
  {
   "cell_type": "markdown",
   "metadata": {},
   "source": [
    "## Stochastic recursion\n",
    "\n",
    "This refers to whether or not we can randomly decide when a condition is met. For example, the *geometric distribution*. This is basically a cumulative \"survival function\" over how many times we can move forward until the probabilistic condition is met."
   ]
  },
  {
   "cell_type": "code",
   "execution_count": 19,
   "metadata": {},
   "outputs": [
    {
     "data": {
      "image/png": "[encoded data removed]",
      "text/plain": [
       "<matplotlib.figure.Figure at 0x244b9b01390>"
      ]
     },
     "metadata": {},
     "output_type": "display_data"
    }
   ],
   "source": [
    "import numpy as np\n",
    "import matplotlib.pyplot as plt\n",
    "def geometric(p):\n",
    "    if np.random.rand() > p:\n",
    "        return 1 + geometric(p)\n",
    "    else:\n",
    "        return 0\n",
    "    \n",
    "plt.hist([geometric(0.2) for k in range(1000)]);"
   ]
  },
  {
   "cell_type": "code",
   "execution_count": 23,
   "metadata": {},
   "outputs": [],
   "source": [
    "import sys\n",
    "sys.path.append('C:/Code/helpful_tools/python/')\n",
    "from memoizing import memoize"
   ]
  },
  {
   "cell_type": "code",
   "execution_count": null,
   "metadata": {},
   "outputs": [],
   "source": []
  }
 ],
 "metadata": {
  "kernelspec": {
   "display_name": "Python 3",
   "language": "python",
   "name": "python3"
  },
  "language_info": {
   "codemirror_mode": {
    "name": "ipython",
    "version": 3
   },
   "file_extension": ".py",
   "mimetype": "text/x-python",
   "name": "python",
   "nbconvert_exporter": "python",
   "pygments_lexer": "ipython3",
   "version": "3.6.4"
  }
 },
 "nbformat": 4,
 "nbformat_minor": 2
}
