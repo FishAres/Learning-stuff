{
 "cells": [
  {
   "cell_type": "markdown",
   "metadata": {},
   "source": [
    "## Primer on probability\n",
    "\n",
    "### Product rule: \n",
    "\n",
    "* If the variables A, B are independent:\n",
    "    * $P(A,B)= P(A)P(B)$\n",
    "    \n",
    "* If they are dependent:\n",
    "    * $P(A,B) = P(A)P(B|A)$\n",
    "    \n",
    "E.g. the probability that two coins will land heads is $0.5 \\times 0.5 = 0.25$\n",
    "    \n",
    "**Side note:** This is obviously the source of Bayes' rule. A potentially interesting observation for the clueless like myself is its pre-final form:\n",
    "\n",
    "$$P(A)P(B|A) = P(B)P(A|B)$$\n",
    "\n",
    "This is reminiscent of \"detailed balance\".\n",
    "\n",
    "\n",
    "### Sum rule:\n",
    "\n",
    "$$P(A) = \\Sigma_{B}P(A,B)$$"
   ]
  },
  {
   "cell_type": "markdown",
   "metadata": {},
   "source": [
    "## Stochastic recursion\n",
    "\n",
    "This refers to whether or not we can randomly decide when a condition is met. For example, the *geometric distribution*. This is basically a cumulative \"survival function\" over how many times we can move forward until the probabilistic condition is met."
   ]
  },
  {
   "cell_type": "code",
   "execution_count": 14,
   "metadata": {},
   "outputs": [
    {
     "data": {
      "image/png": "[encoded data removed]",
      "text/plain": [
       "<matplotlib.figure.Figure at 0x242efb3b048>"
      ]
     },
     "metadata": {},
     "output_type": "display_data"
    }
   ],
   "source": [
    "import numpy as np\n",
    "import matplotlib.pyplot as plt\n",
    "%matplotlib inline\n",
    "\n",
    "def geometric(p):\n",
    "    if np.random.rand() > p:\n",
    "        return 1 + geometric(p)\n",
    "    else:\n",
    "        return 0\n",
    "    \n",
    "plt.hist([geometric(0.2) for k in range(1000)]);"
   ]
  },
  {
   "cell_type": "code",
   "execution_count": 24,
   "metadata": {},
   "outputs": [],
   "source": [
    "def eyeColor(person): \n",
    "# Note that you can use inputs that don't appear in the function\n",
    "    colors = [\"blue\", \"green\", \"brown\"]\n",
    "    return colors[np.random.randint(len(colors))]"
   ]
  },
  {
   "cell_type": "markdown",
   "metadata": {},
   "source": [
    "We can use memoization! This basically stores the value of a given computation and makes things like recursion much more efficient. This is also helpful with probabilistic programs since we can store the results of random draws. "
   ]
  },
  {
   "cell_type": "code",
   "execution_count": 32,
   "metadata": {},
   "outputs": [
    {
     "name": "stdout",
     "output_type": "stream",
     "text": [
      "['blue', 'blue', 'blue', 'green', 'green', 'blue', 'green', 'brown', 'green', 'blue']\n"
     ]
    }
   ],
   "source": [
    "print([eyeColor('bob') for _ in range(10)])"
   ]
  },
  {
   "cell_type": "code",
   "execution_count": 33,
   "metadata": {},
   "outputs": [
    {
     "name": "stdout",
     "output_type": "stream",
     "text": [
      "['blue', 'blue', 'blue', 'blue', 'blue', 'blue', 'blue', 'blue', 'blue', 'blue']\n"
     ]
    }
   ],
   "source": [
    "mem_clr = memoize(eyeColor)\n",
    "print([mem_clr('bob') for _ in range(10)])"
   ]
  },
  {
   "cell_type": "code",
   "execution_count": null,
   "metadata": {},
   "outputs": [],
   "source": []
  },
  {
   "cell_type": "code",
   "execution_count": 3,
   "metadata": {},
   "outputs": [],
   "source": [
    "def memoize(f):\n",
    "    memo = {}\n",
    "    def helper(x):\n",
    "        if x not in memo:            \n",
    "            memo[x] = f(x)\n",
    "        return memo[x]\n",
    "    return helper"
   ]
  },
  {
   "cell_type": "code",
   "execution_count": null,
   "metadata": {},
   "outputs": [],
   "source": []
  }
 ],
 "metadata": {
  "kernelspec": {
   "display_name": "Python 3",
   "language": "python",
   "name": "python3"
  },
  "language_info": {
   "codemirror_mode": {
    "name": "ipython",
    "version": 3
   },
   "file_extension": ".py",
   "mimetype": "text/x-python",
   "name": "python",
   "nbconvert_exporter": "python",
   "pygments_lexer": "ipython3",
   "version": "3.6.4"
  }
 },
 "nbformat": 4,
 "nbformat_minor": 2
}
