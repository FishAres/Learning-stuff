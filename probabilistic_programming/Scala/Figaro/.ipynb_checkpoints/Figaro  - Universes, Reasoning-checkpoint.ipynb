{
 "cells": [
  {
   "cell_type": "code",
   "execution_count": 1,
   "metadata": {},
   "outputs": [
    {
     "data": {
      "application/vnd.jupyter.widget-view+json": {
       "model_id": "",
       "version_major": 2,
       "version_minor": 0
      },
      "method": "display_data"
     },
     "metadata": {},
     "output_type": "display_data"
    },
    {
     "data": {
      "application/vnd.jupyter.widget-view+json": {
       "model_id": "9cd27a39-2060-424f-a65a-2519a69d4c5d",
       "version_major": 2,
       "version_minor": 0
      },
      "method": "display_data"
     },
     "metadata": {},
     "output_type": "display_data"
    }
   ],
   "source": [
    "%classpath add mvn com.cra.figaro figaro_2.11 5.0.0.0"
   ]
  },
  {
   "cell_type": "markdown",
   "metadata": {},
   "source": [
    "## Universes\n",
    "\n",
    "Reasoning algorithms in Figaro rely on universes. These can also be \"connected\". Most of the time you'll use the default universe."
   ]
  },
  {
   "cell_type": "code",
   "execution_count": 2,
   "metadata": {},
   "outputs": [
    {
     "data": {
      "text/plain": [
       "import com.cra.figaro.language._\r\n",
       "import com.cra.figaro.language.Universe._\n"
      ]
     },
     "execution_count": 2,
     "metadata": {},
     "output_type": "execute_result"
    }
   ],
   "source": [
    "import com.cra.figaro.language._\n",
    "import com.cra.figaro.language.Universe._"
   ]
  },
  {
   "cell_type": "code",
   "execution_count": 4,
   "metadata": {},
   "outputs": [
    {
     "ename": "input is incomplete",
     "evalue": "input is incomplete",
     "output_type": "error",
     "traceback": [
      "\u001b[1;31minput is incomplete\u001b[0;0m"
     ]
    }
   ],
   "source": [
    "// e.g.\n",
    "val u1 = Universe.universe\n",
    "val u2 = Universe.createNew()\n"
   ]
  },
  {
   "cell_type": "markdown",
   "metadata": {},
   "source": [
    "Every element corresponds to *one* universe. We can deactivate elements using *element*.deactivate(), and can re-activate it. u.active-Elements gets the active ones. \n",
    "\n",
    "This can be useful when we have \"reference uncertainty\" - we don't know the value of something that's an instance of another class (like with mutable, lazily evaluated example?)"
   ]
  },
  {
   "cell_type": "code",
   "execution_count": 3,
   "metadata": {},
   "outputs": [
    {
     "data": {
      "text/plain": [
       "defined class Engine\r\n",
       "defined class V8\n"
      ]
     },
     "execution_count": 3,
     "metadata": {},
     "output_type": "execute_result"
    }
   ],
   "source": [
    "abstract class Engine { val power : Element[Symbol]}\n",
    "class V8 extends Engine {\n",
    "    val power = Select(0.8 -> 'low, 0.2 -> 'high)\n",
    "}\n",
    "\n",
    "class V6 extends Engine {\n",
    "    val power = Select(0.8 -> 'low, 0.2 -> 'high)\n",
    "}\n",
    "\n",
    "object MySuperEngine extends V8 {\n",
    "    val power = Constant('high)\n",
    "    // lol\n",
    "}\n",
    "\n",
    "class Car {\n",
    "    val engine = Uniform[Engine](new V8, new V6, MySuperEngine)\n",
    "    val speed = CPD(?,\n",
    "                   'high -> Constant())\n",
    "}"
   ]
  },
  {
   "cell_type": "code",
   "execution_count": null,
   "metadata": {},
   "outputs": [],
   "source": []
  }
 ],
 "metadata": {
  "kernelspec": {
   "display_name": "Scala",
   "language": "scala",
   "name": "scala"
  },
  "language_info": {
   "codemirror_mode": "text/x-scala",
   "file_extension": ".scala",
   "mimetype": "",
   "name": "Scala",
   "nbconverter_exporter": "",
   "version": "2.11.12"
  },
  "toc": {
   "base_numbering": 1,
   "nav_menu": {},
   "number_sections": false,
   "sideBar": false,
   "skip_h1_title": false,
   "title_cell": "Table of Contents",
   "title_sidebar": "Contents",
   "toc_cell": false,
   "toc_position": {},
   "toc_section_display": false,
   "toc_window_display": false
  }
 },
 "nbformat": 4,
 "nbformat_minor": 2
}
