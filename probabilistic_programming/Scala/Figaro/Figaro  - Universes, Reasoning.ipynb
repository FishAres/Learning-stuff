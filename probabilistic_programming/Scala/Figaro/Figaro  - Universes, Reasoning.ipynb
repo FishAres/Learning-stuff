{
 "cells": [
  {
   "cell_type": "code",
   "execution_count": 1,
   "metadata": {},
   "outputs": [
    {
     "data": {
      "application/vnd.jupyter.widget-view+json": {
       "model_id": "",
       "version_major": 2,
       "version_minor": 0
      },
      "method": "display_data"
     },
     "metadata": {},
     "output_type": "display_data"
    },
    {
     "data": {
      "application/vnd.jupyter.widget-view+json": {
       "model_id": "e227ae47-0469-4ea1-8e1e-71abcc404223",
       "version_major": 2,
       "version_minor": 0
      },
      "method": "display_data"
     },
     "metadata": {},
     "output_type": "display_data"
    }
   ],
   "source": [
    "%classpath add mvn com.cra.figaro figaro_2.11 5.0.0.0"
   ]
  },
  {
   "cell_type": "markdown",
   "metadata": {},
   "source": [
    "## Universes\n",
    "\n",
    "Reasoning algorithms in Figaro rely on universes. These can also be \"connected\". Most of the time you'll use the default universe."
   ]
  },
  {
   "cell_type": "code",
   "execution_count": 2,
   "metadata": {},
   "outputs": [
    {
     "data": {
      "text/plain": [
       "import com.cra.figaro.language._\r\n",
       "import com.cra.figaro.language.Universe._\n"
      ]
     },
     "execution_count": 2,
     "metadata": {},
     "output_type": "execute_result"
    }
   ],
   "source": [
    "import com.cra.figaro.language._\n",
    "import com.cra.figaro.language.Universe._"
   ]
  },
  {
   "cell_type": "code",
   "execution_count": 4,
   "metadata": {},
   "outputs": [
    {
     "ename": "input is incomplete",
     "evalue": "input is incomplete",
     "output_type": "error",
     "traceback": [
      "\u001b[1;31minput is incomplete\u001b[0;0m"
     ]
    }
   ],
   "source": [
    "// e.g.\n",
    "val u1 = Universe.universe\n",
    "val u2 = Universe.createNew()\n"
   ]
  },
  {
   "cell_type": "markdown",
   "metadata": {},
   "source": [
    "Every element corresponds to *one* universe. We can deactivate elements using *element*.deactivate(), and can re-activate it. u.active-Elements gets the active ones. \n",
    "\n",
    "This can be useful when we have \"reference uncertainty\" - we don't know the value of something that's an instance of another class (like with mutable, lazily evaluated example?)"
   ]
  },
  {
   "cell_type": "code",
   "execution_count": 10,
   "metadata": {},
   "outputs": [
    {
     "data": {
      "text/plain": [
       "import com.cra.figaro.algorithm.sampling._\r\n",
       "import com.cra.figaro.algorithm.factored._\r\n",
       "import com.cra.figaro.library.compound._\r\n",
       "import com.cra.figaro.library.atomic.discrete.Uniform\r\n",
       "import com.cra.figaro.library.atomic.continuous.Normal\n"
      ]
     },
     "execution_count": 10,
     "metadata": {},
     "output_type": "execute_result"
    }
   ],
   "source": [
    "import com.cra.figaro.algorithm.sampling._\n",
    "import com.cra.figaro.algorithm.factored._\n",
    "import com.cra.figaro.library.compound._\n",
    "import com.cra.figaro.library.atomic.discrete.Uniform\n",
    "import com.cra.figaro.library.atomic.continuous.Normal"
   ]
  },
  {
   "cell_type": "markdown",
   "metadata": {},
   "source": [
    "### The code as listed in the tutorial won't work\n",
    "\n",
    "For example, below:"
   ]
  },
  {
   "cell_type": "code",
   "execution_count": 9,
   "metadata": {},
   "outputs": [
    {
     "ename": "<console>",
     "evalue": "13",
     "output_type": "error",
     "traceback": [
      "\u001b[1;31m<console>:13: error: ';' expected but '=' found.\u001b[0;0m",
      "\u001b[1;31moverride val power = Element[Symbol] = Constant('high)\u001b[0;0m",
      "\u001b[1;31m                                     ^\u001b[0;0m"
     ]
    }
   ],
   "source": [
    "abstract class Engine { val power : Element[Symbol]}\n",
    "class V8 extends Engine {\n",
    "    val power = Select(0.8 -> 'low, 0.2 -> 'high)\n",
    "}\n",
    "\n",
    "class V6 extends Engine {\n",
    "    val power = Select(0.8 -> 'low, 0.2 -> 'high)\n",
    "}\n",
    "\n",
    "// this works fine\n",
    "\n",
    "object MySuperEngine extends V8 {\n",
    "    val power = Constant('high)\n",
    "    // lol\n",
    "}"
   ]
  },
  {
   "cell_type": "markdown",
   "metadata": {},
   "source": [
    "The error is because of how the objects share information. The working version can be found in the Figaro examples page, for this example: https://github.com/p2t2/figaro/blob/master/FigaroExamples/src/main/scala/com/cra/figaro/example/CarAndEngine.scala\n",
    "\n",
    "You need to use \"private\" objects where I presume you can have more control over what's shared. This means I probably need to learn some actual Scala"
   ]
  },
  {
   "cell_type": "code",
   "execution_count": 13,
   "metadata": {},
   "outputs": [
    {
     "name": "stdout",
     "output_type": "stream",
     "text": [
      "85.66666666666667\n"
     ]
    },
    {
     "data": {
      "text/plain": [
       "$line44.$read$$iw$$iw$$iw$$iw$$iw$$iw$$iw$$iw$$iw$$iw$$iw$$iw$$iw$$iw$$iw$$iw$$iw$$iw$$iw$$iw$$iw$$iw$$iw$$iw$$iw$$iw$$iw$$iw$$iw$$iw$$iw$$iw$$iw$$iw$$iw$$iw$CarAndEngine$@9c4d4ad"
      ]
     },
     "execution_count": 13,
     "metadata": {},
     "output_type": "execute_result"
    }
   ],
   "source": [
    "object CarAndEngine { // the whole deal\n",
    "    abstract class Engine extends ElementCollection    {\n",
    "        val power : Element[Symbol]\n",
    "    }\n",
    "\n",
    "      private class V8 extends Engine {\n",
    "        val power: Element[Symbol] = Select(0.8 -> 'high, \n",
    "                                            0.2 -> 'medium)(\"power\", this) // ugh\n",
    "                                  // it looks like \"this\" is the reference to the object,\n",
    "                                  // like \"self\" in python\n",
    "      }\n",
    "\n",
    "      private class V6 extends Engine {\n",
    "        val power: Element[Symbol] = Select(0.2 -> 'high,\n",
    "                                        0.5 -> 'medium, \n",
    "                                        0.3 -> 'low)(\"power\", this)\n",
    "      }\n",
    "    \n",
    "    private object MySuperEngine extends V8 {\n",
    "        override val power : Element[Symbol] = Constant('high)(\"power\", this)\n",
    "    }\n",
    "    \n",
    "    class Car extends ElementCollection {\n",
    "        val engine = Uniform[Engine](new V8, new V6, MySuperEngine)(\"engine\", this)\n",
    "        val speed = CPD(\n",
    "        get[Symbol](\"engine.power\"),\n",
    "        'high -> Constant(90.0),\n",
    "        'medium -> Constant(80.0),\n",
    "        'low -> Constant(70.0))\n",
    "    }\n",
    "    \n",
    "    val car = new Car\n",
    "    val alg = VariableElimination(car.speed)\n",
    "    alg.start()\n",
    "    alg.stop()\n",
    "    println(alg.expectation(car.speed)(d => d)) // what\n",
    "    alg.kill()\n",
    "}"
   ]
  },
  {
   "cell_type": "code",
   "execution_count": null,
   "metadata": {},
   "outputs": [],
   "source": []
  }
 ],
 "metadata": {
  "kernelspec": {
   "display_name": "Scala",
   "language": "scala",
   "name": "scala"
  },
  "language_info": {
   "codemirror_mode": "text/x-scala",
   "file_extension": ".scala",
   "mimetype": "",
   "name": "Scala",
   "nbconverter_exporter": "",
   "version": "2.11.12"
  },
  "toc": {
   "base_numbering": 1,
   "nav_menu": {},
   "number_sections": false,
   "sideBar": false,
   "skip_h1_title": false,
   "title_cell": "Table of Contents",
   "title_sidebar": "Contents",
   "toc_cell": false,
   "toc_position": {},
   "toc_section_display": false,
   "toc_window_display": false
  }
 },
 "nbformat": 4,
 "nbformat_minor": 2
}
