{
 "cells": [
  {
   "cell_type": "code",
   "execution_count": 2,
   "metadata": {},
   "outputs": [
    {
     "data": {
      "application/vnd.jupyter.widget-view+json": {
       "model_id": "",
       "version_major": 2,
       "version_minor": 0
      },
      "method": "display_data"
     },
     "metadata": {},
     "output_type": "display_data"
    },
    {
     "data": {
      "application/vnd.jupyter.widget-view+json": {
       "model_id": "a6ee61d9-6869-4ba6-b939-e1797ff47bcc",
       "version_major": 2,
       "version_minor": 0
      },
      "method": "display_data"
     },
     "metadata": {},
     "output_type": "display_data"
    }
   ],
   "source": [
    "%classpath add mvn com.cra.figaro figaro_2.11 5.0.0.0"
   ]
  },
  {
   "cell_type": "code",
   "execution_count": 3,
   "metadata": {},
   "outputs": [
    {
     "data": {
      "text/plain": [
       "import com.cra.figaro.language._\n",
       "import com.cra.figaro.algorithm.sampling._\n",
       "import com.cra.figaro.library.compound.If\n",
       "import math._\n"
      ]
     },
     "execution_count": 3,
     "metadata": {},
     "output_type": "execute_result"
    }
   ],
   "source": [
    "import com.cra.figaro.language._\n",
    "import com.cra.figaro.algorithm.sampling._\n",
    "import com.cra.figaro.library.compound.If\n",
    "import math._"
   ]
  },
  {
   "cell_type": "code",
   "execution_count": 4,
   "metadata": {},
   "outputs": [
    {
     "data": {
      "text/plain": [
       "null"
      ]
     },
     "execution_count": 4,
     "metadata": {},
     "output_type": "execute_result"
    }
   ],
   "source": [
    "val hw = Constant(\"Oh hai there!\")\n",
    "// Create an algorithm that samples the string\n",
    "val alg = Importance(1000, hw)\n",
    "alg.start()"
   ]
  },
  {
   "cell_type": "code",
   "execution_count": 5,
   "metadata": {},
   "outputs": [
    {
     "name": "stdout",
     "output_type": "stream",
     "text": [
      "1.0\n",
      "0.0\n"
     ]
    }
   ],
   "source": [
    "println(alg.probability(hw, \"Oh hai there!\"))\n",
    "println(alg.probability(hw, \"Oh hey there!\"))"
   ]
  },
  {
   "cell_type": "markdown",
   "metadata": {},
   "source": [
    "## Representation"
   ]
  },
  {
   "cell_type": "code",
   "execution_count": 6,
   "metadata": {},
   "outputs": [
    {
     "data": {
      "text/plain": [
       "Constant(Hello)"
      ]
     },
     "execution_count": 6,
     "metadata": {},
     "output_type": "execute_result"
    }
   ],
   "source": [
    "Constant(6)\n",
    "Constant(\"Hello\") // every Figaro element has a value type"
   ]
  },
  {
   "cell_type": "markdown",
   "metadata": {},
   "source": [
    "All figaro elements are instances of the Element class.\n",
    "\n",
    "***Atomic*** elements: don't depend on any other elements"
   ]
  },
  {
   "cell_type": "code",
   "execution_count": 6,
   "metadata": {},
   "outputs": [
    {
     "data": {
      "text/plain": [
       "Flip(0.7)"
      ]
     },
     "execution_count": 6,
     "metadata": {},
     "output_type": "execute_result"
    }
   ],
   "source": [
    "Flip(0.7) // Element[Boolean]"
   ]
  },
  {
   "cell_type": "markdown",
   "metadata": {},
   "source": [
    "***Compound*** elements depend on other Elements"
   ]
  },
  {
   "cell_type": "code",
   "execution_count": 7,
   "metadata": {},
   "outputs": [
    {
     "data": {
      "text/plain": [
       "If(Flip(0.7), Constant(1), Select(0.4 -> 2, 0.6 -> 3))"
      ]
     },
     "execution_count": 7,
     "metadata": {},
     "output_type": "execute_result"
    }
   ],
   "source": [
    "import com.cra.figaro.library.atomic.continuous._\n",
    "\n",
    "Flip(Uniform(0.0, 1.0)) // argument is Element[Double]\n",
    "\n",
    "If(Flip(0.7), Constant(1),\n",
    "  Select(0.4 -> 2, 0.6 -> 3))"
   ]
  },
  {
   "cell_type": "markdown",
   "metadata": {},
   "source": [
    "### Building Compound Elements using *Chain*"
   ]
  },
  {
   "cell_type": "code",
   "execution_count": 8,
   "metadata": {},
   "outputs": [
    {
     "data": {
      "text/plain": [
       "Chain(Flip(0.7), <function1>)"
      ]
     },
     "execution_count": 8,
     "metadata": {},
     "output_type": "execute_result"
    }
   ],
   "source": [
    "Chain(Flip(0.7), (b: Boolean) =>\n",
    "     if (b) Constant(1); else Select(0.4 -> 2, 0.6 -> 3))\n",
    "\n",
    "// this represents the same model as above"
   ]
  },
  {
   "cell_type": "markdown",
   "metadata": {},
   "source": [
    "### Apply\n",
    "\n",
    "\"Lifts\" Scala functions"
   ]
  },
  {
   "cell_type": "code",
   "execution_count": 9,
   "metadata": {},
   "outputs": [
    {
     "data": {
      "text/plain": [
       "Apply(Select(0.2 -> 1, 0.8 -> 2), <function1>)"
      ]
     },
     "execution_count": 9,
     "metadata": {},
     "output_type": "execute_result"
    }
   ],
   "source": [
    "Apply(Select(0.2 -> 1, 0.8 -> 2), (i: Int) => i + 5)\n",
    "// the function on the right is applied to the output\n",
    "// of the expression on the left"
   ]
  },
  {
   "cell_type": "code",
   "execution_count": 10,
   "metadata": {},
   "outputs": [
    {
     "data": {
      "text/plain": [
       "Apply(Select(0.2 -> a, 0.8 -> b), <function1>)"
      ]
     },
     "execution_count": 10,
     "metadata": {},
     "output_type": "execute_result"
    }
   ],
   "source": [
    "Apply(Select(0.2 -> \"a\", 0.8 -> \"b\"), (i: String) => i + \"c\")"
   ]
  },
  {
   "cell_type": "markdown",
   "metadata": {},
   "source": [
    "## Creating models"
   ]
  },
  {
   "cell_type": "markdown",
   "metadata": {},
   "source": [
    "### Creating a Bayesian Network (using CPD)"
   ]
  },
  {
   "cell_type": "code",
   "execution_count": 25,
   "metadata": {},
   "outputs": [
    {
     "data": {
      "text/plain": [
       "Chain(Chain(Apply(Flip(0.01), Flip(1.0E-4), <function2>), <function1>), <function1>)"
      ]
     },
     "execution_count": 25,
     "metadata": {},
     "output_type": "execute_result"
    }
   ],
   "source": [
    "import com.cra.figaro.language._\n",
    "import com.cra.figaro.library.compound._ // includes CPD\n",
    "\n",
    "val burglary = Flip(0.01) // \"field\", immutable\n",
    "val earthquake = Flip(0.0001)\n",
    "val alarm = CPD(burglary, earthquake,\n",
    "               (false, false) -> Flip(0.001),\n",
    "               (false, true) -> Flip(0.1),\n",
    "               (true, false) -> Flip(0.9),\n",
    "               (true, true) -> Flip(0.99))\n",
    "\n",
    "val johnCalls = CPD(alarm,\n",
    "                   false -> Flip(0.01),\n",
    "                   true -> Flip(0.7))\n"
   ]
  },
  {
   "cell_type": "code",
   "execution_count": 35,
   "metadata": {},
   "outputs": [
    {
     "name": "stdout",
     "output_type": "stream",
     "text": [
      "0.016499999999999834\n"
     ]
    },
    {
     "data": {
      "text/plain": [
       "null"
      ]
     },
     "execution_count": 35,
     "metadata": {},
     "output_type": "execute_result"
    }
   ],
   "source": [
    "val alg = Importance(2000, johnCalls)\n",
    "alg.start()\n",
    "println(alg.probability(johnCalls, true))"
   ]
  },
  {
   "cell_type": "code",
   "execution_count": null,
   "metadata": {},
   "outputs": [],
   "source": []
  },
  {
   "cell_type": "markdown",
   "metadata": {},
   "source": [
    "In a ***RichCPD***, each clause is a tuple of cases, one per parent.It can be OneOf a set, NoneOf (i.e. matches everything except those listed), or * , meaning anything. "
   ]
  },
  {
   "cell_type": "code",
   "execution_count": 40,
   "metadata": {},
   "outputs": [
    {
     "data": {
      "text/plain": [
       "Chain(Apply(Select(0.1 -> 1, 0.2 -> 2, 0.3 -> 3, 0.4 -> 4), Flip(0.6), Constant(5), Flip(0.8), <function4>), <function1>)"
      ]
     },
     "execution_count": 40,
     "metadata": {},
     "output_type": "execute_result"
    }
   ],
   "source": [
    "import com.cra.figaro.language._\n",
    "import com.cra.figaro.library.compound._\n",
    "val x1 = Select(0.1 -> 1, 0.2 -> 2, 0.3 -> 3, 0.4 -> 4)\n",
    "val x2 = Flip(0.6) \n",
    "val x3 = Constant(5)\n",
    "val x4 = Flip(0.8)\n",
    "val y = RichCPD(x1, x2, x3, x4,\n",
    "                (OneOf(1, 2), *, OneOf(5), *) -> Flip(0.1),\n",
    "                (NoneOf(4), OneOf(false), *, *) -> Flip(0.7),\n",
    "                (*, *, NoneOf(6, 7), OneOf(true)) -> Flip(0.9),\n",
    "                (*, *, *, OneOf(false)) -> Constant(true))"
   ]
  },
  {
   "cell_type": "markdown",
   "metadata": {},
   "source": [
    "### Adding constraints and conditions to models\n",
    "\n",
    "Every element has a condition, f(Element -> Boolean). \n",
    "\n",
    "Can be used to specify evidence or a structural property (e.g. only one of two teams can be a winner). The default condition is true for all values."
   ]
  },
  {
   "cell_type": "code",
   "execution_count": 41,
   "metadata": {},
   "outputs": [
    {
     "data": {
      "text/plain": [
       "Select(0.1 -> 1, 0.2 -> 2, 0.3 -> 3, 0.4 -> 4)"
      ]
     },
     "execution_count": 41,
     "metadata": {},
     "output_type": "execute_result"
    }
   ],
   "source": [
    "val x1 = Select(0.1 -> 1, 0.2 -> 2, 0.3 -> 3, 0.4 -> 4)"
   ]
  },
  {
   "cell_type": "code",
   "execution_count": 43,
   "metadata": {},
   "outputs": [],
   "source": [
    "x1.setCondition((i: Int) => i == 1 || i == 4) // i must be 1 or 4"
   ]
  },
  {
   "cell_type": "code",
   "execution_count": 47,
   "metadata": {},
   "outputs": [],
   "source": [
    "// can add more conditions\n",
    "x1.addCondition((i: Int) => i % 2 == 1)"
   ]
  },
  {
   "cell_type": "code",
   "execution_count": 51,
   "metadata": {},
   "outputs": [],
   "source": [
    "x1.observe(2) // removes all previous conditions"
   ]
  },
  {
   "cell_type": "markdown",
   "metadata": {},
   "source": [
    "### Constraint - weighting on an element. T => Double\n",
    "\n",
    "Values should be non-negative. They should also be at most 1, otherwise *lazy factored inforence* algorithms will return errors (there'll be a warning). \n",
    "\n",
    "Constraints can be used for soft evidence. "
   ]
  },
  {
   "cell_type": "code",
   "execution_count": 53,
   "metadata": {},
   "outputs": [],
   "source": [
    "johnCalls.setConstraint((b: Boolean) => \n",
    "                       if (b) 1.0; else 0.1) // initially 0.01"
   ]
  },
  {
   "cell_type": "code",
   "execution_count": 54,
   "metadata": {},
   "outputs": [
    {
     "name": "stdout",
     "output_type": "stream",
     "text": [
      "0.16588685665674197\n"
     ]
    },
    {
     "data": {
      "text/plain": [
       "null"
      ]
     },
     "execution_count": 54,
     "metadata": {},
     "output_type": "execute_result"
    }
   ],
   "source": [
    "val alg = Importance(2000, johnCalls)\n",
    "alg.start()\n",
    "println(alg.probability(johnCalls, true))"
   ]
  },
  {
   "cell_type": "code",
   "execution_count": 55,
   "metadata": {},
   "outputs": [
    {
     "data": {
      "text/plain": [
       "import com.cra.figaro.library.atomic._\n",
       "import com.cra.figaro.library.compound.If\n"
      ]
     },
     "execution_count": 55,
     "metadata": {},
     "output_type": "execute_result"
    }
   ],
   "source": [
    "import com.cra.figaro.library.atomic._\n",
    "import com.cra.figaro.library.compound.If"
   ]
  },
  {
   "cell_type": "code",
   "execution_count": 56,
   "metadata": {},
   "outputs": [
    {
     "data": {
      "text/plain": [
       "defined class Firm\n"
      ]
     },
     "execution_count": 56,
     "metadata": {},
     "output_type": "execute_result"
    }
   ],
   "source": [
    "class Firm {\n",
    "    val efficient = Flip(0.3)\n",
    "    val bid = If(efficient, continuous.Uniform(5, 15),\n",
    "                continuous.Uniform(10, 20))\n",
    "}"
   ]
  },
  {
   "cell_type": "code",
   "execution_count": 57,
   "metadata": {},
   "outputs": [
    {
     "data": {
      "text/plain": [
       "null"
      ]
     },
     "execution_count": 57,
     "metadata": {},
     "output_type": "execute_result"
    }
   ],
   "source": [
    "val firms = Array.fill(20)(new Firm) // nice\n",
    "val winner = discrete.Uniform(firms:_*) // \"unpacks\" array field\n",
    "val winningBid = Chain(winner, (f: Firm) => f.bid)\n",
    "winningBid.setConstraint((d: Double) => 20 - d)"
   ]
  },
  {
   "cell_type": "code",
   "execution_count": 79,
   "metadata": {},
   "outputs": [
    {
     "data": {
      "text/plain": [
       "null"
      ]
     },
     "execution_count": 79,
     "metadata": {},
     "output_type": "execute_result"
    }
   ],
   "source": [
    "class Person {\n",
    "    val smokes = Flip(0.6)\n",
    "}\n",
    "\n",
    "val alice, bob, clara = new Person\n",
    "val friends = List((alice, bob), (bob, clara))\n",
    "clara.smokes.observe(true)"
   ]
  },
  {
   "cell_type": "code",
   "execution_count": 80,
   "metadata": {},
   "outputs": [
    {
     "data": {
      "text/plain": [
       "smokingInfluence: (pair: (Boolean, Boolean))Double\n"
      ]
     },
     "execution_count": 80,
     "metadata": {},
     "output_type": "execute_result"
    }
   ],
   "source": [
    "def smokingInfluence(pair: (Boolean, Boolean)) = \n",
    "if (pair._1 == pair._2) 3.0; else 1.0"
   ]
  },
  {
   "cell_type": "code",
   "execution_count": 81,
   "metadata": {},
   "outputs": [],
   "source": [
    "for { (p1, p2) <- friends } { // for comprehension\n",
    "    ^^(p1.smokes, p2.smokes).setConstraint(smokingInfluence)\n",
    "}"
   ]
  },
  {
   "cell_type": "markdown",
   "metadata": {},
   "source": [
    "Took a bit to figure this out, but here the model is the .smokes attribute for each person. You can apply a constraint outside of the declaration of the model. "
   ]
  },
  {
   "cell_type": "code",
   "execution_count": 109,
   "metadata": {},
   "outputs": [
    {
     "name": "stdout",
     "output_type": "stream",
     "text": [
      "0.7449926582847775\n"
     ]
    },
    {
     "data": {
      "text/plain": [
       "null"
      ]
     },
     "execution_count": 109,
     "metadata": {},
     "output_type": "execute_result"
    }
   ],
   "source": [
    "val alg = Importance(2000, alice.smokes)\n",
    "alg.start()\n",
    "println(alg.probability(alice.smokes, true))"
   ]
  },
  {
   "cell_type": "markdown",
   "metadata": {},
   "source": [
    "### Exploiting object oriented features for e.g. relational models"
   ]
  },
  {
   "cell_type": "code",
   "execution_count": 111,
   "metadata": {},
   "outputs": [
    {
     "data": {
      "text/plain": [
       "$line175.$read$$iw$$iw$$iw$$iw$$iw$$iw$Pair@68541931"
      ]
     },
     "execution_count": 111,
     "metadata": {},
     "output_type": "execute_result"
    }
   ],
   "source": [
    "class Source(val name: String)\n",
    "\n",
    "abstract class Sample {\n",
    "    val fromSource: Element[Source]\n",
    "}\n",
    "\n",
    "class Pair(val source: Source, val sample: Sample) {\n",
    "    val isRightSource = Apply(sample.fromSource,\n",
    "                             (s: Source) => s == source)\n",
    "    val distance = If(isRightSource,\n",
    "                     Normal(0.0, 1.0),\n",
    "                     Uniform(0.0, 10.0))\n",
    "}\n",
    "\n",
    "val source1 = new Source(\"Source 1\")\n",
    "val source2 = new Source(\"Source 2\")\n",
    "val sample1 = new Sample {\n",
    "    val fromSource = Select(0.5 -> source1, 0.5 -> source2)\n",
    "}\n",
    "val pair1 = new Pair(source1, sample1)\n",
    "val pair2 = new Pair(source2, sample1)"
   ]
  },
  {
   "cell_type": "code",
   "execution_count": 112,
   "metadata": {},
   "outputs": [],
   "source": [
    "pair1.distance.setCondition((d: Double) => (d > 0.15 && d < 0.25))\n",
    "pair2.distance.setCondition((d: Double) => (d > 1.45 && d < 1.55))"
   ]
  },
  {
   "cell_type": "code",
   "execution_count": 128,
   "metadata": {},
   "outputs": [
    {
     "name": "stdout",
     "output_type": "stream",
     "text": [
      "0.5316237351004605\n"
     ]
    },
    {
     "data": {
      "text/plain": [
       "null"
      ]
     },
     "execution_count": 128,
     "metadata": {},
     "output_type": "execute_result"
    }
   ],
   "source": [
    "// this breaks for any value of samples >= 20\n",
    "val alg = Importance(10, pair2.isRightSource)\n",
    "alg.start()\n",
    "println(alg.probability(pair2.isRightSource, true))"
   ]
  },
  {
   "cell_type": "code",
   "execution_count": 143,
   "metadata": {},
   "outputs": [
    {
     "data": {
      "text/plain": [
       "defined class Actor\n",
       "defined class Movie\n"
      ]
     },
     "execution_count": 143,
     "metadata": {},
     "output_type": "execute_result"
    }
   ],
   "source": [
    "class Actor {\n",
    "    val famous = Flip(0.1) \n",
    "}\n",
    "\n",
    "class Movie {\n",
    "    val quality = Select(0.3 -> 'low, 0.5 -> 'medium, 0.2 -> 'high)\n",
    "}"
   ]
  },
  {
   "cell_type": "code",
   "execution_count": 146,
   "metadata": {},
   "outputs": [
    {
     "data": {
      "text/plain": [
       "import com.cra.figaro.library.compound.CPD\n",
       "import com.cra.figaro.language._\n"
      ]
     },
     "execution_count": 146,
     "metadata": {},
     "output_type": "execute_result"
    }
   ],
   "source": [
    "import com.cra.figaro.library.compound.CPD\n",
    "import com.cra.figaro.language._"
   ]
  },
  {
   "cell_type": "code",
   "execution_count": 144,
   "metadata": {},
   "outputs": [
    {
     "ename": "<console>",
     "evalue": "19",
     "output_type": "error",
     "traceback": [
      "\u001b[1;31m<console>:19: error: '=' expected but identifier found.\u001b[0;0m",
      "\u001b[1;31mdef uniqueAward(awards: List[Boolean]) -\u001b[0;0m",
      "\u001b[1;31m                                       ^\u001b[0;0m",
      "\u001b[1;31m<console>:20: error: illegal start of simple expression\u001b[0;0m",
      "\u001b[1;31mawards.count((b: Boolean) => b) == 1\u001b[0;0m",
      "\u001b[1;31m^\u001b[0;0m"
     ]
    }
   ],
   "source": [
    "class Appearance(actor: Actor, movie: Movie) {\n",
    "    def probAward(quality: Symbol, famous: Boolean) = \n",
    "    (quality, famous) match { // matchus\n",
    "        case ('low, false) => 0.001\n",
    "        case('low, true) => 0.01\n",
    "        case('medium, false) => 0.01\n",
    "        case('medium, true) => 0.05\n",
    "        case('high, false) => 0.05\n",
    "        case('high, true) => 0.2\n",
    "    }\n",
    "    val award = Flip(Apply(movie.quality,\n",
    "                        actor.famous,\n",
    "                        (q: Symbol, f: Boolean) => probAward(q, f)))\n",
    "}\n",
    "\n",
    "// .....\n",
    "\n",
    "// condition\n",
    "def uniqueAward(awards: List[Boolean]) - \n",
    "awards.count((b: Boolean) => b) == 1\n",
    "\n",
    "val allAwards: Element[List[Boolean]] = \n",
    "Inject(appearances.map(_.award):_*)\n",
    "\n",
    "allAwards.setCondition(uniqueAward)"
   ]
  },
  {
   "cell_type": "markdown",
   "metadata": {},
   "source": [
    "### Using mutable fields can make capturing dependencies easier"
   ]
  },
  {
   "cell_type": "code",
   "execution_count": 150,
   "metadata": {},
   "outputs": [
    {
     "data": {
      "text/plain": [
       "import com.cra.figaro.library.collection.Container\n",
       "defined class Actor\n"
      ]
     },
     "execution_count": 150,
     "metadata": {},
     "output_type": "execute_result"
    }
   ],
   "source": [
    "import com.cra.figaro.library.collection.Container // ugh\n",
    "class Actor {\n",
    "    var movies: List[Movie] = List()\n",
    "    lazy val skillful = Flip(0.1)\n",
    "    lazy val qualities = Container(movies.map(_.quality):_*)\n",
    "    lazy val numGoodMovies = qualities.count(_ == 'high)\n",
    "    lazy val famous = Chain(numGoodMovies, (n: Int) => \n",
    "                           if (n >= 2) Flip(0.8) else Flip(0.1))\n",
    "}"
   ]
  },
  {
   "cell_type": "code",
   "execution_count": 151,
   "metadata": {},
   "outputs": [
    {
     "data": {
      "text/plain": [
       "defined class Movie\n"
      ]
     },
     "execution_count": 151,
     "metadata": {},
     "output_type": "execute_result"
    }
   ],
   "source": [
    "class Movie {\n",
    "    var actors: List[Actor] = List()\n",
    "    lazy val skills = Container(actors.map(_.skillful):_*)\n",
    "    lazy val actorsAllGood = skills.exists(b => b)\n",
    "    lazy val probLow = \n",
    "    Apply(actorsAllGood, (b: Boolean) => if (b) 0.2; else 0.5)\n",
    "    lazy val probHigh = \n",
    "    Apply(actorsAllGood, (b: Boolean) => if (b) 0.5; else 0.2)\n",
    "    lazy val quality = \n",
    "    Select(probLow -> 'low, Constant(0.3) -> 'medium, probHigh -> 'high)\n",
    "}"
   ]
  },
  {
   "cell_type": "code",
   "execution_count": 155,
   "metadata": {},
   "outputs": [
    {
     "ename": "<console>",
     "evalue": "18",
     "output_type": "error",
     "traceback": [
      "\u001b[1;31m<console>:18: error: value ::= is not a member of List[Movie]\u001b[0;0m",
      "\u001b[1;31m  Expression does not convert to assignment because:\u001b[0;0m",
      "\u001b[1;31m    type mismatch;\u001b[0;0m",
      "\u001b[1;31m     found   : Movie(in class $iw)\u001b[0;0m",
      "\u001b[1;31m     required: Movie(in class $iw)\u001b[0;0m",
      "\u001b[1;31m    expansion: Appearance.this.actor.movies = Appearance.this.actor.movies.::(movie)\u001b[0;0m",
      "\u001b[1;31m       actor.movies ::= movie // this is like += for stuff like this\u001b[0;0m",
      "\u001b[1;31m                    ^\u001b[0;0m"
     ]
    }
   ],
   "source": [
    "class Appearance(actor: Actor, movie: Movie) {\n",
    "    actor.movies ::= movie // this is like += for stuff like this\n",
    "    movie.actors ::= actor\n",
    "    \n",
    "    def probAward(quality: Symbol, famous: Boolean) = \n",
    "    (quality, famous) match {\n",
    "        case ('low, false) => 0.001\n",
    "        case('low, true) => 0.01\n",
    "        case('medium, false) => 0.01\n",
    "        case('medium, true) => 0.05\n",
    "        case('high, false) => 0.05\n",
    "        case('high, true) => 0.2\n",
    "    }\n",
    "    lazy val award = Flip(Apply(movie.quality, actor.famous,\n",
    "                               (q: Symbol, f: Boolean) => probAward(q, f)))\n",
    "}"
   ]
  },
  {
   "cell_type": "code",
   "execution_count": 12,
   "metadata": {},
   "outputs": [
    {
     "data": {
      "application/vnd.jupyter.widget-view+json": {
       "model_id": "08e16dc5-8026-41e6-9188-357790e6cf18",
       "version_major": 2,
       "version_minor": 0
      },
      "method": "display_data"
     },
     "metadata": {},
     "output_type": "display_data"
    }
   ],
   "source": [
    "val plot = new Plot\n",
    "plot.add(new Line {x = (1.0 to 10.0 by 0.1); y = (1.0 to 10.0 by 0.1) map (sin (_))})"
   ]
  },
  {
   "cell_type": "code",
   "execution_count": null,
   "metadata": {},
   "outputs": [],
   "source": []
  },
  {
   "cell_type": "code",
   "execution_count": null,
   "metadata": {},
   "outputs": [],
   "source": []
  },
  {
   "cell_type": "code",
   "execution_count": null,
   "metadata": {},
   "outputs": [],
   "source": []
  },
  {
   "cell_type": "code",
   "execution_count": null,
   "metadata": {},
   "outputs": [],
   "source": []
  }
 ],
 "metadata": {
  "kernelspec": {
   "display_name": "Scala",
   "language": "scala",
   "name": "scala"
  },
  "language_info": {
   "codemirror_mode": "text/x-scala",
   "file_extension": ".scala",
   "mimetype": "",
   "name": "Scala",
   "nbconverter_exporter": "",
   "version": "2.11.12"
  },
  "toc": {
   "base_numbering": 1,
   "nav_menu": {},
   "number_sections": false,
   "sideBar": false,
   "skip_h1_title": false,
   "title_cell": "Table of Contents",
   "title_sidebar": "Contents",
   "toc_cell": false,
   "toc_position": {},
   "toc_section_display": false,
   "toc_window_display": false
  }
 },
 "nbformat": 4,
 "nbformat_minor": 2
}
