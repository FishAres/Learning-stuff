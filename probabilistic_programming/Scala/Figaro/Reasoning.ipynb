{
 "cells": [
  {
   "cell_type": "code",
   "execution_count": 2,
   "metadata": {},
   "outputs": [
    {
     "data": {
      "application/vnd.jupyter.widget-view+json": {
       "model_id": "",
       "version_major": 2,
       "version_minor": 0
      },
      "method": "display_data"
     },
     "metadata": {},
     "output_type": "display_data"
    },
    {
     "data": {
      "application/vnd.jupyter.widget-view+json": {
       "model_id": "cc7da645-2adf-4a37-baf1-3cacb4d900fa",
       "version_major": 2,
       "version_minor": 0
      },
      "method": "display_data"
     },
     "metadata": {},
     "output_type": "display_data"
    }
   ],
   "source": [
    "%classpath add mvn com.cra.figaro figaro_2.11 5.0.0.0"
   ]
  },
  {
   "cell_type": "code",
   "execution_count": 3,
   "metadata": {},
   "outputs": [
    {
     "data": {
      "text/plain": [
       "import com.cra.figaro.language._\r\n",
       "import com.cra.figaro.algorithm._\r\n",
       "import com.cra.figaro.library.compound.If\n"
      ]
     },
     "execution_count": 3,
     "metadata": {},
     "output_type": "execute_result"
    }
   ],
   "source": [
    "import com.cra.figaro.language._\n",
    "import com.cra.figaro.algorithm._\n",
    "import com.cra.figaro.library.compound.If"
   ]
  },
  {
   "cell_type": "markdown",
   "metadata": {},
   "source": [
    "### Computing ranges\n",
    "\n",
    "This can be done if there isn't an infinite number of elements in the universe and the operation can be defined.\n",
    "\n",
    "Most built-in Element classes have a finite number of possible values, except for atomic continuous ones."
   ]
  },
  {
   "cell_type": "code",
   "execution_count": 3,
   "metadata": {},
   "outputs": [
    {
     "data": {
      "text/plain": [
       "com.cra.figaro.algorithm.Values@7268a25e"
      ]
     },
     "execution_count": 3,
     "metadata": {},
     "output_type": "execute_result"
    }
   ],
   "source": [
    "val u = Universe.universe\n",
    "val values = Values(u)"
   ]
  },
  {
   "cell_type": "code",
   "execution_count": 4,
   "metadata": {},
   "outputs": [
    {
     "data": {
      "text/plain": [
       "If(Flip(0.7), Select(0.2 -> 1, 0.8 -> 2), Select(0.4 -> 2, 0.6 -> 3))"
      ]
     },
     "execution_count": 4,
     "metadata": {},
     "output_type": "execute_result"
    }
   ],
   "source": [
    "val e1 = Flip(0.7)\n",
    "val e2 = If(e1, Select(.2 -> 1, .8 -> 2), Select(.4 -> 2, .6 -> 3))"
   ]
  },
  {
   "cell_type": "code",
   "execution_count": 5,
   "metadata": {},
   "outputs": [
    {
     "data": {
      "text/plain": [
       "Set(1, 2, 3)"
      ]
     },
     "execution_count": 5,
     "metadata": {},
     "output_type": "execute_result"
    }
   ],
   "source": [
    "values(e2) // <- range"
   ]
  },
  {
   "cell_type": "markdown",
   "metadata": {},
   "source": [
    "## Variable elimination"
   ]
  },
  {
   "cell_type": "code",
   "execution_count": 6,
   "metadata": {},
   "outputs": [
    {
     "data": {
      "text/plain": [
       "If(Flip(Select(0.25 -> 0.3, 0.25 -> 0.5, 0.25 -> 0.7, 0.25 -> 0.9)), Select(0.3 -> 1, 0.7 -> 2), Constant(2))"
      ]
     },
     "execution_count": 6,
     "metadata": {},
     "output_type": "execute_result"
    }
   ],
   "source": [
    "val e1 = Select(0.25 -> 0.3, 0.25 -> 0.5, 0.25 -> 0.7, 0.25 -> 0.9)\n",
    "val e2 = Flip(e1)\n",
    "val e3 = If(e2, Select(0.3 -> 1, 0.7 -> 2), Constant(2))"
   ]
  },
  {
   "cell_type": "code",
   "execution_count": 7,
   "metadata": {},
   "outputs": [],
   "source": [
    "e3.setCondition((i: Int) => i == 2) // observation?"
   ]
  },
  {
   "cell_type": "code",
   "execution_count": 8,
   "metadata": {},
   "outputs": [
    {
     "data": {
      "text/plain": [
       "com.cra.figaro.algorithm.factored.ProbQueryVariableElimination@473d4a6b"
      ]
     },
     "execution_count": 8,
     "metadata": {},
     "output_type": "execute_result"
    }
   ],
   "source": [
    "val ve = factored.VariableElimination(e2) // just an object for the inference"
   ]
  },
  {
   "cell_type": "code",
   "execution_count": 9,
   "metadata": {},
   "outputs": [],
   "source": [
    "ve.start()"
   ]
  },
  {
   "cell_type": "code",
   "execution_count": 10,
   "metadata": {},
   "outputs": [
    {
     "data": {
      "text/plain": [
       "[[(0.4878048780487805,false), (0.5121951219512194,true)]]"
      ]
     },
     "execution_count": 10,
     "metadata": {},
     "output_type": "execute_result"
    }
   ],
   "source": [
    "ve.distribution(e2) // probabilities of each value"
   ]
  },
  {
   "cell_type": "markdown",
   "metadata": {},
   "source": [
    "*probability* returns the probability that value satisfies a given predicate"
   ]
  },
  {
   "cell_type": "code",
   "execution_count": 11,
   "metadata": {},
   "outputs": [
    {
     "data": {
      "text/plain": [
       "0.5121951219512194"
      ]
     },
     "execution_count": 11,
     "metadata": {},
     "output_type": "execute_result"
    }
   ],
   "source": [
    "ve.probability(e2, true) // shorthand"
   ]
  },
  {
   "cell_type": "code",
   "execution_count": 12,
   "metadata": {},
   "outputs": [
    {
     "data": {
      "text/plain": [
       "0.5121951219512194"
      ]
     },
     "execution_count": 12,
     "metadata": {},
     "output_type": "execute_result"
    }
   ],
   "source": [
    "ve.probability(e2, (b: Boolean) => b) // equivalent"
   ]
  },
  {
   "cell_type": "code",
   "execution_count": 13,
   "metadata": {},
   "outputs": [],
   "source": [
    "ve.kill()"
   ]
  },
  {
   "cell_type": "markdown",
   "metadata": {},
   "source": [
    "We can get the expected value that the inference result will have on a given function."
   ]
  },
  {
   "cell_type": "code",
   "execution_count": 18,
   "metadata": {},
   "outputs": [
    {
     "data": {
      "text/plain": [
       "2.2682926829268286"
      ]
     },
     "execution_count": 18,
     "metadata": {},
     "output_type": "execute_result"
    }
   ],
   "source": [
    "// This is pretty cool\n",
    "ve.expectation(e2, (b: Boolean) => if (b) 3.0; else 1.5)"
   ]
  },
  {
   "cell_type": "code",
   "execution_count": 21,
   "metadata": {},
   "outputs": [
    {
     "data": {
      "text/plain": [
       "0.5121951219512194"
      ]
     },
     "execution_count": 21,
     "metadata": {},
     "output_type": "execute_result"
    }
   ],
   "source": [
    "factored.VariableElimination.probability(e2, true) // for convenience"
   ]
  },
  {
   "cell_type": "markdown",
   "metadata": {},
   "source": [
    "### Belief Propagation"
   ]
  },
  {
   "cell_type": "code",
   "execution_count": 14,
   "metadata": {},
   "outputs": [
    {
     "data": {
      "text/plain": [
       "import com.cra.figaro.algorithm.factored.beliefpropagation._\n"
      ]
     },
     "execution_count": 14,
     "metadata": {},
     "output_type": "execute_result"
    }
   ],
   "source": [
    "import com.cra.figaro.algorithm.factored.beliefpropagation._"
   ]
  },
  {
   "cell_type": "code",
   "execution_count": 23,
   "metadata": {},
   "outputs": [
    {
     "data": {
      "text/plain": [
       "com.cra.figaro.algorithm.factored.beliefpropagation.BeliefPropagation$$anon$1@26413437"
      ]
     },
     "execution_count": 23,
     "metadata": {},
     "output_type": "execute_result"
    }
   ],
   "source": [
    "val bp = BeliefPropagation(100, e2)"
   ]
  },
  {
   "cell_type": "markdown",
   "metadata": {},
   "source": [
    "This creates a BP object that will pass messages on a factor graph created from the universe containing e1, e2 and e3"
   ]
  },
  {
   "cell_type": "code",
   "execution_count": 24,
   "metadata": {},
   "outputs": [],
   "source": [
    "bp.start()"
   ]
  },
  {
   "cell_type": "code",
   "execution_count": 26,
   "metadata": {},
   "outputs": [
    {
     "data": {
      "text/plain": [
       "2.268292682926829"
      ]
     },
     "execution_count": 26,
     "metadata": {},
     "output_type": "execute_result"
    }
   ],
   "source": [
    "bp.expectation(e2, (b: Boolean) => if (b) 3.0; else 1.5)"
   ]
  },
  {
   "cell_type": "markdown",
   "metadata": {},
   "source": [
    "### Lazy Factored Inference\n",
    "\n",
    "Useful for infinitely recursive models. Expand factor graph to a bounded depth and quantify the effect of the unexplored graph on the query. Can thus get lower and upper bounds on the probability"
   ]
  },
  {
   "cell_type": "code",
   "execution_count": null,
   "metadata": {},
   "outputs": [],
   "source": [
    "// ?"
   ]
  },
  {
   "cell_type": "markdown",
   "metadata": {},
   "source": [
    "### Importance sampling\n",
    "\n",
    "Combination of importance and rejection sampling. Multiplies the weight of the sample by the value of the constraint when constraint is encountered. "
   ]
  },
  {
   "cell_type": "code",
   "execution_count": 15,
   "metadata": {},
   "outputs": [
    {
     "data": {
      "text/plain": [
       "import com.cra.figaro.algorithm.sampling._\n"
      ]
     },
     "execution_count": 15,
     "metadata": {},
     "output_type": "execute_result"
    }
   ],
   "source": [
    "import com.cra.figaro.algorithm.sampling._"
   ]
  },
  {
   "cell_type": "code",
   "execution_count": 17,
   "metadata": {},
   "outputs": [
    {
     "data": {
      "text/plain": [
       "Flip(Select(0.25 -> 0.3, 0.25 -> 0.5, 0.25 -> 0.7, 0.25 -> 0.9))"
      ]
     },
     "execution_count": 17,
     "metadata": {},
     "output_type": "execute_result"
    }
   ],
   "source": [
    "val e1 = Select(0.25 -> 0.3, 0.25 -> 0.5, 0.25-> 0.7, 0.25 -> 0.9)\n",
    "val e2 = Flip(e1)"
   ]
  },
  {
   "cell_type": "code",
   "execution_count": 21,
   "metadata": {},
   "outputs": [
    {
     "data": {
      "text/plain": [
       "null"
      ]
     },
     "execution_count": 21,
     "metadata": {},
     "output_type": "execute_result"
    }
   ],
   "source": [
    "val e3 = If(e2, Select(0.3 -> 1, 0.7 -> 2), Constant(2))\n",
    "e3.setCondition((i: Int) => i == 2) // observe 2?"
   ]
  },
  {
   "cell_type": "code",
   "execution_count": 33,
   "metadata": {},
   "outputs": [
    {
     "data": {
      "text/plain": [
       "com.cra.figaro.algorithm.sampling.Importance$$anon$1@50999379"
      ]
     },
     "execution_count": 33,
     "metadata": {},
     "output_type": "execute_result"
    }
   ],
   "source": [
    "val imp = Importance(10000, e2)\n",
    "// \"one-time\" algorithm - cannot be re-used after sampling\n",
    "// \"anytime\" version exists that can be queried as it runs\n",
    "// to run the anytime version, omit the number of samples argument"
   ]
  },
  {
   "cell_type": "code",
   "execution_count": 37,
   "metadata": {},
   "outputs": [
    {
     "name": "stdout",
     "output_type": "stream",
     "text": [
      "Stream((0.4900000000000182,false), ?)\n"
     ]
    }
   ],
   "source": [
    "imp.start()\n",
    "println(imp.distribution(e2))\n",
    "imp.kill()"
   ]
  },
  {
   "cell_type": "markdown",
   "metadata": {},
   "source": [
    "**Anytime version**"
   ]
  },
  {
   "cell_type": "code",
   "execution_count": 38,
   "metadata": {},
   "outputs": [
    {
     "name": "stdout",
     "output_type": "stream",
     "text": [
      "0.5139434533393535\n"
     ]
    },
    {
     "data": {
      "text/plain": [
       "null"
      ]
     },
     "execution_count": 38,
     "metadata": {},
     "output_type": "execute_result"
    }
   ],
   "source": [
    "val imp = Importance(e2)\n",
    "imp.start()\n",
    "Thread.sleep(1000)\n",
    "imp.stop()\n",
    "println(imp.probability(e2, (b: Boolean) => b))\n",
    "imp.kill()"
   ]
  },
  {
   "cell_type": "markdown",
   "metadata": {},
   "source": [
    "## MCMC"
   ]
  },
  {
   "cell_type": "code",
   "execution_count": 4,
   "metadata": {},
   "outputs": [
    {
     "data": {
      "text/plain": [
       "null"
      ]
     },
     "execution_count": 4,
     "metadata": {},
     "output_type": "execute_result"
    }
   ],
   "source": [
    "val e1 = Select(0.25 -> 0.3, 0.25 -> 0.5, 0.25 -> 0.7, 0.25 -> 0.9)\n",
    "val e2 = Flip(e1)\n",
    "val e3 = If(e2, Select(0.3 -> 1, 0.7 -> 2), Constant(2))\n",
    "e3.setCondition((i: Int) => i == 2)\n",
    "// same model as above"
   ]
  },
  {
   "cell_type": "code",
   "execution_count": 55,
   "metadata": {},
   "outputs": [
    {
     "data": {
      "text/plain": [
       "com.cra.figaro.algorithm.sampling.OneTimeMetropolisHastings@1fc66abd"
      ]
     },
     "execution_count": 55,
     "metadata": {},
     "output_type": "execute_result"
    }
   ],
   "source": [
    "val mh = MetropolisHastings(1000, ProposalScheme.default, e2)"
   ]
  },
  {
   "cell_type": "code",
   "execution_count": 56,
   "metadata": {},
   "outputs": [
    {
     "name": "stdout",
     "output_type": "stream",
     "text": [
      "Stream((0.589,false), ?)\n"
     ]
    }
   ],
   "source": [
    "mh.start()\n",
    "println(mh.distribution(e2))\n",
    "mh.kill()"
   ]
  },
  {
   "cell_type": "markdown",
   "metadata": {},
   "source": [
    "### Gibbs sampling\n",
    "\n",
    "Gibbs sampling iterates through each variable in the model and samples them conditioned on the rest of the model (actually the Markov blanket, as it's all that's needed). "
   ]
  },
  {
   "cell_type": "code",
   "execution_count": 5,
   "metadata": {},
   "outputs": [
    {
     "data": {
      "text/plain": [
       "import com.cra.figaro.algorithm.factored.gibbs._\n"
      ]
     },
     "execution_count": 5,
     "metadata": {},
     "output_type": "execute_result"
    }
   ],
   "source": [
    "import com.cra.figaro.algorithm.factored.gibbs._"
   ]
  },
  {
   "cell_type": "code",
   "execution_count": 6,
   "metadata": {},
   "outputs": [
    {
     "data": {
      "text/plain": [
       "null"
      ]
     },
     "execution_count": 6,
     "metadata": {},
     "output_type": "execute_result"
    }
   ],
   "source": [
    "val e1 = Select(0.25 -> 0.3, 0.25 -> 0.5, 0.25 -> 0.7, 0.25 -> 0.9)\n",
    "val e2 = Flip(e1)\n",
    "val e3 = If(e2, Select(0.3 -> 1, 0.7 -> 2), Constant(2))\n",
    "e3.setCondition((i: Int) => i == 2)\n",
    "// same model as above"
   ]
  },
  {
   "cell_type": "code",
   "execution_count": 10,
   "metadata": {},
   "outputs": [
    {
     "data": {
      "text/plain": [
       "com.cra.figaro.algorithm.factored.gibbs.Gibbs$$anon$1@54192bf5"
      ]
     },
     "execution_count": 10,
     "metadata": {},
     "output_type": "execute_result"
    }
   ],
   "source": [
    "val gs = Gibbs(500, e2)"
   ]
  },
  {
   "cell_type": "code",
   "execution_count": 12,
   "metadata": {},
   "outputs": [
    {
     "ename": "com.cra.figaro.algorithm.AlgorithmActiveException",
     "evalue": "com.cra.figaro.algorithm.AlgorithmActiveException",
     "output_type": "error",
     "traceback": [
      "\u001b[1;31mcom.cra.figaro.algorithm.AlgorithmActiveException\u001b[0;0m",
      "\u001b[1;31m  at com.cra.figaro.algorithm.Algorithm$class.start(Algorithm.scala:81)\u001b[0;0m",
      "\u001b[1;31m  at com.cra.figaro.algorithm.sampling.BaseUnweightedSampler.start(UnweightedSampler.scala:27)\u001b[0;0m",
      "\u001b[1;31m  ... 50 elided\u001b[0;0m"
     ]
    }
   ],
   "source": [
    "gs.start()\n",
    "println(gs.distribution(e3))\n",
    "gs.kill()"
   ]
  },
  {
   "cell_type": "code",
   "execution_count": null,
   "metadata": {},
   "outputs": [],
   "source": []
  }
 ],
 "metadata": {
  "kernelspec": {
   "display_name": "Scala",
   "language": "scala",
   "name": "scala"
  },
  "language_info": {
   "codemirror_mode": "text/x-scala",
   "file_extension": ".scala",
   "mimetype": "",
   "name": "Scala",
   "nbconverter_exporter": "",
   "version": "2.11.12"
  },
  "toc": {
   "base_numbering": 1,
   "nav_menu": {},
   "number_sections": false,
   "sideBar": false,
   "skip_h1_title": false,
   "title_cell": "Table of Contents",
   "title_sidebar": "Contents",
   "toc_cell": false,
   "toc_position": {},
   "toc_section_display": false,
   "toc_window_display": false
  }
 },
 "nbformat": 4,
 "nbformat_minor": 2
}
