{
 "cells": [
  {
   "cell_type": "markdown",
   "metadata": {},
   "source": [
    "## Find sqrt using Newton's method\n"
   ]
  },
  {
   "cell_type": "code",
   "execution_count": 4,
   "metadata": {},
   "outputs": [
    {
     "name": "stdout",
     "output_type": "stream",
     "text": [
      "2.2360688956433634\n"
     ]
    },
    {
     "data": {
      "text/plain": [
       "null"
      ]
     },
     "execution_count": 4,
     "metadata": {},
     "output_type": "execute_result"
    }
   ],
   "source": [
    "import math.abs\n",
    "\n",
    "def sqrt(x: Double) = { // blockus\n",
    "    def sqrtIter(guess: Double) : Double = \n",
    "        if (isGoodEnough(guess)) guess\n",
    "        else sqrtIter(improve(guess))\n",
    "\n",
    "    def isGoodEnough(guess: Double) = \n",
    "        abs(guess*guess - x) / x < 0.001\n",
    "\n",
    "    def improve(guess: Double) = \n",
    "        (guess + x / guess) / 2\n",
    "\n",
    "    sqrtIter(1.0)\n",
    "}\n",
    "\n",
    "println(sqrt(5))\n"
   ]
  },
  {
   "cell_type": "markdown",
   "metadata": {},
   "source": [
    "Note that we don't need to reintroduce the variable *x* in the sqrt function when we define it using a block {}"
   ]
  },
  {
   "cell_type": "markdown",
   "metadata": {},
   "source": [
    "## Tail recursion\n",
    "\n",
    "This is when the last evaluation of a function is *itself*"
   ]
  },
  {
   "cell_type": "code",
   "execution_count": 2,
   "metadata": {},
   "outputs": [
    {
     "name": "stdout",
     "output_type": "stream",
     "text": [
      "120\n"
     ]
    },
    {
     "data": {
      "text/plain": [
       "null"
      ]
     },
     "execution_count": 2,
     "metadata": {},
     "output_type": "execute_result"
    }
   ],
   "source": [
    "def factorial(n: Int): Int = \n",
    "if (n == 0) 1 else n * factorial(n-1)\n",
    "\n",
    "println(factorial(5))"
   ]
  },
  {
   "cell_type": "markdown",
   "metadata": {},
   "source": [
    "This is not tail recursive: the function's \n",
    "last evaluation isn't itself (or another function)\n",
    "\n",
    "Tail-recursive version:"
   ]
  },
  {
   "cell_type": "code",
   "execution_count": 3,
   "metadata": {},
   "outputs": [
    {
     "name": "stdout",
     "output_type": "stream",
     "text": [
      "120\n"
     ]
    },
    {
     "data": {
      "text/plain": [
       "null"
      ]
     },
     "execution_count": 3,
     "metadata": {},
     "output_type": "execute_result"
    }
   ],
   "source": [
    "def factorial_tail(n: Int): Int = {\n",
    "    def loop(acc: Int, n: Int): Int = \n",
    "    if (n == 0) acc // storing variable\n",
    "    else loop(acc*n, n-1)\n",
    "loop(1, n)\n",
    "}\n",
    "    \n",
    "println(factorial_tail(5))"
   ]
  },
  {
   "cell_type": "markdown",
   "metadata": {},
   "source": [
    "## Higher order functions\n",
    "\n",
    "### Functions that take other functions as (part of) their arguments\n",
    "\n",
    "e.g."
   ]
  },
  {
   "cell_type": "code",
   "execution_count": 5,
   "metadata": {},
   "outputs": [
    {
     "name": "stdout",
     "output_type": "stream",
     "text": [
      "35\n"
     ]
    },
    {
     "data": {
      "text/plain": [
       "null"
      ]
     },
     "execution_count": 5,
     "metadata": {},
     "output_type": "execute_result"
    }
   ],
   "source": [
    "def sum(f: Int => Int, a: Int, b: Int): Int = \n",
    "if (a > b) 0\n",
    "else f(a) + sum(f, a+1, b)\n",
    "\n",
    "def cube(x: Int): Int = x * x * x\n",
    "\n",
    "// a higher order function\n",
    "def sumCubes(a: Int, b: Int) = sum(cube, a, b)\n",
    "println(sumCubes(2,3))"
   ]
  },
  {
   "cell_type": "markdown",
   "metadata": {},
   "source": [
    "### We can use anonymous functions to make things less tedious"
   ]
  },
  {
   "cell_type": "code",
   "execution_count": 9,
   "metadata": {},
   "outputs": [
    {
     "name": "stdout",
     "output_type": "stream",
     "text": [
      "35\n"
     ]
    },
    {
     "data": {
      "text/plain": [
       "null"
      ]
     },
     "execution_count": 9,
     "metadata": {},
     "output_type": "execute_result"
    }
   ],
   "source": [
    "// e.g.\n",
    "def sumCubes(a: Int, b: Int) = sum(x => x * x * x, a, b)\n",
    "println(sumCubes(2,3));"
   ]
  },
  {
   "cell_type": "markdown",
   "metadata": {},
   "source": [
    "## Tail-recursive version of sum"
   ]
  },
  {
   "cell_type": "code",
   "execution_count": 12,
   "metadata": {},
   "outputs": [
    {
     "name": "stdout",
     "output_type": "stream",
     "text": [
      "13\n"
     ]
    },
    {
     "data": {
      "text/plain": [
       "null"
      ]
     },
     "execution_count": 12,
     "metadata": {},
     "output_type": "execute_result"
    }
   ],
   "source": [
    "def sum(f: Int => Int, a: Int, b: Int): Int = {\n",
    "    def loop(a: Int, acc: Int): Int = {\n",
    "        if (a > b) acc // accumulator\n",
    "        else loop(a + 1, f(a)+acc)\n",
    "    }\n",
    "        loop(a, 0)   \n",
    "}\n",
    "\n",
    "println(sum(x => x*x, 2, 3))"
   ]
  },
  {
   "cell_type": "markdown",
   "metadata": {},
   "source": [
    "## Currying"
   ]
  },
  {
   "cell_type": "code",
   "execution_count": 14,
   "metadata": {},
   "outputs": [
    {
     "data": {
      "text/plain": [
       "sum: (f: Int => Int)(Int, Int) => Int\n"
      ]
     },
     "execution_count": 14,
     "metadata": {},
     "output_type": "execute_result"
    }
   ],
   "source": [
    "// We can write functions that return locally defined functions\n",
    "\n",
    "def sum(f: Int => Int): (Int, Int) => Int = {\n",
    "    def sumF(a: Int, b: Int): Int = \n",
    "    if (a > b) 0\n",
    "    else f(a) + sumF(a+1, b)\n",
    "    sumF\n",
    "}"
   ]
  },
  {
   "cell_type": "code",
   "execution_count": 16,
   "metadata": {},
   "outputs": [
    {
     "name": "stdout",
     "output_type": "stream",
     "text": [
      "35\n"
     ]
    },
    {
     "data": {
      "text/plain": [
       "null"
      ]
     },
     "execution_count": 16,
     "metadata": {},
     "output_type": "execute_result"
    }
   ],
   "source": [
    "def sumCubes = sum(x => x * x * x)\n",
    "println(sumCubes(2,3))"
   ]
  },
  {
   "cell_type": "code",
   "execution_count": 21,
   "metadata": {},
   "outputs": [
    {
     "data": {
      "text/plain": [
       "36"
      ]
     },
     "execution_count": 21,
     "metadata": {},
     "output_type": "execute_result"
    }
   ],
   "source": [
    "sum(x => x * x * x) (1, 3) // function application associates to the left"
   ]
  },
  {
   "cell_type": "code",
   "execution_count": 41,
   "metadata": {},
   "outputs": [
    {
     "name": "stdout",
     "output_type": "stream",
     "text": [
      "144\n"
     ]
    },
    {
     "data": {
      "text/plain": [
       "null"
      ]
     },
     "execution_count": 41,
     "metadata": {},
     "output_type": "execute_result"
    }
   ],
   "source": [
    "def prod(f: Int => Int)(a: Int, b: Int): Int = {\n",
    "    if (a > b) 1\n",
    "    else f(a) * prod(f)(a+1, b)\n",
    "}\n",
    "\n",
    "println(prod(x=>x*x)(3,4))"
   ]
  },
  {
   "cell_type": "code",
   "execution_count": 45,
   "metadata": {},
   "outputs": [
    {
     "name": "stdout",
     "output_type": "stream",
     "text": [
      "24\n"
     ]
    },
    {
     "data": {
      "text/plain": [
       "null"
      ]
     },
     "execution_count": 45,
     "metadata": {},
     "output_type": "execute_result"
    }
   ],
   "source": [
    "// repeat for factorial in terms of prod\n",
    "def fact(n: Int) = prod(x => x)(1, n)\n",
    "println(fact(4))"
   ]
  },
  {
   "cell_type": "code",
   "execution_count": 46,
   "metadata": {},
   "outputs": [
    {
     "data": {
      "text/plain": [
       "mapReduce: (f: Int => Int, combine: (Int, Int) => Int, zero: Int)(a: Int, b: Int)Int\n"
      ]
     },
     "execution_count": 46,
     "metadata": {},
     "output_type": "execute_result"
    }
   ],
   "source": [
    "// more general function\n",
    "def mapReduce(f: Int => Int, combine: (Int, Int) => Int, zero: Int)(a: Int, b: Int): Int =\n",
    "if (a > b) zero\n",
    "else combine(f(a), mapReduce(f, combine, zero)(a+1, b))"
   ]
  },
  {
   "cell_type": "code",
   "execution_count": 49,
   "metadata": {},
   "outputs": [
    {
     "data": {
      "text/plain": [
       "6"
      ]
     },
     "execution_count": 49,
     "metadata": {},
     "output_type": "execute_result"
    }
   ],
   "source": [
    "mapReduce(x => x, (x, y) => x*y, 1)(2,3)"
   ]
  },
  {
   "cell_type": "code",
   "execution_count": null,
   "metadata": {},
   "outputs": [],
   "source": []
  }
 ],
 "metadata": {
  "kernelspec": {
   "display_name": "Scala",
   "language": "scala",
   "name": "scala"
  },
  "language_info": {
   "codemirror_mode": "text/x-scala",
   "file_extension": ".scala",
   "mimetype": "",
   "name": "Scala",
   "nbconverter_exporter": "",
   "version": "2.11.12"
  },
  "toc": {
   "base_numbering": 1,
   "nav_menu": {},
   "number_sections": false,
   "sideBar": false,
   "skip_h1_title": false,
   "title_cell": "Table of Contents",
   "title_sidebar": "Contents",
   "toc_cell": false,
   "toc_position": {},
   "toc_section_display": false,
   "toc_window_display": false
  }
 },
 "nbformat": 4,
 "nbformat_minor": 2
}
