{
 "cells": [
  {
   "cell_type": "code",
   "execution_count": 1,
   "metadata": {
    "colab": {},
    "colab_type": "code",
    "id": "aiVNM3xToUkz"
   },
   "outputs": [
    {
     "name": "stdout",
     "output_type": "stream",
     "text": [
      "\n",
      "WARNING: The TensorFlow contrib module will not be included in TensorFlow 2.0.\n",
      "For more information, please see:\n",
      "  * https://github.com/tensorflow/community/blob/master/rfcs/20180907-contrib-sunset.md\n",
      "  * https://github.com/tensorflow/addons\n",
      "If you depend on functionality not listed there, please file an issue.\n",
      "\n"
     ]
    }
   ],
   "source": [
    "import collections \n",
    "\n",
    "import tensorflow as tf\n",
    "import tensorflow_probability as tfp\n",
    "tfd = tfp.distributions\n",
    "\n",
    "import numpy as np\n",
    "\n",
    "import matplotlib.pyplot as plt\n",
    "\n",
    "%matplotlib inline"
   ]
  },
  {
   "cell_type": "code",
   "execution_count": 2,
   "metadata": {
    "colab": {},
    "colab_type": "code",
    "id": "dXtBpRRTot-M"
   },
   "outputs": [],
   "source": [
    "tf.compat.v1.enable_eager_execution()"
   ]
  },
  {
   "cell_type": "markdown",
   "metadata": {
    "colab_type": "text",
    "id": "xAZOm34Mo5G3"
   },
   "source": [
    "Basic Distributions"
   ]
  },
  {
   "cell_type": "code",
   "execution_count": 3,
   "metadata": {
    "colab": {
     "base_uri": "https://localhost:8080/",
     "height": 34
    },
    "colab_type": "code",
    "id": "MlBp_8N0oxvb",
    "outputId": "3e3a4c67-3564-4eda-87dd-ed14cd8ac4ac"
   },
   "outputs": [
    {
     "data": {
      "text/plain": [
       "<tfp.distributions.Normal 'Normal/' batch_shape=() event_shape=() dtype=float32>"
      ]
     },
     "execution_count": 3,
     "metadata": {},
     "output_type": "execute_result"
    }
   ],
   "source": [
    "n = tfd.Normal(loc=0., scale=1.)\n",
    "n"
   ]
  },
  {
   "cell_type": "code",
   "execution_count": 4,
   "metadata": {
    "colab": {
     "base_uri": "https://localhost:8080/",
     "height": 351
    },
    "colab_type": "code",
    "id": "ZvOVRHG7pE7f",
    "outputId": "a7277d09-a41e-4e11-d67c-9fa0c7a73408"
   },
   "outputs": [
    {
     "data": {
      "text/plain": [
       "(array([ 8., 11.,  8., 12., 26., 19.,  9.,  1.,  3.,  3.]),\n",
       " array([-2.2278264 , -1.6993319 , -1.1708375 , -0.64234304, -0.11384864,\n",
       "         0.4146458 ,  0.9431402 ,  1.4716346 ,  2.000129  ,  2.5286236 ,\n",
       "         3.057118  ], dtype=float32),\n",
       " <a list of 10 Patch objects>)"
      ]
     },
     "execution_count": 4,
     "metadata": {},
     "output_type": "execute_result"
    },
    {
     "data": {
      "image/png": "[encoded data removed]",
      "text/plain": [
       "<Figure size 432x288 with 1 Axes>"
      ]
     },
     "metadata": {
      "needs_background": "light"
     },
     "output_type": "display_data"
    }
   ],
   "source": [
    "plt.hist(n.sample(100).numpy())"
   ]
  },
  {
   "cell_type": "code",
   "execution_count": 5,
   "metadata": {
    "colab": {
     "base_uri": "https://localhost:8080/",
     "height": 69
    },
    "colab_type": "code",
    "id": "WvP2UHnepG7N",
    "outputId": "1ef9e47d-6e28-434f-8568-a40d2af00f75"
   },
   "outputs": [
    {
     "name": "stdout",
     "output_type": "stream",
     "text": [
      "tf.Tensor(-0.9189385, shape=(), dtype=float32)\n",
      "tf.Tensor(0.3989423, shape=(), dtype=float32)\n"
     ]
    },
    {
     "data": {
      "text/plain": [
       "(None, None)"
      ]
     },
     "execution_count": 5,
     "metadata": {},
     "output_type": "execute_result"
    }
   ],
   "source": [
    "print(n.log_prob(0.)), print(n.prob(0.))"
   ]
  },
  {
   "cell_type": "code",
   "execution_count": 6,
   "metadata": {
    "colab": {
     "base_uri": "https://localhost:8080/",
     "height": 54
    },
    "colab_type": "code",
    "id": "s6Szk4sspT0T",
    "outputId": "5e41a574-3999-479e-defb-9922273508bc"
   },
   "outputs": [
    {
     "data": {
      "text/plain": [
       "<tfp.distributions.MultivariateNormalDiag 'MultivariateNormalDiag/' batch_shape=() event_shape=(2,) dtype=float32>"
      ]
     },
     "execution_count": 6,
     "metadata": {},
     "output_type": "execute_result"
    }
   ],
   "source": [
    "nd = tfd.MultivariateNormalDiag(loc=[0., 10.], scale_diag=[1., 4.])\n",
    "nd"
   ]
  },
  {
   "cell_type": "code",
   "execution_count": 7,
   "metadata": {
    "colab": {
     "base_uri": "https://localhost:8080/",
     "height": 120
    },
    "colab_type": "code",
    "id": "M3W9TH06pW1u",
    "outputId": "a96db03f-f117-4282-9262-a6eba075a148"
   },
   "outputs": [
    {
     "data": {
      "text/plain": [
       "<tf.Tensor: id=172, shape=(5, 2), dtype=float32, numpy=\n",
       "array([[ 0.08767426,  8.470751  ],\n",
       "       [-1.152101  ,  4.8257484 ],\n",
       "       [-1.1560763 , 10.433803  ],\n",
       "       [-0.2287764 , 17.939295  ],\n",
       "       [ 0.05478444,  3.9318676 ]], dtype=float32)>"
      ]
     },
     "execution_count": 7,
     "metadata": {},
     "output_type": "execute_result"
    }
   ],
   "source": [
    "nd.sample(5)"
   ]
  },
  {
   "cell_type": "code",
   "execution_count": 8,
   "metadata": {
    "colab": {
     "base_uri": "https://localhost:8080/",
     "height": 425
    },
    "colab_type": "code",
    "id": "pzH7CLP5p1HY",
    "outputId": "938c5cab-1543-4a40-eaef-903e2ca43532"
   },
   "outputs": [
    {
     "data": {
      "image/png": "[encoded data removed]",
      "text/plain": [
       "<Figure size 432x288 with 1 Axes>"
      ]
     },
     "metadata": {},
     "output_type": "display_data"
    }
   ],
   "source": [
    "nd = tfd.MultivariateNormalFullCovariance(\n",
    "  loc=[0., 5.], covariance_matrix = [[1., .7], [.7, 1.]])\n",
    "data = nd.sample(200)\n",
    "plt.style.use('seaborn-darkgrid')\n",
    "plt.scatter(data[:,0], data[:,1], alpha=0.4)\n",
    "plt.show()"
   ]
  },
  {
   "cell_type": "code",
   "execution_count": 9,
   "metadata": {
    "colab": {
     "base_uri": "https://localhost:8080/",
     "height": 120
    },
    "colab_type": "code",
    "id": "HWgvSicyqLm4",
    "outputId": "8037db1a-a87f-49d3-a21b-9898c38a16ab"
   },
   "outputs": [
    {
     "data": {
      "text/plain": [
       "<tf.Tensor: id=424, shape=(5, 3), dtype=int32, numpy=\n",
       "array([[1, 1, 0],\n",
       "       [0, 1, 1],\n",
       "       [1, 0, 1],\n",
       "       [1, 0, 1],\n",
       "       [1, 1, 1]])>"
      ]
     },
     "execution_count": 9,
     "metadata": {},
     "output_type": "execute_result"
    }
   ],
   "source": [
    "probs_ = [0.3, 0.5, 0.7]\n",
    "b3 = tfd.Bernoulli(probs=probs_)\n",
    "b3.sample(5)"
   ]
  },
  {
   "cell_type": "markdown",
   "metadata": {
    "colab_type": "text",
    "id": "ZOaYMVcFq4aW"
   },
   "source": [
    "###Independent \n",
    "A higher order distribution that yields a new distributions, with the batch shape moved to the event shape \n",
    "\n",
    "Basically it considers the set of distributions as a single object with a single probability for each value (instead of an N long vector of probabilities)"
   ]
  },
  {
   "cell_type": "code",
   "execution_count": 10,
   "metadata": {
    "colab": {
     "base_uri": "https://localhost:8080/",
     "height": 54
    },
    "colab_type": "code",
    "id": "TV8_deAqqdA8",
    "outputId": "87882589-8ce5-4162-bcbe-e44bb3e6f1fa"
   },
   "outputs": [
    {
     "data": {
      "text/plain": [
       "<tfp.distributions.Independent 'IndependentBernoulli/' batch_shape=() event_shape=(3,) dtype=int32>"
      ]
     },
     "execution_count": 10,
     "metadata": {},
     "output_type": "execute_result"
    }
   ],
   "source": [
    "b3_joint = tfd.Independent(b3, reinterpreted_batch_ndims=1)\n",
    "b3_joint"
   ]
  },
  {
   "cell_type": "code",
   "execution_count": 11,
   "metadata": {
    "colab": {
     "base_uri": "https://localhost:8080/",
     "height": 120
    },
    "colab_type": "code",
    "id": "QfSeYdEHrYId",
    "outputId": "0ee6ada7-1192-4f8b-80b1-63e70657ede7"
   },
   "outputs": [
    {
     "data": {
      "text/plain": [
       "<tf.Tensor: id=466, shape=(5, 3), dtype=int32, numpy=\n",
       "array([[1, 1, 0],\n",
       "       [0, 0, 1],\n",
       "       [1, 1, 1],\n",
       "       [0, 1, 0],\n",
       "       [0, 1, 1]])>"
      ]
     },
     "execution_count": 11,
     "metadata": {},
     "output_type": "execute_result"
    }
   ],
   "source": [
    "b3_joint.sample(5)"
   ]
  },
  {
   "cell_type": "code",
   "execution_count": 12,
   "metadata": {
    "colab": {
     "base_uri": "https://localhost:8080/",
     "height": 34
    },
    "colab_type": "code",
    "id": "QtBFULoErZ6U",
    "outputId": "35beaa41-992b-44f2-aee5-45ca81dffec5"
   },
   "outputs": [
    {
     "data": {
      "text/plain": [
       "(array([0.3, 0.5, 0.3], dtype=float32), 0.044999998)"
      ]
     },
     "execution_count": 12,
     "metadata": {},
     "output_type": "execute_result"
    }
   ],
   "source": [
    "b3.prob([1, 1, 0]).numpy(), b3_joint.prob([1,1,0]).numpy()"
   ]
  },
  {
   "cell_type": "code",
   "execution_count": 13,
   "metadata": {
    "colab": {
     "base_uri": "https://localhost:8080/",
     "height": 34
    },
    "colab_type": "code",
    "id": "4CSE8xTxrf6p",
    "outputId": "c8593ed8-40e6-4ff4-c535-957dc6e5d71d"
   },
   "outputs": [
    {
     "data": {
      "text/plain": [
       "(0.045, 0.044999998)"
      ]
     },
     "execution_count": 13,
     "metadata": {},
     "output_type": "execute_result"
    }
   ],
   "source": [
    "np.prod(b3.prob([1,1,0]).numpy()), np.exp(np.sum(b3.log_prob([1,1,0]).numpy()))"
   ]
  },
  {
   "cell_type": "markdown",
   "metadata": {
    "colab_type": "text",
    "id": "1ui5xe0hsRys"
   },
   "source": [
    "Multivariate distributions could be implemented by considering many distributions and then using **Independent** to \"shrink\" them into one\n",
    "\n",
    "### Batches"
   ]
  },
  {
   "cell_type": "code",
   "execution_count": 14,
   "metadata": {
    "colab": {
     "base_uri": "https://localhost:8080/",
     "height": 54
    },
    "colab_type": "code",
    "id": "ZzCzYbWcr8SV",
    "outputId": "81866026-8859-4909-8f49-eb7c60918d3a"
   },
   "outputs": [
    {
     "data": {
      "text/plain": [
       "<tfp.distributions.MultivariateNormalFullCovariance 'MultivariateNormalFullCovariance/' batch_shape=(3,) event_shape=(2,) dtype=float32>"
      ]
     },
     "execution_count": 14,
     "metadata": {},
     "output_type": "execute_result"
    }
   ],
   "source": [
    "nd_batch = tfd.MultivariateNormalFullCovariance(\n",
    "  loc = [[0.0, 0.0], [1.0, 1.0], [2.0, 2.0]],\n",
    "    covariance_matrix = [[[1., .1], [.1, 1.]], \n",
    "                         [[1., .3], [.3, 1.]],\n",
    "                         [[1., .5], [.5, 1.]]]\n",
    ")\n",
    "nd_batch"
   ]
  },
  {
   "cell_type": "code",
   "execution_count": 15,
   "metadata": {
    "colab": {
     "base_uri": "https://localhost:8080/",
     "height": 51
    },
    "colab_type": "code",
    "id": "hv2TWDRbssMK",
    "outputId": "15c91ae1-4169-48bf-db30-ddf94509bcc0"
   },
   "outputs": [
    {
     "name": "stdout",
     "output_type": "stream",
     "text": [
      "Number of independent mv normals: (3,)\n",
      "Dimensionality of each mv normal: (2,)\n"
     ]
    }
   ],
   "source": [
    "print(\"Number of independent mv normals: {}\".format(nd_batch.batch_shape))\n",
    "print(\"Dimensionality of each mv normal: {}\".format(nd_batch.event_shape))"
   ]
  },
  {
   "cell_type": "code",
   "execution_count": 16,
   "metadata": {
    "colab": {
     "base_uri": "https://localhost:8080/",
     "height": 292
    },
    "colab_type": "code",
    "id": "SJhhA2tpswRa",
    "outputId": "10847f5a-6a20-4aa7-9b29-9c05c25be59d"
   },
   "outputs": [
    {
     "data": {
      "text/plain": [
       "<tf.Tensor: id=725, shape=(4, 3, 2), dtype=float32, numpy=\n",
       "array([[[-1.058362  , -0.04939329],\n",
       "        [ 1.788915  ,  1.9655828 ],\n",
       "        [ 1.3072271 ,  2.6431048 ]],\n",
       "\n",
       "       [[ 0.61094075, -0.23791943],\n",
       "        [-1.0792193 ,  1.8068504 ],\n",
       "        [ 1.6057229 ,  1.1178133 ]],\n",
       "\n",
       "       [[-1.0975089 ,  1.0524346 ],\n",
       "        [ 1.423608  ,  1.4527595 ],\n",
       "        [ 0.6435697 ,  1.8856772 ]],\n",
       "\n",
       "       [[ 0.05082565,  0.33795   ],\n",
       "        [ 0.39576572,  0.98614407],\n",
       "        [ 2.3502762 ,  1.1544163 ]]], dtype=float32)>"
      ]
     },
     "execution_count": 16,
     "metadata": {},
     "output_type": "execute_result"
    }
   ],
   "source": [
    "nd_batch.sample(4)"
   ]
  },
  {
   "cell_type": "code",
   "execution_count": 17,
   "metadata": {
    "colab": {
     "base_uri": "https://localhost:8080/",
     "height": 54
    },
    "colab_type": "code",
    "id": "m4gDNP7StU3W",
    "outputId": "97dd817e-ba9a-433e-b8dc-02a45b8f4e9a"
   },
   "outputs": [
    {
     "data": {
      "text/plain": [
       "<tf.Tensor: id=778, shape=(3,), dtype=float32, numpy=array([-1.8328519, -1.7907217, -1.694036 ], dtype=float32)>"
      ]
     },
     "execution_count": 17,
     "metadata": {},
     "output_type": "execute_result"
    }
   ],
   "source": [
    "nd_batch.log_prob([[0.0, 0.0],[1.0, 1.0], [2.0, 2.0]])"
   ]
  },
  {
   "cell_type": "markdown",
   "metadata": {
    "colab_type": "text",
    "id": "neh8DeP7txX6"
   },
   "source": [
    "The argument to to log_prob/prob most be **broadcastable** against Batch x Event shape\n",
    "\n",
    "This means that if we add a tensor input for a log_prob of a  univariate distribution, it will return a \"batch\" of log_probs\n",
    "\n",
    "This scales to distribution shape (i.e. a 2D mv normal will see three 2D vectors as a batch of 3)"
   ]
  },
  {
   "cell_type": "code",
   "execution_count": 18,
   "metadata": {
    "colab": {
     "base_uri": "https://localhost:8080/",
     "height": 69
    },
    "colab_type": "code",
    "id": "80xY3mkYteQy",
    "outputId": "a2f7ebb1-1248-4c18-bf33-9f4b3b2561ea"
   },
   "outputs": [
    {
     "data": {
      "text/plain": [
       "<tf.Tensor: id=800, shape=(2, 3), dtype=float32, numpy=\n",
       "array([[-0.35667494, -0.6931472 , -1.2039728 ],\n",
       "       [-1.2039728 , -0.6931472 , -0.35667494]], dtype=float32)>"
      ]
     },
     "execution_count": 18,
     "metadata": {},
     "output_type": "execute_result"
    }
   ],
   "source": [
    "b3.log_prob([[0.0], [1.0]])"
   ]
  },
  {
   "cell_type": "markdown",
   "metadata": {
    "colab_type": "text",
    "id": "Q0oXpwKNvSSM"
   },
   "source": [
    "### Reshape Bijector"
   ]
  },
  {
   "cell_type": "code",
   "execution_count": 19,
   "metadata": {
    "colab": {
     "base_uri": "https://localhost:8080/",
     "height": 34
    },
    "colab_type": "code",
    "id": "Oqc7RrDoum81",
    "outputId": "72afa4cb-5505-4dca-8dcd-0a839f819d05"
   },
   "outputs": [
    {
     "data": {
      "text/plain": [
       "TensorShape([Dimension(6)])"
      ]
     },
     "execution_count": 19,
     "metadata": {},
     "output_type": "execute_result"
    }
   ],
   "source": [
    "sixw_multinomial = tfd.Multinomial(total_count=1000.,\n",
    "                                  probs=[0.3, 0.25, 0.2, 0.15, 0.08, 0.02])\n",
    "sixw_multinomial.event_shape"
   ]
  },
  {
   "cell_type": "markdown",
   "metadata": {
    "colab_type": "text",
    "id": "-er1U_dVvn4k"
   },
   "source": [
    "We can \"reshape\" the distribution to one with event shape of [2, 3]\n",
    "\n",
    "A Bijector, with a TransformedDistribution represents a differentiable one-to-one function and basically:\n",
    "\n",
    "models p(y) in terms of a known p(x)\n",
    "\n",
    "bijector represents Y = g(X)\n"
   ]
  },
  {
   "cell_type": "code",
   "execution_count": 20,
   "metadata": {
    "colab": {
     "base_uri": "https://localhost:8080/",
     "height": 34
    },
    "colab_type": "code",
    "id": "ayVCYcipu7uZ",
    "outputId": "c81c7989-8d5a-4eac-df81-dd1fb1549de5"
   },
   "outputs": [
    {
     "data": {
      "text/plain": [
       "TensorShape([Dimension(2), Dimension(3)])"
      ]
     },
     "execution_count": 20,
     "metadata": {},
     "output_type": "execute_result"
    }
   ],
   "source": [
    "transformed_multinomial = tfd.TransformedDistribution(\n",
    "    distribution=sixw_multinomial,\n",
    "    bijector=tfp.bijectors.Reshape(event_shape_out=[2,3])\n",
    ")\n",
    "transformed_multinomial.event_shape"
   ]
  },
  {
   "cell_type": "code",
   "execution_count": 21,
   "metadata": {
    "colab": {
     "base_uri": "https://localhost:8080/",
     "height": 51
    },
    "colab_type": "code",
    "id": "3DeeV1JmwfMq",
    "outputId": "97970db1-8816-44a4-e0ac-5ca570543231"
   },
   "outputs": [
    {
     "name": "stdout",
     "output_type": "stream",
     "text": [
      "tf.Tensor(5907.1187, shape=(), dtype=float32)\n",
      "tf.Tensor(5907.1187, shape=(), dtype=float32)\n"
     ]
    }
   ],
   "source": [
    "vals_ = np.random.rand(6)\n",
    "vals_reshaped = vals_.reshape((2,3))\n",
    "\n",
    "print(sixw_multinomial.log_prob(vals_))\n",
    "print(transformed_multinomial.log_prob(vals_reshaped))"
   ]
  },
  {
   "cell_type": "code",
   "execution_count": 0,
   "metadata": {
    "colab": {},
    "colab_type": "code",
    "id": "OSKdlmXrw17T"
   },
   "outputs": [],
   "source": []
  }
 ],
 "metadata": {
  "colab": {
   "name": "TF Distributions tutorial",
   "provenance": [],
   "version": "0.3.2"
  },
  "kernelspec": {
   "display_name": "Python 3",
   "language": "python",
   "name": "python3"
  },
  "language_info": {
   "codemirror_mode": {
    "name": "ipython",
    "version": 3
   },
   "file_extension": ".py",
   "mimetype": "text/x-python",
   "name": "python",
   "nbconvert_exporter": "python",
   "pygments_lexer": "ipython3",
   "version": "3.6.8"
  }
 },
 "nbformat": 4,
 "nbformat_minor": 1
}
