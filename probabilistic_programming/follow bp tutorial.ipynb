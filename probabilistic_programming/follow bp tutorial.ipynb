{
 "cells": [
  {
   "cell_type": "code",
   "execution_count": 1,
   "metadata": {},
   "outputs": [],
   "source": [
    "import sys\n",
    "import numpy as np\n",
    "import matplotlib.pyplot as plt\n",
    "\n",
    "%matplotlib inline"
   ]
  },
  {
   "cell_type": "code",
   "execution_count": 32,
   "metadata": {},
   "outputs": [],
   "source": [
    "max_product = 1 # i.e. yes\n",
    "num_iters = 10\n",
    "unary = np.array([[0.7,0.1,0.2],[0.7,0.2,0.1],[0.2,0.1,0.7],[0.7,0.2,0.1],\n",
    "                  [0.2,0.6,0.2],[0.1,0.8,0.1],[0.4,0.3,0.3],[0.1,0.8,0.1],\n",
    "                  [0.1,0.1,0.8],[0.1,0.5,0.4]])"
   ]
  },
  {
   "cell_type": "code",
   "execution_count": 9,
   "metadata": {},
   "outputs": [
    {
     "data": {
      "text/plain": [
       "<matplotlib.image.AxesImage at 0x23d7f20b828>"
      ]
     },
     "execution_count": 9,
     "metadata": {},
     "output_type": "execute_result"
    },
    {
     "data": {
      "image/png": "[encoded data removed]",
      "text/plain": [
       "<Figure size 432x288 with 1 Axes>"
      ]
     },
     "metadata": {
      "needs_background": "light"
     },
     "output_type": "display_data"
    }
   ],
   "source": [
    "plt.imshow(unary.T)"
   ]
  },
  {
   "cell_type": "code",
   "execution_count": 12,
   "metadata": {},
   "outputs": [],
   "source": [
    "# these are the pairwise factors\n",
    "pairwise = np.array([[0.8,0.2,0.0],[0.2,0.6,0.2],[0.0,0.2,0.8]])\n",
    "[num, dim] = unary.shape # (10, 3)\n",
    "np.set_printoptions(precision=2)"
   ]
  },
  {
   "cell_type": "code",
   "execution_count": 20,
   "metadata": {},
   "outputs": [],
   "source": [
    "variables = dim*np.ones(num,dtype=np.int64) # 10 3's\n",
    "factors = []"
   ]
  },
  {
   "cell_type": "code",
   "execution_count": 21,
   "metadata": {},
   "outputs": [],
   "source": [
    "for i in range(num):\n",
    "    factors.append({'vars':np.array([i]),\n",
    "                   'vals':np.array(unary[i])})\n",
    "    \n",
    "for i in range(num-1):\n",
    "    factors.append({'vars':np.array([i, i+1]),\n",
    "                   'vals':pairwise})"
   ]
  },
  {
   "cell_type": "code",
   "execution_count": 26,
   "metadata": {},
   "outputs": [],
   "source": [
    "# initialize empty messages \n",
    "msg_fv = {}\n",
    "msg_vf = {}\n",
    "ne_var = [[] for i in range(num)]\n",
    "\n",
    "for [f_idx, f] in enumerate(factors):\n",
    "    for v_idx in f['vars']:\n",
    "        msg_fv[(f_idx, v_idx)] = np.ones(variables[v_idx])\n",
    "        msg_vf[(v_idx, f_idx)] = np.ones(variables[v_idx])\n",
    "        ne_var[v_idx].append(f_idx)"
   ]
  },
  {
   "cell_type": "code",
   "execution_count": null,
   "metadata": {},
   "outputs": [],
   "source": [
    "for it in range(num_iters):\n",
    "    for [key,msg] in msg_fv.items():\n",
    "        f_idx = key[0]\n",
    "        v_idx = key[1]\n",
    "        f_vars = factors[f_idx]['vars']\n",
    "        f_vals = factors[f_idx]['vals']\n",
    "        \n",
    "        if np.size(f_vars)==1:\n",
    "            msg_fv[f_idx, v_idx] = f_vals\n",
    "            "
   ]
  },
  {
   "cell_type": "code",
   "execution_count": 37,
   "metadata": {},
   "outputs": [
    {
     "name": "stdout",
     "output_type": "stream",
     "text": [
      "[0.7 0.1 0.2]\n",
      "[0.7 0.2 0.1]\n",
      "[0.2 0.1 0.7]\n",
      "[0.7 0.2 0.1]\n",
      "[0.2 0.6 0.2]\n",
      "[0.1 0.8 0.1]\n",
      "[0.4 0.3 0.3]\n",
      "[0.1 0.8 0.1]\n",
      "[0.1 0.1 0.8]\n",
      "[0.1 0.5 0.4]\n",
      "[[0.8 0.2 0. ]\n",
      " [0.2 0.6 0.2]\n",
      " [0.  0.2 0.8]]\n",
      "[[0.8 0.2 0. ]\n",
      " [0.2 0.6 0.2]\n",
      " [0.  0.2 0.8]]\n",
      "[[0.8 0.2 0. ]\n",
      " [0.2 0.6 0.2]\n",
      " [0.  0.2 0.8]]\n",
      "[[0.8 0.2 0. ]\n",
      " [0.2 0.6 0.2]\n",
      " [0.  0.2 0.8]]\n",
      "[[0.8 0.2 0. ]\n",
      " [0.2 0.6 0.2]\n",
      " [0.  0.2 0.8]]\n",
      "[[0.8 0.2 0. ]\n",
      " [0.2 0.6 0.2]\n",
      " [0.  0.2 0.8]]\n",
      "[[0.8 0.2 0. ]\n",
      " [0.2 0.6 0.2]\n",
      " [0.  0.2 0.8]]\n",
      "[[0.8 0.2 0. ]\n",
      " [0.2 0.6 0.2]\n",
      " [0.  0.2 0.8]]\n",
      "[[0.8 0.2 0. ]\n",
      " [0.2 0.6 0.2]\n",
      " [0.  0.2 0.8]]\n",
      "[[0.8 0.2 0. ]\n",
      " [0.2 0.6 0.2]\n",
      " [0.  0.2 0.8]]\n",
      "[[0.8 0.2 0. ]\n",
      " [0.2 0.6 0.2]\n",
      " [0.  0.2 0.8]]\n",
      "[[0.8 0.2 0. ]\n",
      " [0.2 0.6 0.2]\n",
      " [0.  0.2 0.8]]\n",
      "[[0.8 0.2 0. ]\n",
      " [0.2 0.6 0.2]\n",
      " [0.  0.2 0.8]]\n",
      "[[0.8 0.2 0. ]\n",
      " [0.2 0.6 0.2]\n",
      " [0.  0.2 0.8]]\n",
      "[[0.8 0.2 0. ]\n",
      " [0.2 0.6 0.2]\n",
      " [0.  0.2 0.8]]\n",
      "[[0.8 0.2 0. ]\n",
      " [0.2 0.6 0.2]\n",
      " [0.  0.2 0.8]]\n",
      "[[0.8 0.2 0. ]\n",
      " [0.2 0.6 0.2]\n",
      " [0.  0.2 0.8]]\n",
      "[[0.8 0.2 0. ]\n",
      " [0.2 0.6 0.2]\n",
      " [0.  0.2 0.8]]\n"
     ]
    }
   ],
   "source": [
    "for key, msg in msg_fv.items():\n",
    "    print(factors[key[0]]['vals'])"
   ]
  },
  {
   "cell_type": "code",
   "execution_count": null,
   "metadata": {},
   "outputs": [],
   "source": []
  }
 ],
 "metadata": {
  "kernelspec": {
   "display_name": "Python 3",
   "language": "python",
   "name": "python3"
  },
  "language_info": {
   "codemirror_mode": {
    "name": "ipython",
    "version": 3
   },
   "file_extension": ".py",
   "mimetype": "text/x-python",
   "name": "python",
   "nbconvert_exporter": "python",
   "pygments_lexer": "ipython3",
   "version": "3.6.6"
  }
 },
 "nbformat": 4,
 "nbformat_minor": 2
}
